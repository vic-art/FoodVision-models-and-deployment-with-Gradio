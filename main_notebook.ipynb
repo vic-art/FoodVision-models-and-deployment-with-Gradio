{
 "cells": [
  {
   "cell_type": "markdown",
   "metadata": {
    "id": "f6smnXmA91Iw"
   },
   "source": [
    "# 0. Getting Data"
   ]
  },
  {
   "cell_type": "code",
   "execution_count": null,
   "metadata": {
    "colab": {
     "base_uri": "https://localhost:8080/"
    },
    "id": "ODhyTtRu_oiQ",
    "outputId": "226e127e-6981-48b8-b7ce-269744553f18"
   },
   "outputs": [],
   "source": [
    "# For this notebook to run with updated APIs, we need torch 1.12+ and torchvision 0.13+\n",
    "try:\n",
    "    import torch\n",
    "    import torchvision\n",
    "    assert int(torch.__version__.split(\".\")[1]) >= 12, \"torch version should be 1.12+\"\n",
    "    assert int(torchvision.__version__.split(\".\")[1]) >= 13, \"torchvision version should be 0.13+\"\n",
    "    print(f\"torch version: {torch.__version__}\")\n",
    "    print(f\"torchvision version: {torchvision.__version__}\")\n",
    "except:\n",
    "    print(f\"[INFO] torch/torchvision versions not as required, installing nightly versions.\")\n",
    "    !pip3 install -U torch torchvision torchaudio --extra-index-url https://download.pytorch.org/whl/cu113\n",
    "    import torch\n",
    "    import torchvision\n",
    "    print(f\"torch version: {torch.__version__}\")\n",
    "    print(f\"torchvision version: {torchvision.__version__}\")"
   ]
  },
  {
   "cell_type": "code",
   "execution_count": 6,
   "metadata": {
    "colab": {
     "base_uri": "https://localhost:8080/"
    },
    "id": "t8kA-ZoDAkag",
    "outputId": "da756360-b7f3-4dcf-efaf-eb90f069c961"
   },
   "outputs": [],
   "source": [
    "# Continue with regular imports\n",
    "import matplotlib.pyplot as plt\n",
    "import torch\n",
    "import torchvision\n",
    "\n",
    "from torch import nn\n",
    "from torchvision import transforms\n",
    "\n",
    "# Try to get torchinfo, install it if it doesn't work\n",
    "try:\n",
    "    from torchinfo import summary\n",
    "except:\n",
    "    print(\"[INFO] Couldn't find torchinfo... installing it.\")\n",
    "    !pip install -q torchinfo\n",
    "    from torchinfo import summary\n",
    "\n",
    "# Import scripts \n",
    "    from scripts import data_setup, engine\n",
    "    from scripts.helper_functions import download_data, set_seeds, plot_loss_curves"
   ]
  },
  {
   "cell_type": "code",
   "execution_count": 7,
   "metadata": {
    "colab": {
     "base_uri": "https://localhost:8080/",
     "height": 35
    },
    "id": "-tldUOlWBvu3",
    "outputId": "7f01f4d7-c566-4c5a-c2fc-be7c8bfae518"
   },
   "outputs": [
    {
     "data": {
      "text/plain": [
       "'cuda'"
      ]
     },
     "execution_count": 7,
     "metadata": {},
     "output_type": "execute_result"
    }
   ],
   "source": [
    "device = 'cuda' if torch.cuda.is_available() else 'cpu'\n",
    "device"
   ]
  },
  {
   "cell_type": "markdown",
   "metadata": {},
   "source": [
    "# 1. Foodvision Mini model"
   ]
  },
  {
   "cell_type": "markdown",
   "metadata": {
    "id": "kXVge2IB_izo"
   },
   "source": [
    "## 1.1 Getting data"
   ]
  },
  {
   "cell_type": "markdown",
   "metadata": {
    "id": "HU9WPnYJ_CMt"
   },
   "source": [
    "The dataset we're going to use for deploying a FoodVision Mini model (food classification model) is a sample of pizza, steak and sushi images from the Food101 dataset (101 food classes with 1,000 images each). \n",
    "More specifically, for our purposes we use 20% of images from the pizza, steak and sushi classes selected at random."
   ]
  },
  {
   "cell_type": "code",
   "execution_count": 4,
   "metadata": {
    "colab": {
     "base_uri": "https://localhost:8080/"
    },
    "id": "ytcclblUC8QE",
    "outputId": "7401694e-ea6e-4c24-85ee-b936491d63d7"
   },
   "outputs": [
    {
     "name": "stdout",
     "output_type": "stream",
     "text": [
      "[INFO] data/pizza_steak_sushi_20_percent directory exists, skipping download.\n"
     ]
    },
    {
     "data": {
      "text/plain": [
       "PosixPath('data/pizza_steak_sushi_20_percent')"
      ]
     },
     "execution_count": 4,
     "metadata": {},
     "output_type": "execute_result"
    }
   ],
   "source": [
    "# Download pizza, steak, sushi images from GitHub\n",
    "data_20_percent_path = download_data(source=\"https://github.com/vic-art/Food-classification-model-and-deployment/raw/main/data/pizza_steak_sushi_20_percent.zip\",\n",
    "                                     destination=\"pizza_steak_sushi_20_percent\")\n",
    "\n",
    "data_20_percent_path"
   ]
  },
  {
   "cell_type": "code",
   "execution_count": 5,
   "metadata": {
    "id": "3Qm7aS2OC_js"
   },
   "outputs": [],
   "source": [
    "# Setup directory paths to train and test images\n",
    "train_dir = data_20_percent_path / \"train\"\n",
    "test_dir = data_20_percent_path / \"test\""
   ]
  },
  {
   "cell_type": "markdown",
   "metadata": {
    "id": "bO5hG03sEoTV"
   },
   "source": [
    "## 1.2 FoodVision Mini model deployment outline\n",
    "\n",
    "### Before the deployment we have to respond to the following 3 questions:\n",
    "1. What is the most ideal machine learning model development scenario?\n",
    "2. Where is the model going to go?\n",
    "3. How is the model going to function?\n",
    "\n",
    "**FoodVision Mini ideal use case** A model that performs well and fast. \n",
    "\n",
    "1. Performs well: 95%+ accuracy. \n",
    "2. Fast: as close to real-time (or faster) as possible (30FPS+ or 30ms latency)\n",
    "  * Latency - time for prediction to take place\n",
    "\n",
    "To try and achive these goals, we're going to build 2 model experiments:\n",
    "1. EffNetB2 feature extractor\n",
    "2. ViT feature extractor\n"
   ]
  },
  {
   "cell_type": "markdown",
   "metadata": {
    "id": "lZrdwrX_GoEW"
   },
   "source": [
    "## 1.3 Creating an EffNetB2 feature extractor\n",
    "\n",
    "Feature extractor = a term for a transfer learning model that has its base layers frozen and output or head layers customized to a certain problem."
   ]
  },
  {
   "cell_type": "code",
   "execution_count": 6,
   "metadata": {
    "colab": {
     "base_uri": "https://localhost:8080/",
     "height": 86,
     "referenced_widgets": [
      "3d4e18fa1efd48d2831f1832ef2d758d",
      "aceeb65f1a0045f28a49b87d6ba5b832",
      "8371911a2bae4715b5eda25345f399f0",
      "d4eabe8496874c8ab9661428ebd97fbc",
      "22b216d760b14746b390391bc8938825",
      "2ee9bebc249d42acb44bceaa6c6b2772",
      "717d6ce8019a4ac497900eab86b19f35",
      "310b4d1d4b5741b192d17fdf03634df1",
      "b196db56002e4a698513ed8fef89d672",
      "bfe472f415c6420fba3f1b437d79bedd",
      "059bc47acb0a4c78be9189afdd623ce9"
     ]
    },
    "id": "Q6QYrVz1Gosn",
    "outputId": "fe90084a-ca19-4c49-e214-85d64f05ae9a"
   },
   "outputs": [],
   "source": [
    "# 1.  Setup pretrained EffNetB2 weights\n",
    "effnetb2_weights = torchvision.models.EfficientNet_B2_Weights.DEFAULT\n",
    "\n",
    "# 2.  Get EffNetB2 transforms\n",
    "effnetb2_transforms = effnetb2_weights.transforms()\n",
    "\n",
    "# 3. Setup pretrained model instance\n",
    "effnetb2 = torchvision.models.efficientnet_b2(weights = effnetb2_weights)\n",
    "\n",
    "# 4. Freeze the base layers in the model, this will stop all layers from training\n",
    "for param in effnetb2.parameters():\n",
    "  param.requires_grad = False\n"
   ]
  },
  {
   "cell_type": "code",
   "execution_count": 7,
   "metadata": {
    "colab": {
     "base_uri": "https://localhost:8080/"
    },
    "id": "GITT3WXkMlve",
    "outputId": "4cafd3cc-7d2d-41ea-eb51-e96e1fab0fcf",
    "scrolled": true,
    "tags": []
   },
   "outputs": [
    {
     "data": {
      "text/plain": [
       "============================================================================================================================================\n",
       "Layer (type (var_name))                                      Input Shape          Output Shape         Param #              Trainable\n",
       "============================================================================================================================================\n",
       "EfficientNet (EfficientNet)                                  [1, 3, 224, 224]     [1, 1000]            --                   False\n",
       "├─Sequential (features)                                      [1, 3, 224, 224]     [1, 1408, 7, 7]      --                   False\n",
       "│    └─Conv2dNormActivation (0)                              [1, 3, 224, 224]     [1, 32, 112, 112]    --                   False\n",
       "│    │    └─Conv2d (0)                                       [1, 3, 224, 224]     [1, 32, 112, 112]    (864)                False\n",
       "│    │    └─BatchNorm2d (1)                                  [1, 32, 112, 112]    [1, 32, 112, 112]    (64)                 False\n",
       "│    │    └─SiLU (2)                                         [1, 32, 112, 112]    [1, 32, 112, 112]    --                   --\n",
       "│    └─Sequential (1)                                        [1, 32, 112, 112]    [1, 16, 112, 112]    --                   False\n",
       "│    │    └─MBConv (0)                                       [1, 32, 112, 112]    [1, 16, 112, 112]    (1,448)              False\n",
       "│    │    └─MBConv (1)                                       [1, 16, 112, 112]    [1, 16, 112, 112]    (612)                False\n",
       "│    └─Sequential (2)                                        [1, 16, 112, 112]    [1, 24, 56, 56]      --                   False\n",
       "│    │    └─MBConv (0)                                       [1, 16, 112, 112]    [1, 24, 56, 56]      (6,004)              False\n",
       "│    │    └─MBConv (1)                                       [1, 24, 56, 56]      [1, 24, 56, 56]      (10,710)             False\n",
       "│    │    └─MBConv (2)                                       [1, 24, 56, 56]      [1, 24, 56, 56]      (10,710)             False\n",
       "│    └─Sequential (3)                                        [1, 24, 56, 56]      [1, 48, 28, 28]      --                   False\n",
       "│    │    └─MBConv (0)                                       [1, 24, 56, 56]      [1, 48, 28, 28]      (16,518)             False\n",
       "│    │    └─MBConv (1)                                       [1, 48, 28, 28]      [1, 48, 28, 28]      (43,308)             False\n",
       "│    │    └─MBConv (2)                                       [1, 48, 28, 28]      [1, 48, 28, 28]      (43,308)             False\n",
       "│    └─Sequential (4)                                        [1, 48, 28, 28]      [1, 88, 14, 14]      --                   False\n",
       "│    │    └─MBConv (0)                                       [1, 48, 28, 28]      [1, 88, 14, 14]      (50,300)             False\n",
       "│    │    └─MBConv (1)                                       [1, 88, 14, 14]      [1, 88, 14, 14]      (123,750)            False\n",
       "│    │    └─MBConv (2)                                       [1, 88, 14, 14]      [1, 88, 14, 14]      (123,750)            False\n",
       "│    │    └─MBConv (3)                                       [1, 88, 14, 14]      [1, 88, 14, 14]      (123,750)            False\n",
       "│    └─Sequential (5)                                        [1, 88, 14, 14]      [1, 120, 14, 14]     --                   False\n",
       "│    │    └─MBConv (0)                                       [1, 88, 14, 14]      [1, 120, 14, 14]     (149,158)            False\n",
       "│    │    └─MBConv (1)                                       [1, 120, 14, 14]     [1, 120, 14, 14]     (237,870)            False\n",
       "│    │    └─MBConv (2)                                       [1, 120, 14, 14]     [1, 120, 14, 14]     (237,870)            False\n",
       "│    │    └─MBConv (3)                                       [1, 120, 14, 14]     [1, 120, 14, 14]     (237,870)            False\n",
       "│    └─Sequential (6)                                        [1, 120, 14, 14]     [1, 208, 7, 7]       --                   False\n",
       "│    │    └─MBConv (0)                                       [1, 120, 14, 14]     [1, 208, 7, 7]       (301,406)            False\n",
       "│    │    └─MBConv (1)                                       [1, 208, 7, 7]       [1, 208, 7, 7]       (686,868)            False\n",
       "│    │    └─MBConv (2)                                       [1, 208, 7, 7]       [1, 208, 7, 7]       (686,868)            False\n",
       "│    │    └─MBConv (3)                                       [1, 208, 7, 7]       [1, 208, 7, 7]       (686,868)            False\n",
       "│    │    └─MBConv (4)                                       [1, 208, 7, 7]       [1, 208, 7, 7]       (686,868)            False\n",
       "│    └─Sequential (7)                                        [1, 208, 7, 7]       [1, 352, 7, 7]       --                   False\n",
       "│    │    └─MBConv (0)                                       [1, 208, 7, 7]       [1, 352, 7, 7]       (846,900)            False\n",
       "│    │    └─MBConv (1)                                       [1, 352, 7, 7]       [1, 352, 7, 7]       (1,888,920)          False\n",
       "│    └─Conv2dNormActivation (8)                              [1, 352, 7, 7]       [1, 1408, 7, 7]      --                   False\n",
       "│    │    └─Conv2d (0)                                       [1, 352, 7, 7]       [1, 1408, 7, 7]      (495,616)            False\n",
       "│    │    └─BatchNorm2d (1)                                  [1, 1408, 7, 7]      [1, 1408, 7, 7]      (2,816)              False\n",
       "│    │    └─SiLU (2)                                         [1, 1408, 7, 7]      [1, 1408, 7, 7]      --                   --\n",
       "├─AdaptiveAvgPool2d (avgpool)                                [1, 1408, 7, 7]      [1, 1408, 1, 1]      --                   --\n",
       "├─Sequential (classifier)                                    [1, 1408]            [1, 1000]            --                   False\n",
       "│    └─Dropout (0)                                           [1, 1408]            [1, 1408]            --                   --\n",
       "│    └─Linear (1)                                            [1, 1408]            [1, 1000]            (1,409,000)          False\n",
       "============================================================================================================================================\n",
       "Total params: 9,109,994\n",
       "Trainable params: 0\n",
       "Non-trainable params: 9,109,994\n",
       "Total mult-adds (M): 659.05\n",
       "============================================================================================================================================\n",
       "Input size (MB): 0.60\n",
       "Forward/backward pass size (MB): 156.81\n",
       "Params size (MB): 36.44\n",
       "Estimated Total Size (MB): 193.85\n",
       "============================================================================================================================================"
      ]
     },
     "execution_count": 7,
     "metadata": {},
     "output_type": "execute_result"
    }
   ],
   "source": [
    "from torchinfo import summary\n",
    "\n",
    "\n",
    "summary(effnetb2, \n",
    "        input_size=(1, 3, 224, 224),\n",
    "        col_names=[\"input_size\", \"output_size\", \"num_params\", \"trainable\"],\n",
    "        col_width=20,\n",
    "        row_settings=[\"var_names\"])"
   ]
  },
  {
   "cell_type": "code",
   "execution_count": 8,
   "metadata": {
    "colab": {
     "base_uri": "https://localhost:8080/"
    },
    "id": "kJpagi73jPty",
    "outputId": "817af841-2f80-4772-8598-6c8571bd6f65"
   },
   "outputs": [
    {
     "data": {
      "text/plain": [
       "Sequential(\n",
       "  (0): Dropout(p=0.3, inplace=True)\n",
       "  (1): Linear(in_features=1408, out_features=1000, bias=True)\n",
       ")"
      ]
     },
     "execution_count": 8,
     "metadata": {},
     "output_type": "execute_result"
    }
   ],
   "source": [
    "# Check out EffNetB2 classifier head\n",
    "effnetb2.classifier"
   ]
  },
  {
   "cell_type": "code",
   "execution_count": 9,
   "metadata": {
    "id": "yMyBQzvnM-C6"
   },
   "outputs": [],
   "source": [
    "# Update the classifier head\n",
    "effnetb2.classifier = nn.Sequential(\n",
    "    nn.Dropout(p = 0.3, inplace = True), # keep dropout layer same\n",
    "    nn.Linear(in_features=1408, # keep in_features same \n",
    "              out_features=3, # change out_features to suit our problem (3)\n",
    "              bias=True)\n",
    ")"
   ]
  },
  {
   "cell_type": "markdown",
   "metadata": {
    "id": "KHddmDHPNGyG"
   },
   "source": [
    "### 1.3.1 Creating a function to make an EffNetB2 feature extractor"
   ]
  },
  {
   "cell_type": "markdown",
   "metadata": {
    "id": "Uyoc2L_b4Z_e"
   },
   "source": [
    "We can create a function to make an EffNetB2 feature extractor. This function takes a customizable number of classes and a random seed parameter for reproducibility."
   ]
  },
  {
   "cell_type": "code",
   "execution_count": 10,
   "metadata": {
    "id": "_KmO8IKFSbKI"
   },
   "outputs": [],
   "source": [
    "def create_effnetb2_model(num_classes: int = 3,\n",
    "                          seed: int = 42):\n",
    "  \"\"\"Creates an EfficientNetB2 feature extractor model and transforms.\n",
    "\n",
    "    Args:\n",
    "        num_classes (int, optional): number of classes in the classifier head. \n",
    "            Defaults to 3.\n",
    "        seed (int, optional): random seed value. Defaults to 42.\n",
    "\n",
    "    Returns:\n",
    "        model (torch.nn.Module): EffNetB2 feature extractor model. \n",
    "        transforms (torchvision.transforms): EffNetB2 image transforms.\n",
    "  \"\"\"\n",
    "  # Create EffNetB2 pretrained weights, transforms and model\n",
    "  weights = torchvision.models.EfficientNet_B2_Weights.DEFAULT\n",
    "  transforms = weights.transforms()\n",
    "  model = torchvision.models.efficientnet_b2(weights = weights)\n",
    "\n",
    "  # 4. Freeze the base layers in the model, this will stop all layers from training\n",
    "  for param in model.parameters():\n",
    "    param.requires_grad = False\n",
    "\n",
    "  # 5. Change classifier head with random seed \n",
    "  torch.manual_seed(seed)\n",
    "  model.classifier = nn.Sequential(\n",
    "    nn.Dropout(p = 0.3, inplace = True),\n",
    "    nn.Linear(in_features=1408, out_features=num_classes, bias=True)\n",
    "  )\n",
    "  return model, transforms\n"
   ]
  },
  {
   "cell_type": "code",
   "execution_count": 11,
   "metadata": {
    "id": "FdazoiwIVEXU"
   },
   "outputs": [],
   "source": [
    "effnetb2, effnetb2_transforms = create_effnetb2_model(num_classes = 3, \n",
    "                                                      seed  = 42)"
   ]
  },
  {
   "cell_type": "code",
   "execution_count": 12,
   "metadata": {
    "colab": {
     "base_uri": "https://localhost:8080/"
    },
    "id": "h-ye0uaIVTWK",
    "outputId": "27434e84-5957-4eed-d822-24367c1d8a71"
   },
   "outputs": [
    {
     "data": {
      "text/plain": [
       "ImageClassification(\n",
       "    crop_size=[288]\n",
       "    resize_size=[288]\n",
       "    mean=[0.485, 0.456, 0.406]\n",
       "    std=[0.229, 0.224, 0.225]\n",
       "    interpolation=InterpolationMode.BICUBIC\n",
       ")"
      ]
     },
     "execution_count": 12,
     "metadata": {},
     "output_type": "execute_result"
    }
   ],
   "source": [
    "effnetb2_transforms"
   ]
  },
  {
   "cell_type": "code",
   "execution_count": 13,
   "metadata": {
    "colab": {
     "base_uri": "https://localhost:8080/"
    },
    "id": "fyFID2lVVluk",
    "outputId": "ab80e361-2b21-4e15-f703-ba6d173abad4",
    "scrolled": true,
    "tags": []
   },
   "outputs": [
    {
     "data": {
      "text/plain": [
       "============================================================================================================================================\n",
       "Layer (type (var_name))                                      Input Shape          Output Shape         Param #              Trainable\n",
       "============================================================================================================================================\n",
       "EfficientNet (EfficientNet)                                  [1, 3, 288, 288]     [1, 3]               --                   Partial\n",
       "├─Sequential (features)                                      [1, 3, 288, 288]     [1, 1408, 9, 9]      --                   False\n",
       "│    └─Conv2dNormActivation (0)                              [1, 3, 288, 288]     [1, 32, 144, 144]    --                   False\n",
       "│    │    └─Conv2d (0)                                       [1, 3, 288, 288]     [1, 32, 144, 144]    (864)                False\n",
       "│    │    └─BatchNorm2d (1)                                  [1, 32, 144, 144]    [1, 32, 144, 144]    (64)                 False\n",
       "│    │    └─SiLU (2)                                         [1, 32, 144, 144]    [1, 32, 144, 144]    --                   --\n",
       "│    └─Sequential (1)                                        [1, 32, 144, 144]    [1, 16, 144, 144]    --                   False\n",
       "│    │    └─MBConv (0)                                       [1, 32, 144, 144]    [1, 16, 144, 144]    (1,448)              False\n",
       "│    │    └─MBConv (1)                                       [1, 16, 144, 144]    [1, 16, 144, 144]    (612)                False\n",
       "│    └─Sequential (2)                                        [1, 16, 144, 144]    [1, 24, 72, 72]      --                   False\n",
       "│    │    └─MBConv (0)                                       [1, 16, 144, 144]    [1, 24, 72, 72]      (6,004)              False\n",
       "│    │    └─MBConv (1)                                       [1, 24, 72, 72]      [1, 24, 72, 72]      (10,710)             False\n",
       "│    │    └─MBConv (2)                                       [1, 24, 72, 72]      [1, 24, 72, 72]      (10,710)             False\n",
       "│    └─Sequential (3)                                        [1, 24, 72, 72]      [1, 48, 36, 36]      --                   False\n",
       "│    │    └─MBConv (0)                                       [1, 24, 72, 72]      [1, 48, 36, 36]      (16,518)             False\n",
       "│    │    └─MBConv (1)                                       [1, 48, 36, 36]      [1, 48, 36, 36]      (43,308)             False\n",
       "│    │    └─MBConv (2)                                       [1, 48, 36, 36]      [1, 48, 36, 36]      (43,308)             False\n",
       "│    └─Sequential (4)                                        [1, 48, 36, 36]      [1, 88, 18, 18]      --                   False\n",
       "│    │    └─MBConv (0)                                       [1, 48, 36, 36]      [1, 88, 18, 18]      (50,300)             False\n",
       "│    │    └─MBConv (1)                                       [1, 88, 18, 18]      [1, 88, 18, 18]      (123,750)            False\n",
       "│    │    └─MBConv (2)                                       [1, 88, 18, 18]      [1, 88, 18, 18]      (123,750)            False\n",
       "│    │    └─MBConv (3)                                       [1, 88, 18, 18]      [1, 88, 18, 18]      (123,750)            False\n",
       "│    └─Sequential (5)                                        [1, 88, 18, 18]      [1, 120, 18, 18]     --                   False\n",
       "│    │    └─MBConv (0)                                       [1, 88, 18, 18]      [1, 120, 18, 18]     (149,158)            False\n",
       "│    │    └─MBConv (1)                                       [1, 120, 18, 18]     [1, 120, 18, 18]     (237,870)            False\n",
       "│    │    └─MBConv (2)                                       [1, 120, 18, 18]     [1, 120, 18, 18]     (237,870)            False\n",
       "│    │    └─MBConv (3)                                       [1, 120, 18, 18]     [1, 120, 18, 18]     (237,870)            False\n",
       "│    └─Sequential (6)                                        [1, 120, 18, 18]     [1, 208, 9, 9]       --                   False\n",
       "│    │    └─MBConv (0)                                       [1, 120, 18, 18]     [1, 208, 9, 9]       (301,406)            False\n",
       "│    │    └─MBConv (1)                                       [1, 208, 9, 9]       [1, 208, 9, 9]       (686,868)            False\n",
       "│    │    └─MBConv (2)                                       [1, 208, 9, 9]       [1, 208, 9, 9]       (686,868)            False\n",
       "│    │    └─MBConv (3)                                       [1, 208, 9, 9]       [1, 208, 9, 9]       (686,868)            False\n",
       "│    │    └─MBConv (4)                                       [1, 208, 9, 9]       [1, 208, 9, 9]       (686,868)            False\n",
       "│    └─Sequential (7)                                        [1, 208, 9, 9]       [1, 352, 9, 9]       --                   False\n",
       "│    │    └─MBConv (0)                                       [1, 208, 9, 9]       [1, 352, 9, 9]       (846,900)            False\n",
       "│    │    └─MBConv (1)                                       [1, 352, 9, 9]       [1, 352, 9, 9]       (1,888,920)          False\n",
       "│    └─Conv2dNormActivation (8)                              [1, 352, 9, 9]       [1, 1408, 9, 9]      --                   False\n",
       "│    │    └─Conv2d (0)                                       [1, 352, 9, 9]       [1, 1408, 9, 9]      (495,616)            False\n",
       "│    │    └─BatchNorm2d (1)                                  [1, 1408, 9, 9]      [1, 1408, 9, 9]      (2,816)              False\n",
       "│    │    └─SiLU (2)                                         [1, 1408, 9, 9]      [1, 1408, 9, 9]      --                   --\n",
       "├─AdaptiveAvgPool2d (avgpool)                                [1, 1408, 9, 9]      [1, 1408, 1, 1]      --                   --\n",
       "├─Sequential (classifier)                                    [1, 1408]            [1, 3]               --                   True\n",
       "│    └─Dropout (0)                                           [1, 1408]            [1, 1408]            --                   --\n",
       "│    └─Linear (1)                                            [1, 1408]            [1, 3]               4,227                True\n",
       "============================================================================================================================================\n",
       "Total params: 7,705,221\n",
       "Trainable params: 4,227\n",
       "Non-trainable params: 7,700,994\n",
       "Total mult-adds (G): 1.09\n",
       "============================================================================================================================================\n",
       "Input size (MB): 1.00\n",
       "Forward/backward pass size (MB): 259.12\n",
       "Params size (MB): 30.82\n",
       "Estimated Total Size (MB): 290.93\n",
       "============================================================================================================================================"
      ]
     },
     "execution_count": 13,
     "metadata": {},
     "output_type": "execute_result"
    }
   ],
   "source": [
    "from torchinfo import summary\n",
    "\n",
    "summary(effnetb2, \n",
    "        input_size=(1, 3, 288, 288),\n",
    "        col_names=[\"input_size\", \"output_size\", \"num_params\", \"trainable\"],\n",
    "        col_width=20,\n",
    "        row_settings=[\"var_names\"])"
   ]
  },
  {
   "cell_type": "markdown",
   "metadata": {
    "id": "LRtXwQyhVn6p"
   },
   "source": [
    "### 1.3.2 Creating DataLoaders for EffNetB2"
   ]
  },
  {
   "cell_type": "markdown",
   "metadata": {
    "id": "Dc0BGSUsEqgb"
   },
   "source": [
    "We can create DataLoaders using `data_setup.create_dataloaders()` function.\n",
    "We use a `batch_size` of 32 images and transform images using `effnetb2_transforms` so they're in the same format as the images our effnetb2 model was trained on."
   ]
  },
  {
   "cell_type": "code",
   "execution_count": 14,
   "metadata": {
    "id": "TvtADLCGrJED"
   },
   "outputs": [],
   "source": [
    "from scripts import data_setup\n",
    "\n",
    "train_dataloader_effnetb2, test_dataloader_effnetb2, class_names = data_setup.create_dataloaders(train_dir = train_dir, \n",
    "                                                                                                 test_dir = test_dir,\n",
    "                                                                                                 transform = effnetb2_transforms,\n",
    "                                                                                                 batch_size = 32)\n"
   ]
  },
  {
   "cell_type": "code",
   "execution_count": 15,
   "metadata": {
    "colab": {
     "base_uri": "https://localhost:8080/"
    },
    "id": "YzVNinvIrs-l",
    "outputId": "eb57eab8-e819-4060-cf7f-3cb9de9f0631"
   },
   "outputs": [
    {
     "data": {
      "text/plain": [
       "(15, 5, ['pizza', 'steak', 'sushi'])"
      ]
     },
     "execution_count": 15,
     "metadata": {},
     "output_type": "execute_result"
    }
   ],
   "source": [
    "len(train_dataloader_effnetb2), len(test_dataloader_effnetb2), class_names"
   ]
  },
  {
   "cell_type": "markdown",
   "metadata": {
    "id": "hD7lDwO-r1Tn"
   },
   "source": [
    "### 1.3.3 Training EffNetB2 feature extractor"
   ]
  },
  {
   "cell_type": "markdown",
   "metadata": {
    "id": "Ba15BWF-OnOx"
   },
   "source": [
    "We train EffNetB2 feature extractor model for 10 epochs using `engine.train()` function with `torch.optim.Adam()` and a learning rate of 1e-3 as our optimizer and `torch.nn.CrossEntropyLoss()` as our loss function."
   ]
  },
  {
   "cell_type": "code",
   "execution_count": 16,
   "metadata": {
    "colab": {
     "base_uri": "https://localhost:8080/",
     "height": 223,
     "referenced_widgets": [
      "eac2dc7bfb5d4023a3f8d1993f3b8754",
      "5b7101cfc22141db90ea8f057377500b",
      "5ff5cd880d41430694b0fb126c808003",
      "e0f510bf045948b0b18b6f7ad1796216",
      "6823eedfc6204225a951ef61d3e89aab",
      "781ad10d8e5e45ffa73ba06e99b00e19",
      "1e222814a26c4bf396a71d80d96b3dd3",
      "e6b6a11e802042c5b3477f68c42afdcc",
      "f7e0abed66f547b381367d1088609afa",
      "3cc9a8f10b6541b6ba246926ccbde757",
      "a797060654814a1fb44b0c0b7acf7542"
     ]
    },
    "id": "q7ZD4ud9sO2p",
    "outputId": "f7ab4719-170b-45d8-ba4f-d1f3d7eea5be"
   },
   "outputs": [
    {
     "name": "stderr",
     "output_type": "stream",
     "text": [
      " 10%|█         | 1/10 [00:02<00:22,  2.51s/it]"
     ]
    },
    {
     "name": "stdout",
     "output_type": "stream",
     "text": [
      "Epoch: 1 | train_loss: 0.9843 | train_acc: 0.5667 | test_loss: 0.7410 | test_acc: 0.9347\n"
     ]
    },
    {
     "name": "stderr",
     "output_type": "stream",
     "text": [
      " 20%|██        | 2/10 [00:04<00:18,  2.31s/it]"
     ]
    },
    {
     "name": "stdout",
     "output_type": "stream",
     "text": [
      "Epoch: 2 | train_loss: 0.7171 | train_acc: 0.8396 | test_loss: 0.5877 | test_acc: 0.9409\n"
     ]
    },
    {
     "name": "stderr",
     "output_type": "stream",
     "text": [
      " 30%|███       | 3/10 [00:06<00:15,  2.22s/it]"
     ]
    },
    {
     "name": "stdout",
     "output_type": "stream",
     "text": [
      "Epoch: 3 | train_loss: 0.5878 | train_acc: 0.8938 | test_loss: 0.4901 | test_acc: 0.9563\n"
     ]
    },
    {
     "name": "stderr",
     "output_type": "stream",
     "text": [
      " 40%|████      | 4/10 [00:08<00:12,  2.17s/it]"
     ]
    },
    {
     "name": "stdout",
     "output_type": "stream",
     "text": [
      "Epoch: 4 | train_loss: 0.4481 | train_acc: 0.9125 | test_loss: 0.4349 | test_acc: 0.9409\n"
     ]
    },
    {
     "name": "stderr",
     "output_type": "stream",
     "text": [
      " 50%|█████     | 5/10 [00:10<00:10,  2.14s/it]"
     ]
    },
    {
     "name": "stdout",
     "output_type": "stream",
     "text": [
      "Epoch: 5 | train_loss: 0.4302 | train_acc: 0.9062 | test_loss: 0.3921 | test_acc: 0.9443\n"
     ]
    },
    {
     "name": "stderr",
     "output_type": "stream",
     "text": [
      " 60%|██████    | 6/10 [00:13<00:08,  2.11s/it]"
     ]
    },
    {
     "name": "stdout",
     "output_type": "stream",
     "text": [
      "Epoch: 6 | train_loss: 0.4399 | train_acc: 0.8875 | test_loss: 0.3523 | test_acc: 0.9597\n"
     ]
    },
    {
     "name": "stderr",
     "output_type": "stream",
     "text": [
      " 70%|███████   | 7/10 [00:15<00:06,  2.12s/it]"
     ]
    },
    {
     "name": "stdout",
     "output_type": "stream",
     "text": [
      "Epoch: 7 | train_loss: 0.4254 | train_acc: 0.8792 | test_loss: 0.3267 | test_acc: 0.9563\n"
     ]
    },
    {
     "name": "stderr",
     "output_type": "stream",
     "text": [
      " 80%|████████  | 8/10 [00:17<00:04,  2.12s/it]"
     ]
    },
    {
     "name": "stdout",
     "output_type": "stream",
     "text": [
      "Epoch: 8 | train_loss: 0.3900 | train_acc: 0.8979 | test_loss: 0.3462 | test_acc: 0.9443\n"
     ]
    },
    {
     "name": "stderr",
     "output_type": "stream",
     "text": [
      " 90%|█████████ | 9/10 [00:19<00:02,  2.13s/it]"
     ]
    },
    {
     "name": "stdout",
     "output_type": "stream",
     "text": [
      "Epoch: 9 | train_loss: 0.3769 | train_acc: 0.8771 | test_loss: 0.3130 | test_acc: 0.9131\n"
     ]
    },
    {
     "name": "stderr",
     "output_type": "stream",
     "text": [
      "100%|██████████| 10/10 [00:21<00:00,  2.16s/it]"
     ]
    },
    {
     "name": "stdout",
     "output_type": "stream",
     "text": [
      "Epoch: 10 | train_loss: 0.3769 | train_acc: 0.8625 | test_loss: 0.2814 | test_acc: 0.9688\n"
     ]
    },
    {
     "name": "stderr",
     "output_type": "stream",
     "text": [
      "\n"
     ]
    }
   ],
   "source": [
    "from torch.optim import optimizer\n",
    "from scripts import engine\n",
    "\n",
    "# Loss function\n",
    "loss_fn = torch.nn.CrossEntropyLoss()\n",
    "\n",
    "# Optimizer\n",
    "optimizer = torch.optim.Adam(params = effnetb2.parameters(), \n",
    "                             lr = 1e-3)\n",
    "\n",
    "# Training function\n",
    "set_seeds()\n",
    "effnetb2_results = engine.train(model = effnetb2,\n",
    "                                train_dataloader = train_dataloader_effnetb2,\n",
    "                                test_dataloader = test_dataloader_effnetb2,\n",
    "                                epochs = 10,\n",
    "                                loss_fn = loss_fn,\n",
    "                                optimizer = optimizer,\n",
    "                                device = device)\n"
   ]
  },
  {
   "cell_type": "markdown",
   "metadata": {
    "id": "Aou9Uv-Ass1w"
   },
   "source": [
    "### 1.3.4 Inspecting EffNetB2 Loss curves"
   ]
  },
  {
   "cell_type": "code",
   "execution_count": 17,
   "metadata": {
    "colab": {
     "base_uri": "https://localhost:8080/",
     "height": 458
    },
    "id": "07JWhrG3vk1G",
    "outputId": "8968184c-3250-41ac-df52-a0f8b722c458"
   },
   "outputs": [
    {
     "data": {
      "image/png": "[encoded data removed]",
      "text/plain": [
       "<Figure size 1500x700 with 2 Axes>"
      ]
     },
     "metadata": {},
     "output_type": "display_data"
    }
   ],
   "source": [
    "from scripts.helper_functions import plot_loss_curves\n",
    "plot_loss_curves(effnetb2_results)"
   ]
  },
  {
   "cell_type": "markdown",
   "metadata": {
    "id": "1_gXdb9vGQYU"
   },
   "source": [
    "It looks like the model is performing quite well and perhaps could benefit from a little longer training. "
   ]
  },
  {
   "cell_type": "markdown",
   "metadata": {
    "id": "Nz0RvpzyIEnL"
   },
   "source": [
    "We can use the save_model() function for saving the model to the file so we can import and use it later."
   ]
  },
  {
   "cell_type": "markdown",
   "metadata": {},
   "source": [
    "### 1.3.5 Saving EffNetB2 feature extractor"
   ]
  },
  {
   "cell_type": "code",
   "execution_count": 18,
   "metadata": {
    "colab": {
     "base_uri": "https://localhost:8080/"
    },
    "id": "nG-gl-VZwHvd",
    "outputId": "3e530465-49c1-41e0-8c43-66e0fca3891f"
   },
   "outputs": [
    {
     "name": "stdout",
     "output_type": "stream",
     "text": [
      "[INFO] Saving model to: models/pretrained_effnetb2_feature_exractor_pizza_steak_sushi_20_percent.pth\n"
     ]
    }
   ],
   "source": [
    "from scripts.helper_functions import save_model\n",
    "\n",
    "# Save the model\n",
    "save_model(model = effnetb2, \n",
    "          target_dir = \"models\",\n",
    "          model_name = \"pretrained_effnetb2_feature_exractor_pizza_steak_sushi_20_percent.pth\")"
   ]
  },
  {
   "cell_type": "markdown",
   "metadata": {
    "id": "IK2nyHQByVmi"
   },
   "source": [
    "### 1.3.6 Inspecting the size of EffNet feature extractor\n",
    "\n",
    "If we are deploying our model on a mobile device/website, there may be limited compute resourses, that's why we need to check the model's size.\n",
    "\n",
    "So if the model is too large, we may not be able to store/run it on the target device. "
   ]
  },
  {
   "cell_type": "code",
   "execution_count": 19,
   "metadata": {
    "colab": {
     "base_uri": "https://localhost:8080/"
    },
    "id": "ibLYVtA8zmBf",
    "outputId": "d925c3ce-719d-483f-aba6-e63f811a3b06"
   },
   "outputs": [
    {
     "name": "stdout",
     "output_type": "stream",
     "text": [
      "Pretrained EffNetB2 model size: 29 MB\n"
     ]
    }
   ],
   "source": [
    "from pathlib import Path\n",
    "\n",
    "# Get the model size in bytes\n",
    "\n",
    "pretrained_effnetb2_model_size = Path(\"models/pretrained_effnetb2_feature_exractor_pizza_steak_sushi_20_percent.pth\").stat().st_size // (1024 * 1024)\n",
    "print(f\"Pretrained EffNetB2 model size: {pretrained_effnetb2_model_size} MB\")\n"
   ]
  },
  {
   "cell_type": "markdown",
   "metadata": {
    "id": "ZamfW7bx8r8V"
   },
   "source": [
    "### 1.3.7 Collecting EffNetB2 feature extractor stats"
   ]
  },
  {
   "cell_type": "markdown",
   "metadata": {
    "id": "TqpRu81tKC3R"
   },
   "source": [
    "We can count the number of weights in effnetb2.parameters() using torch.numel() method."
   ]
  },
  {
   "cell_type": "code",
   "execution_count": 20,
   "metadata": {
    "id": "qoZsSQ919Tio"
   },
   "outputs": [],
   "source": [
    "# Count number of parameters in EffNetB2\n",
    "effnetb2_total_params = sum(torch.numel(param) for param in effnetb2.parameters())"
   ]
  },
  {
   "cell_type": "code",
   "execution_count": 21,
   "metadata": {
    "colab": {
     "base_uri": "https://localhost:8080/"
    },
    "id": "zlcw-Wt6K9yp",
    "outputId": "001bb9dd-601d-4efe-ea9a-edcef484532c"
   },
   "outputs": [
    {
     "data": {
      "text/plain": [
       "7705221"
      ]
     },
     "execution_count": 21,
     "metadata": {},
     "output_type": "execute_result"
    }
   ],
   "source": [
    "effnetb2_total_params"
   ]
  },
  {
   "cell_type": "markdown",
   "metadata": {
    "id": "1uOeKoRQLFOr"
   },
   "source": [
    "We create a dictionary to store main EffNetB2's statistics, including test loss, test accuracy, model size and number of parameters in order to compare them with the corresponding statistics of the upcoming ViT feature extractor."
   ]
  },
  {
   "cell_type": "code",
   "execution_count": 22,
   "metadata": {
    "colab": {
     "base_uri": "https://localhost:8080/"
    },
    "id": "rbA7d2Cy_IXa",
    "outputId": "9b00e6e1-e325-406b-a0fa-8c3517a82b87"
   },
   "outputs": [
    {
     "data": {
      "text/plain": [
       "{'test_loss': 0.28141466379165647,\n",
       " 'test_acc': 0.96875,\n",
       " 'number_of_parameters': 7705221,\n",
       " 'model_size (MB)': 29}"
      ]
     },
     "execution_count": 22,
     "metadata": {},
     "output_type": "execute_result"
    }
   ],
   "source": [
    "# Create a dictionary with EffNetB2 statistics\n",
    "effnetb2_stats = {\"test_loss\": effnetb2_results[\"test_loss\"][-1],\n",
    "                  \"test_acc\": effnetb2_results[\"test_acc\"][-1],\n",
    "                  \"number_of_parameters\": effnetb2_total_params,\n",
    "                  \"model_size (MB)\": pretrained_effnetb2_model_size}\n",
    "effnetb2_stats"
   ]
  },
  {
   "cell_type": "markdown",
   "metadata": {
    "id": "dCvj0fw3L4In"
   },
   "source": [
    "Our model performs with over 95% accuracy. The first criterion is met. "
   ]
  },
  {
   "cell_type": "markdown",
   "metadata": {
    "id": "exx_fdni_eEm"
   },
   "source": [
    "## 1.4 Create a ViT feature extractor"
   ]
  },
  {
   "cell_type": "markdown",
   "metadata": {
    "id": "JvsaiY-IMo2W"
   },
   "source": [
    "We'll start by creating a function called `create_vit_model()` which will be very similar to `create_effnetb2_model()`. "
   ]
  },
  {
   "cell_type": "code",
   "execution_count": 23,
   "metadata": {
    "colab": {
     "base_uri": "https://localhost:8080/"
    },
    "id": "vYONLUtj_i7y",
    "outputId": "31d1f1a3-e061-45a0-b203-176bd48877d7"
   },
   "outputs": [
    {
     "data": {
      "text/plain": [
       "Sequential(\n",
       "  (head): Linear(in_features=768, out_features=1000, bias=True)\n",
       ")"
      ]
     },
     "execution_count": 23,
     "metadata": {},
     "output_type": "execute_result"
    }
   ],
   "source": [
    "# Check out ViT heads layer\n",
    "vit = torchvision.models.vit_b_16()\n",
    "vit.heads"
   ]
  },
  {
   "cell_type": "code",
   "execution_count": 24,
   "metadata": {
    "id": "8d6y-fkNcFQv"
   },
   "outputs": [],
   "source": [
    "def create_vit_model(num_classes:int=3, \n",
    "                     seed:int=42):\n",
    "    \"\"\"Creates a ViT-B/16 feature extractor model and transforms.\n",
    "\n",
    "    Args:\n",
    "        num_classes (int, optional): number of target classes. Defaults to 3.\n",
    "        seed (int, optional): random seed value for output layer. Defaults to 42.\n",
    "\n",
    "    Returns:\n",
    "        model (torch.nn.Module): ViT-B/16 feature extractor model. \n",
    "        transforms (torchvision.transforms): ViT-B/16 image transforms.\n",
    "    \"\"\"\n",
    "    # Create ViT_B_16 pretrained weights, transforms and model\n",
    "    weights = torchvision.models.ViT_B_16_Weights.DEFAULT\n",
    "    transforms = weights.transforms()\n",
    "    model = torchvision.models.vit_b_16(weights=weights)\n",
    "\n",
    "    # Freeze all layers in model\n",
    "    for param in model.parameters():\n",
    "        param.requires_grad = False\n",
    "\n",
    "    # Change classifier head to suit our needs (this will be trainable)\n",
    "    torch.manual_seed(seed)\n",
    "    model.heads = nn.Sequential(nn.Linear(in_features=768, # keep this the same as original model\n",
    "                                          out_features=num_classes)) # update to reflect target number of classes\n",
    "    \n",
    "    return model, transforms"
   ]
  },
  {
   "cell_type": "code",
   "execution_count": 25,
   "metadata": {
    "id": "etlofK07euCu"
   },
   "outputs": [],
   "source": [
    "# Create ViT model and transforms\n",
    "vit, vit_transforms = create_vit_model(num_classes=3,\n",
    "                                       seed=42)"
   ]
  },
  {
   "cell_type": "code",
   "execution_count": 26,
   "metadata": {
    "colab": {
     "base_uri": "https://localhost:8080/"
    },
    "id": "SDdr-nAYe1Kd",
    "outputId": "66d9d89b-de98-4081-c644-0128b5f9794a",
    "scrolled": true,
    "tags": []
   },
   "outputs": [
    {
     "data": {
      "text/plain": [
       "============================================================================================================================================\n",
       "Layer (type (var_name))                                      Input Shape          Output Shape         Param #              Trainable\n",
       "============================================================================================================================================\n",
       "VisionTransformer (VisionTransformer)                        [1, 3, 224, 224]     [1, 3]               768                  Partial\n",
       "├─Conv2d (conv_proj)                                         [1, 3, 224, 224]     [1, 768, 14, 14]     (590,592)            False\n",
       "├─Encoder (encoder)                                          [1, 197, 768]        [1, 197, 768]        151,296              False\n",
       "│    └─Dropout (dropout)                                     [1, 197, 768]        [1, 197, 768]        --                   --\n",
       "│    └─Sequential (layers)                                   [1, 197, 768]        [1, 197, 768]        --                   False\n",
       "│    │    └─EncoderBlock (encoder_layer_0)                   [1, 197, 768]        [1, 197, 768]        (7,087,872)          False\n",
       "│    │    └─EncoderBlock (encoder_layer_1)                   [1, 197, 768]        [1, 197, 768]        (7,087,872)          False\n",
       "│    │    └─EncoderBlock (encoder_layer_2)                   [1, 197, 768]        [1, 197, 768]        (7,087,872)          False\n",
       "│    │    └─EncoderBlock (encoder_layer_3)                   [1, 197, 768]        [1, 197, 768]        (7,087,872)          False\n",
       "│    │    └─EncoderBlock (encoder_layer_4)                   [1, 197, 768]        [1, 197, 768]        (7,087,872)          False\n",
       "│    │    └─EncoderBlock (encoder_layer_5)                   [1, 197, 768]        [1, 197, 768]        (7,087,872)          False\n",
       "│    │    └─EncoderBlock (encoder_layer_6)                   [1, 197, 768]        [1, 197, 768]        (7,087,872)          False\n",
       "│    │    └─EncoderBlock (encoder_layer_7)                   [1, 197, 768]        [1, 197, 768]        (7,087,872)          False\n",
       "│    │    └─EncoderBlock (encoder_layer_8)                   [1, 197, 768]        [1, 197, 768]        (7,087,872)          False\n",
       "│    │    └─EncoderBlock (encoder_layer_9)                   [1, 197, 768]        [1, 197, 768]        (7,087,872)          False\n",
       "│    │    └─EncoderBlock (encoder_layer_10)                  [1, 197, 768]        [1, 197, 768]        (7,087,872)          False\n",
       "│    │    └─EncoderBlock (encoder_layer_11)                  [1, 197, 768]        [1, 197, 768]        (7,087,872)          False\n",
       "│    └─LayerNorm (ln)                                        [1, 197, 768]        [1, 197, 768]        (1,536)              False\n",
       "├─Sequential (heads)                                         [1, 768]             [1, 3]               --                   True\n",
       "│    └─Linear (0)                                            [1, 768]             [1, 3]               2,307                True\n",
       "============================================================================================================================================\n",
       "Total params: 85,800,963\n",
       "Trainable params: 2,307\n",
       "Non-trainable params: 85,798,656\n",
       "Total mult-adds (M): 172.47\n",
       "============================================================================================================================================\n",
       "Input size (MB): 0.60\n",
       "Forward/backward pass size (MB): 104.09\n",
       "Params size (MB): 229.20\n",
       "Estimated Total Size (MB): 333.89\n",
       "============================================================================================================================================"
      ]
     },
     "execution_count": 26,
     "metadata": {},
     "output_type": "execute_result"
    }
   ],
   "source": [
    "from torchinfo import summary\n",
    "\n",
    "# Print ViT feature extractor model summary \n",
    "summary(vit, \n",
    "        input_size=(1, 3, 224, 224),\n",
    "        col_names=[\"input_size\", \"output_size\", \"num_params\", \"trainable\"],\n",
    "        col_width=20,\n",
    "        row_settings=[\"var_names\"])"
   ]
  },
  {
   "cell_type": "markdown",
   "metadata": {
    "id": "y9wBp2QKfOgV"
   },
   "source": [
    "### 1.4.1 Create DataLoaders for ViT"
   ]
  },
  {
   "cell_type": "code",
   "execution_count": 27,
   "metadata": {
    "id": "g3e-5Nkbfzzt"
   },
   "outputs": [],
   "source": [
    "# Setup ViT DataLoaders\n",
    "from scripts import data_setup\n",
    "train_dataloader_vit, test_dataloader_vit, class_names = data_setup.create_dataloaders(train_dir=train_dir,\n",
    "                                                                                       test_dir=test_dir,\n",
    "                                                                                       transform=vit_transforms,\n",
    "                                                                                       batch_size=32)"
   ]
  },
  {
   "cell_type": "markdown",
   "metadata": {
    "id": "i_HVyI7ngg20"
   },
   "source": [
    "### 1.4.2 Training ViT feature extractor"
   ]
  },
  {
   "cell_type": "markdown",
   "metadata": {
    "id": "g7Fv4wDpOLC0"
   },
   "source": [
    "We train ViT feature extractor model for 10 epochs using `engine.train()` function with `torch.optim.Adam()` and a learning rate of 1e-3 as our optimizer and `torch.nn.CrossEntropyLoss()` as our loss function."
   ]
  },
  {
   "cell_type": "code",
   "execution_count": 28,
   "metadata": {
    "colab": {
     "base_uri": "https://localhost:8080/",
     "height": 223,
     "referenced_widgets": [
      "bd406ca05ee64e6784ea601fe2c23eeb",
      "6aac1283ebf2458fb92eb2e4eb228952",
      "48148624538844e9b90efb55f0488294",
      "373d45a8fee549afacc37b1598cf9285",
      "8203109d03044ac9b6fe8c0d3552c6de",
      "a61e2f8a5e03401ca2e3182cd6d305db",
      "3daa02d841a24969a0a7ae0dcd140b6b",
      "39924c0c7c844843a9f45fefa63b34b6",
      "bcc5244e1af4484b952079662c2ca822",
      "75cc221e80a14a92b3a4e4c9cf775d41",
      "009e0e9c67f64f29ad75f11ed05b8b6e"
     ]
    },
    "id": "JZZ7n76wgrj7",
    "outputId": "71dc3ce6-2c43-47e8-b438-25d34bbf7fdb"
   },
   "outputs": [
    {
     "name": "stderr",
     "output_type": "stream",
     "text": [
      " 10%|█         | 1/10 [00:03<00:28,  3.12s/it]"
     ]
    },
    {
     "name": "stdout",
     "output_type": "stream",
     "text": [
      "Epoch: 1 | train_loss: 0.7020 | train_acc: 0.7521 | test_loss: 0.2714 | test_acc: 0.9381\n"
     ]
    },
    {
     "name": "stderr",
     "output_type": "stream",
     "text": [
      " 20%|██        | 2/10 [00:05<00:23,  2.96s/it]"
     ]
    },
    {
     "name": "stdout",
     "output_type": "stream",
     "text": [
      "Epoch: 2 | train_loss: 0.2532 | train_acc: 0.9062 | test_loss: 0.1672 | test_acc: 0.9602\n"
     ]
    },
    {
     "name": "stderr",
     "output_type": "stream",
     "text": [
      " 30%|███       | 3/10 [00:08<00:20,  2.90s/it]"
     ]
    },
    {
     "name": "stdout",
     "output_type": "stream",
     "text": [
      "Epoch: 3 | train_loss: 0.1764 | train_acc: 0.9542 | test_loss: 0.1273 | test_acc: 0.9693\n"
     ]
    },
    {
     "name": "stderr",
     "output_type": "stream",
     "text": [
      " 40%|████      | 4/10 [00:11<00:17,  2.87s/it]"
     ]
    },
    {
     "name": "stdout",
     "output_type": "stream",
     "text": [
      "Epoch: 4 | train_loss: 0.1276 | train_acc: 0.9625 | test_loss: 0.1074 | test_acc: 0.9722\n"
     ]
    },
    {
     "name": "stderr",
     "output_type": "stream",
     "text": [
      " 50%|█████     | 5/10 [00:14<00:14,  2.86s/it]"
     ]
    },
    {
     "name": "stdout",
     "output_type": "stream",
     "text": [
      "Epoch: 5 | train_loss: 0.1159 | train_acc: 0.9646 | test_loss: 0.0953 | test_acc: 0.9784\n"
     ]
    },
    {
     "name": "stderr",
     "output_type": "stream",
     "text": [
      " 60%|██████    | 6/10 [00:17<00:11,  2.84s/it]"
     ]
    },
    {
     "name": "stdout",
     "output_type": "stream",
     "text": [
      "Epoch: 6 | train_loss: 0.1273 | train_acc: 0.9375 | test_loss: 0.0832 | test_acc: 0.9722\n"
     ]
    },
    {
     "name": "stderr",
     "output_type": "stream",
     "text": [
      " 70%|███████   | 7/10 [00:20<00:08,  2.84s/it]"
     ]
    },
    {
     "name": "stdout",
     "output_type": "stream",
     "text": [
      "Epoch: 7 | train_loss: 0.0897 | train_acc: 0.9771 | test_loss: 0.0845 | test_acc: 0.9784\n"
     ]
    },
    {
     "name": "stderr",
     "output_type": "stream",
     "text": [
      " 80%|████████  | 8/10 [00:22<00:05,  2.82s/it]"
     ]
    },
    {
     "name": "stdout",
     "output_type": "stream",
     "text": [
      "Epoch: 8 | train_loss: 0.0919 | train_acc: 0.9812 | test_loss: 0.0764 | test_acc: 0.9722\n"
     ]
    },
    {
     "name": "stderr",
     "output_type": "stream",
     "text": [
      " 90%|█████████ | 9/10 [00:25<00:02,  2.81s/it]"
     ]
    },
    {
     "name": "stdout",
     "output_type": "stream",
     "text": [
      "Epoch: 9 | train_loss: 0.0922 | train_acc: 0.9792 | test_loss: 0.0734 | test_acc: 0.9784\n"
     ]
    },
    {
     "name": "stderr",
     "output_type": "stream",
     "text": [
      "100%|██████████| 10/10 [00:28<00:00,  2.85s/it]"
     ]
    },
    {
     "name": "stdout",
     "output_type": "stream",
     "text": [
      "Epoch: 10 | train_loss: 0.0658 | train_acc: 0.9833 | test_loss: 0.0644 | test_acc: 0.9847\n"
     ]
    },
    {
     "name": "stderr",
     "output_type": "stream",
     "text": [
      "\n"
     ]
    }
   ],
   "source": [
    "from scripts import engine\n",
    "\n",
    "# Setup optimizer\n",
    "optimizer = torch.optim.Adam(params=vit.parameters(),\n",
    "                             lr=1e-3)\n",
    "# Setup loss function\n",
    "loss_fn = torch.nn.CrossEntropyLoss()\n",
    "\n",
    "# Train ViT model with seeds set for reproducibility\n",
    "set_seeds()\n",
    "vit_results = engine.train(model=vit,\n",
    "                           train_dataloader=train_dataloader_vit,\n",
    "                           test_dataloader=test_dataloader_vit,\n",
    "                           epochs=10,\n",
    "                           optimizer=optimizer,\n",
    "                           loss_fn=loss_fn,\n",
    "                           device=device)"
   ]
  },
  {
   "cell_type": "markdown",
   "metadata": {
    "id": "tyYfrhiDh0uw"
   },
   "source": [
    "### 1.4.3 Inspecting ViT loss curves"
   ]
  },
  {
   "cell_type": "code",
   "execution_count": 29,
   "metadata": {
    "colab": {
     "base_uri": "https://localhost:8080/",
     "height": 458
    },
    "id": "0qaNa14BiRnA",
    "outputId": "09117af0-556d-47b4-e178-13a139384956"
   },
   "outputs": [
    {
     "data": {
      "image/png": "[encoded data removed]",
      "text/plain": [
       "<Figure size 1500x700 with 2 Axes>"
      ]
     },
     "metadata": {},
     "output_type": "display_data"
    }
   ],
   "source": [
    "from scripts.helper_functions import plot_loss_curves\n",
    "\n",
    "plot_loss_curves(vit_results)"
   ]
  },
  {
   "cell_type": "markdown",
   "metadata": {
    "id": "_HcuY0OrPMo7"
   },
   "source": [
    "Just like in the EffNetB2 feature extractor model results plot, we can see the desired loss and accuracy behavior, the ViT model can also benefit from a slightly longer training time."
   ]
  },
  {
   "cell_type": "markdown",
   "metadata": {
    "id": "z8bNnr9DijGb"
   },
   "source": [
    "### 1.4.4 Saving ViT feature extractor"
   ]
  },
  {
   "cell_type": "code",
   "execution_count": 30,
   "metadata": {
    "colab": {
     "base_uri": "https://localhost:8080/"
    },
    "id": "l3VYtq0hkxgf",
    "outputId": "47c7d13e-137f-47b0-c43c-27648b5f45e7"
   },
   "outputs": [
    {
     "name": "stdout",
     "output_type": "stream",
     "text": [
      "[INFO] Saving model to: models/pretrained_vit_feature_extractor_pizza_steak_sushi_20_percent.pth\n"
     ]
    }
   ],
   "source": [
    "# Save the model\n",
    "from scripts.helper_functions import save_model\n",
    "\n",
    "save_model(model=vit,\n",
    "                 target_dir=\"models\",\n",
    "                 model_name=\"pretrained_vit_feature_extractor_pizza_steak_sushi_20_percent.pth\")"
   ]
  },
  {
   "cell_type": "markdown",
   "metadata": {
    "id": "OKeHw08RllHZ"
   },
   "source": [
    "### 1.4.5 Checking the size of ViT feature extractor"
   ]
  },
  {
   "cell_type": "markdown",
   "metadata": {
    "id": "aBa2jTtEQ_b2"
   },
   "source": [
    "Since we want to compare our EffNetB2 model to our ViT model across a number of characteristics, let's find out its size."
   ]
  },
  {
   "cell_type": "code",
   "execution_count": 31,
   "metadata": {
    "colab": {
     "base_uri": "https://localhost:8080/"
    },
    "id": "OG4_O-tDlwW5",
    "outputId": "85e93e13-23e7-4517-fd46-51dcce3662d1"
   },
   "outputs": [
    {
     "name": "stdout",
     "output_type": "stream",
     "text": [
      "Pretrained ViT feature extractor model size: 327 MB\n"
     ]
    }
   ],
   "source": [
    "from pathlib import Path\n",
    "\n",
    "# Get the model size in bytes then convert to megabytes\n",
    "pretrained_vit_model_size = Path(\"models/pretrained_vit_feature_extractor_pizza_steak_sushi_20_percent.pth\").stat().st_size // (1024*1024) # division converts bytes to megabytes (roughly) \n",
    "print(f\"Pretrained ViT feature extractor model size: {pretrained_vit_model_size} MB\")"
   ]
  },
  {
   "cell_type": "markdown",
   "metadata": {
    "id": "Z0qxjPBVmCHK"
   },
   "source": [
    "### 1.4.6 Collecting ViT feature extractor stats"
   ]
  },
  {
   "cell_type": "code",
   "execution_count": 32,
   "metadata": {
    "colab": {
     "base_uri": "https://localhost:8080/"
    },
    "id": "A6K7Nuu0mkXU",
    "outputId": "b71be77a-feee-4749-db1a-39ddaaa756d9"
   },
   "outputs": [
    {
     "data": {
      "text/plain": [
       "85800963"
      ]
     },
     "execution_count": 32,
     "metadata": {},
     "output_type": "execute_result"
    }
   ],
   "source": [
    "# Count number of parameters in ViT \n",
    "vit_total_params = sum(torch.numel(param) for param in vit.parameters())\n",
    "vit_total_params"
   ]
  },
  {
   "cell_type": "code",
   "execution_count": 33,
   "metadata": {
    "colab": {
     "base_uri": "https://localhost:8080/"
    },
    "id": "Ev17u7MQnGly",
    "outputId": "b593cd72-5971-4232-84f0-b7c398b0cca9"
   },
   "outputs": [
    {
     "data": {
      "text/plain": [
       "{'test_loss': 0.06444406174123288,\n",
       " 'test_acc': 0.984659090909091,\n",
       " 'number_of_parameters': 85800963,\n",
       " 'model_size (MB)': 327}"
      ]
     },
     "execution_count": 33,
     "metadata": {},
     "output_type": "execute_result"
    }
   ],
   "source": [
    "# Create ViT statistics dictionary\n",
    "vit_stats = {\"test_loss\": vit_results[\"test_loss\"][-1],\n",
    "             \"test_acc\": vit_results[\"test_acc\"][-1],\n",
    "             \"number_of_parameters\": vit_total_params,\n",
    "             \"model_size (MB)\": pretrained_vit_model_size}\n",
    "\n",
    "vit_stats"
   ]
  },
  {
   "cell_type": "code",
   "execution_count": 34,
   "metadata": {
    "colab": {
     "base_uri": "https://localhost:8080/"
    },
    "id": "_In4jy9Ru2WC",
    "outputId": "80bcbf4f-f908-4d24-cc83-b66804832fb6"
   },
   "outputs": [
    {
     "data": {
      "text/plain": [
       "{'test_loss': 0.28141466379165647,\n",
       " 'test_acc': 0.96875,\n",
       " 'number_of_parameters': 7705221,\n",
       " 'model_size (MB)': 29}"
      ]
     },
     "execution_count": 34,
     "metadata": {},
     "output_type": "execute_result"
    }
   ],
   "source": [
    "effnetb2_stats"
   ]
  },
  {
   "cell_type": "markdown",
   "metadata": {
    "id": "13Xf06GuvId1"
   },
   "source": [
    "## 1.5 Making predictions with our trained models and timing them"
   ]
  },
  {
   "cell_type": "markdown",
   "metadata": {
    "id": "nLXpoxQKvm-b"
   },
   "source": [
    "Our goals are:\n",
    "1. Performs well (95% test accuracy)\n",
    "2. Fast (30+FPS)\n",
    "\n",
    "As we can see, both models meet test criteria 2 of over 95% performance on the test set.\n",
    "\n",
    "To test criteria 2 we need to:\n",
    "1. Loop through test images\n",
    "2. Calculate how long it takes each model to make a prediction on the image.\n",
    "\n",
    "First, we'll need a list of test image paths. We use Python's `pathlib.Path(\"target_dir\").glob(\"*/*.jpg\"))` to find all of the filepaths in a target directory with the extension .jpg.\n",
    "\n",
    "We time the predictions one by one rather than by batch because when our model is deployed, it will likely only be making a prediction on one image at a time. As in, someone takes a photo and our model predicts on that single image."
   ]
  },
  {
   "cell_type": "code",
   "execution_count": 35,
   "metadata": {
    "colab": {
     "base_uri": "https://localhost:8080/"
    },
    "id": "muNwhIbTwt7j",
    "outputId": "8337cfe3-b517-45d5-a693-842a3053d7ab"
   },
   "outputs": [
    {
     "data": {
      "text/plain": [
       "[PosixPath('data/pizza_steak_sushi_20_percent/test/pizza/138961.jpg'),\n",
       " PosixPath('data/pizza_steak_sushi_20_percent/test/pizza/788315.jpg'),\n",
       " PosixPath('data/pizza_steak_sushi_20_percent/test/pizza/930553.jpg'),\n",
       " PosixPath('data/pizza_steak_sushi_20_percent/test/pizza/296426.jpg'),\n",
       " PosixPath('data/pizza_steak_sushi_20_percent/test/pizza/44810.jpg')]"
      ]
     },
     "execution_count": 35,
     "metadata": {},
     "output_type": "execute_result"
    }
   ],
   "source": [
    "from pathlib import Path\n",
    "\n",
    "# Get all test data paths\n",
    "test_data_paths = list(Path(test_dir).glob(\"*/*.jpg\"))\n",
    "test_data_paths[:5]"
   ]
  },
  {
   "cell_type": "markdown",
   "metadata": {
    "id": "d3SjWZIMwz_o"
   },
   "source": [
    "### 1.5.1 Creating a function to make predictions across the test dataset"
   ]
  },
  {
   "cell_type": "markdown",
   "metadata": {
    "id": "41N0Gg_xxxEz"
   },
   "source": [
    "Steps to create `pred_and_store()`:\n",
    "1. Create a funciton that takes a list of paths and a trained PyTorch model and a series of transforms, a list of target class names and target device. \n",
    "2. Create an empty list (can return a full list of all predictions later).\n",
    "3. Loop through the target input paths.\n",
    "4. Create an empty dictionary for each sample (prediction statistics will go here).\n",
    "5. Get the sample path and ground truth class from the filepath. \n",
    "6. Start the prediction timer.\n",
    "7. Open image with `PIL.Image.open(path)`.\n",
    "8. Transform the image to be usable with a given model.\n",
    "9. Prepare the model for inference by sending it to the target device and turning on `eval()` mode. \n",
    "10. Turn on `torch.inference_mode()` and pass the target transformed image to the model and perform forward pass + calculate the pred probs + pred class. \n",
    "11. Add pred prob + pred class to empty dictionary from step 4.\n",
    "12. End the prediction timer started in step 6 and add the time to the prediction dictionary. \n",
    "13. See if the predicited class matches the ground truth class.\n",
    "14. Append the updated prediction dictionary to the empty list of predictions we created in step 2. \n",
    "15. Return the list of prediction dictionaries. \n",
    "\n",
    "\n"
   ]
  },
  {
   "cell_type": "code",
   "execution_count": 36,
   "metadata": {
    "id": "vFZJW0RS2BTf"
   },
   "outputs": [],
   "source": [
    "import pathlib\n",
    "import torch\n",
    "\n",
    "from PIL import Image\n",
    "from timeit import default_timer as timer\n",
    "from tqdm.auto import tqdm\n",
    "from typing import List, Dict\n",
    "\n",
    "# 1.  Create a function to return a list of dictionaries with sample, truth label, prediction, prediction probability and prediction time\n",
    "def pred_and_store(paths: List[pathlib.Path],\n",
    "                   model: torch.nn.Module, \n",
    "                   transforms: torchvision.transforms, \n",
    "                   class_names: List[str],\n",
    "                   device: str = \"cuda\" if torch.cuda.is_available() else \"cpu\") -> List[Dict]:\n",
    "\n",
    "    # 2. Create an empty list to store prediction dictionaires.\n",
    "    pred_list = []\n",
    "\n",
    "    # 3. Loop through the target input paths.\n",
    "    for path in tqdm(paths):\n",
    "      \n",
    "      # 4. Create empty dictionary to store prediction information for each sample.\n",
    "      pred_dict = {}\n",
    "\n",
    "      # 5. Get the sample path and ground truth class name.\n",
    "      pred_dict[\"image_path\"] = path\n",
    "      class_name = path.parent.stem\n",
    "      pred_dict[\"class_name\"] = class_name\n",
    "\n",
    "      # 6. Start the prediction timer.\n",
    "      start_time = timer()\n",
    "\n",
    "      # 7. Open image with Image.open(path).\n",
    "      img = Image.open(path)\n",
    "\n",
    "      # 8. Transform the image to be usable with a given model (also add a batch dimension and send to target device).\n",
    "      transformed_image = transforms(img).unsqueeze(0).to(device)\n",
    "\n",
    "      # 9. Prepare the model for inference by sending it to the target device and turning on eval() mode.\n",
    "      model = model.to(device)\n",
    "      model.eval()\n",
    "\n",
    "      # 10. Turn on torch.inference_mode(), pass the target transformed image to the model, get prediction probability, predicition label and prediction class \n",
    "      with torch.inference_mode():\n",
    "        pred_logit = model(transformed_image) # perform inference on target sample\n",
    "        pred_prob = torch.softmax(pred_logit, dim =1)  # turn logits into prediction probabilities\n",
    "        print(pred_prob)\n",
    "        pred_label = torch.argmax(pred_prob, dim = 1) # turn prediction probabilities into prediction label\n",
    "        pred_class = class_names[pred_label.cpu()] # hardcode prediction class to be on CPU \n",
    "\n",
    "        # 11. Add pred prob + pred class to empty dictionary from step 4. Make sure things in the dictionary are on CPU (required for inspecting predictions later on) \n",
    "        pred_dict[\"pred_prob\"] = round(pred_prob.unsqueeze(0).max().cpu().item(), 4)\n",
    "        pred_dict[\"pred_class\"] = pred_class\n",
    "\n",
    "        # 12. End the timer and calculate time per pred \n",
    "        end_time = timer()\n",
    "        pred_dict[\"time_for_pred\"] = round(end_time - start_time, 4)\n",
    "      \n",
    "      # 13. See if the predicited class matches the ground truth class.\n",
    "      pred_dict[\"correct\"] = class_name == pred_class\n",
    "\n",
    "      # 14. Append the updated prediction dictionary to the empty list of predictions we created in step 2.\n",
    "      pred_list.append(pred_dict)\n",
    "    \n",
    "    # Return the list of prediction dictionaries.\n",
    "    return pred_list"
   ]
  },
  {
   "cell_type": "markdown",
   "metadata": {
    "id": "YVPZg5DZQLKT"
   },
   "source": [
    "### 1.5.2 Making and timing predictions with EffNetB2\n",
    "\n",
    "Let's use the function `pred_and_store()` to make predictions across the test dataset with our EffNetB2 model.\n",
    "\n",
    "2 thing to note:\n",
    "1. Device - we hardcode predictions to happen on CPU (because you won't always be sure of having a GPU when you deploy the model).\n",
    "2. Transforms - we want to make sure each of the models are predicting on images that have been prepared with appropriate transforms (e.g. EffNetB2 with `effnetb2_transforms`). "
   ]
  },
  {
   "cell_type": "code",
   "execution_count": 37,
   "metadata": {
    "colab": {
     "base_uri": "https://localhost:8080/",
     "height": 1000,
     "referenced_widgets": [
      "7b27c373852d4a2dab79e530d9898075",
      "6f5e79a8ef48412f97ef05aac2c945e2",
      "027551f97fed4f1f810d0ff09f1136bb",
      "63affd25bdf0483f9a00b15c6c9edcc2",
      "115e48307afe4200a632ce4f1f3c41f1",
      "eaf74c812c8e446592f1ab2bbb2a7f1a",
      "fe9c8d6e062a449c915a313ada9dbd09",
      "ad0fb6eb0bf9478c8f7d79ef489d67df",
      "6ebb3aa15e4d4500addc182ca353d14a",
      "0e35007704274c5db163256bf0252103",
      "94b438c6804f47b98a37ad0e7e6b408e"
     ]
    },
    "id": "LUHtZ7vgQXor",
    "outputId": "adae5f00-6106-44f8-9ceb-da20541ca51e"
   },
   "outputs": [
    {
     "name": "stderr",
     "output_type": "stream",
     "text": [
      "  3%|▎         | 4/150 [00:00<00:08, 16.24it/s]"
     ]
    },
    {
     "name": "stdout",
     "output_type": "stream",
     "text": [
      "tensor([[0.4239, 0.1905, 0.3856]])\n",
      "tensor([[0.7420, 0.1124, 0.1456]])\n",
      "tensor([[0.9187, 0.0350, 0.0463]])\n",
      "tensor([[0.8503, 0.1191, 0.0306]])\n",
      "tensor([[0.7983, 0.0875, 0.1141]])\n"
     ]
    },
    {
     "name": "stderr",
     "output_type": "stream",
     "text": [
      "  7%|▋         | 10/150 [00:00<00:06, 20.41it/s]"
     ]
    },
    {
     "name": "stdout",
     "output_type": "stream",
     "text": [
      "tensor([[0.8104, 0.0945, 0.0951]])\n",
      "tensor([[0.8207, 0.1006, 0.0787]])\n",
      "tensor([[0.9272, 0.0312, 0.0417]])\n",
      "tensor([[0.9850, 0.0064, 0.0086]])\n",
      "tensor([[0.3187, 0.3712, 0.3101]])\n"
     ]
    },
    {
     "name": "stderr",
     "output_type": "stream",
     "text": [
      "  9%|▊         | 13/150 [00:00<00:06, 21.08it/s]"
     ]
    },
    {
     "name": "stdout",
     "output_type": "stream",
     "text": [
      "tensor([[0.6960, 0.1558, 0.1481]])\n",
      "tensor([[0.9874, 0.0074, 0.0052]])\n",
      "tensor([[0.9184, 0.0461, 0.0355]])\n",
      "tensor([[0.7908, 0.0413, 0.1679]])\n",
      "tensor([[0.8574, 0.0365, 0.1061]])\n"
     ]
    },
    {
     "name": "stderr",
     "output_type": "stream",
     "text": [
      " 13%|█▎        | 19/150 [00:00<00:05, 21.86it/s]"
     ]
    },
    {
     "name": "stdout",
     "output_type": "stream",
     "text": [
      "tensor([[0.5586, 0.0919, 0.3496]])\n",
      "tensor([[0.9346, 0.0109, 0.0545]])\n",
      "tensor([[0.9468, 0.0246, 0.0286]])\n",
      "tensor([[0.9423, 0.0199, 0.0378]])\n",
      "tensor([[0.7121, 0.1390, 0.1489]])\n"
     ]
    },
    {
     "name": "stderr",
     "output_type": "stream",
     "text": [
      " 17%|█▋        | 25/150 [00:01<00:05, 22.29it/s]"
     ]
    },
    {
     "name": "stdout",
     "output_type": "stream",
     "text": [
      "tensor([[0.9921, 0.0049, 0.0031]])\n",
      "tensor([[0.9139, 0.0248, 0.0613]])\n",
      "tensor([[0.7545, 0.1763, 0.0691]])\n",
      "tensor([[0.6227, 0.3094, 0.0680]])\n",
      "tensor([[0.4828, 0.2307, 0.2864]])\n"
     ]
    },
    {
     "name": "stderr",
     "output_type": "stream",
     "text": [
      " 19%|█▊        | 28/150 [00:01<00:05, 22.24it/s]"
     ]
    },
    {
     "name": "stdout",
     "output_type": "stream",
     "text": [
      "tensor([[0.7495, 0.0223, 0.2282]])\n",
      "tensor([[0.8129, 0.0375, 0.1497]])\n",
      "tensor([[0.9560, 0.0367, 0.0073]])\n",
      "tensor([[0.6497, 0.2085, 0.1418]])\n",
      "tensor([[0.7656, 0.1374, 0.0970]])\n"
     ]
    },
    {
     "name": "stderr",
     "output_type": "stream",
     "text": [
      " 23%|██▎       | 34/150 [00:01<00:05, 22.42it/s]"
     ]
    },
    {
     "name": "stdout",
     "output_type": "stream",
     "text": [
      "tensor([[0.9704, 0.0162, 0.0134]])\n",
      "tensor([[0.9579, 0.0177, 0.0244]])\n",
      "tensor([[0.8828, 0.0232, 0.0941]])\n",
      "tensor([[0.7122, 0.1857, 0.1021]])\n",
      "tensor([[0.6342, 0.1870, 0.1788]])\n"
     ]
    },
    {
     "name": "stderr",
     "output_type": "stream",
     "text": [
      " 27%|██▋       | 40/150 [00:01<00:04, 22.23it/s]"
     ]
    },
    {
     "name": "stdout",
     "output_type": "stream",
     "text": [
      "tensor([[0.9222, 0.0558, 0.0220]])\n",
      "tensor([[0.8627, 0.0986, 0.0386]])\n",
      "tensor([[0.9812, 0.0100, 0.0088]])\n",
      "tensor([[0.4097, 0.0715, 0.5188]])\n",
      "tensor([[0.6508, 0.1021, 0.2471]])\n"
     ]
    },
    {
     "name": "stderr",
     "output_type": "stream",
     "text": [
      " 29%|██▊       | 43/150 [00:02<00:04, 22.13it/s]"
     ]
    },
    {
     "name": "stdout",
     "output_type": "stream",
     "text": [
      "tensor([[0.9824, 0.0083, 0.0093]])\n",
      "tensor([[0.5551, 0.0704, 0.3745]])\n",
      "tensor([[0.9939, 0.0030, 0.0031]])\n",
      "tensor([[0.9463, 0.0285, 0.0252]])\n",
      "tensor([[0.9739, 0.0141, 0.0119]])\n"
     ]
    },
    {
     "name": "stderr",
     "output_type": "stream",
     "text": [
      " 33%|███▎      | 49/150 [00:02<00:04, 22.42it/s]"
     ]
    },
    {
     "name": "stdout",
     "output_type": "stream",
     "text": [
      "tensor([[0.9562, 0.0211, 0.0227]])\n",
      "tensor([[0.3247, 0.2142, 0.4611]])\n",
      "tensor([[0.0114, 0.0337, 0.9549]])\n",
      "tensor([[0.0895, 0.4032, 0.5072]])\n",
      "tensor([[0.0610, 0.0332, 0.9059]])\n"
     ]
    },
    {
     "name": "stderr",
     "output_type": "stream",
     "text": [
      " 37%|███▋      | 55/150 [00:02<00:04, 22.60it/s]"
     ]
    },
    {
     "name": "stdout",
     "output_type": "stream",
     "text": [
      "tensor([[0.0095, 0.0295, 0.9611]])\n",
      "tensor([[0.1774, 0.0984, 0.7242]])\n",
      "tensor([[0.2274, 0.0498, 0.7229]])\n",
      "tensor([[0.1821, 0.0723, 0.7457]])\n",
      "tensor([[0.0340, 0.3935, 0.5725]])\n"
     ]
    },
    {
     "name": "stderr",
     "output_type": "stream",
     "text": [
      " 39%|███▊      | 58/150 [00:02<00:04, 22.48it/s]"
     ]
    },
    {
     "name": "stdout",
     "output_type": "stream",
     "text": [
      "tensor([[0.0381, 0.1795, 0.7824]])\n",
      "tensor([[0.0359, 0.0125, 0.9516]])\n",
      "tensor([[0.0570, 0.0669, 0.8761]])\n",
      "tensor([[0.0361, 0.0970, 0.8669]])\n",
      "tensor([[0.0080, 0.0394, 0.9526]])\n"
     ]
    },
    {
     "name": "stderr",
     "output_type": "stream",
     "text": [
      " 43%|████▎     | 64/150 [00:02<00:03, 22.49it/s]"
     ]
    },
    {
     "name": "stdout",
     "output_type": "stream",
     "text": [
      "tensor([[0.0577, 0.2632, 0.6791]])\n",
      "tensor([[0.1742, 0.2425, 0.5833]])\n",
      "tensor([[0.2065, 0.1736, 0.6199]])\n",
      "tensor([[0.0345, 0.0183, 0.9472]])\n",
      "tensor([[0.0403, 0.0790, 0.8807]])\n"
     ]
    },
    {
     "name": "stderr",
     "output_type": "stream",
     "text": [
      " 47%|████▋     | 70/150 [00:03<00:03, 22.46it/s]"
     ]
    },
    {
     "name": "stdout",
     "output_type": "stream",
     "text": [
      "tensor([[0.0637, 0.1070, 0.8293]])\n",
      "tensor([[0.0301, 0.0557, 0.9142]])\n",
      "tensor([[0.0465, 0.0409, 0.9125]])\n",
      "tensor([[0.0249, 0.0923, 0.8828]])\n",
      "tensor([[0.0838, 0.4029, 0.5133]])\n"
     ]
    },
    {
     "name": "stderr",
     "output_type": "stream",
     "text": [
      " 49%|████▊     | 73/150 [00:03<00:03, 22.40it/s]"
     ]
    },
    {
     "name": "stdout",
     "output_type": "stream",
     "text": [
      "tensor([[0.1404, 0.0579, 0.8018]])\n",
      "tensor([[0.1180, 0.1132, 0.7688]])\n",
      "tensor([[0.1292, 0.1101, 0.7607]])\n",
      "tensor([[0.0214, 0.0254, 0.9533]])\n",
      "tensor([[0.1217, 0.0927, 0.7856]])\n"
     ]
    },
    {
     "name": "stderr",
     "output_type": "stream",
     "text": [
      " 53%|█████▎    | 79/150 [00:03<00:03, 22.37it/s]"
     ]
    },
    {
     "name": "stdout",
     "output_type": "stream",
     "text": [
      "tensor([[0.1953, 0.2404, 0.5643]])\n",
      "tensor([[0.0517, 0.0345, 0.9138]])\n",
      "tensor([[0.0972, 0.0745, 0.8282]])\n",
      "tensor([[0.0642, 0.3965, 0.5393]])\n",
      "tensor([[0.2535, 0.1269, 0.6197]])\n"
     ]
    },
    {
     "name": "stderr",
     "output_type": "stream",
     "text": [
      " 57%|█████▋    | 85/150 [00:03<00:02, 22.32it/s]"
     ]
    },
    {
     "name": "stdout",
     "output_type": "stream",
     "text": [
      "tensor([[0.1827, 0.2127, 0.6045]])\n",
      "tensor([[0.0550, 0.2799, 0.6651]])\n",
      "tensor([[0.0543, 0.6421, 0.3036]])\n",
      "tensor([[0.0260, 0.1088, 0.8652]])\n",
      "tensor([[0.0536, 0.0299, 0.9165]])\n"
     ]
    },
    {
     "name": "stderr",
     "output_type": "stream",
     "text": [
      " 59%|█████▊    | 88/150 [00:04<00:02, 22.27it/s]"
     ]
    },
    {
     "name": "stdout",
     "output_type": "stream",
     "text": [
      "tensor([[0.0502, 0.0796, 0.8702]])\n",
      "tensor([[0.1064, 0.0575, 0.8360]])\n",
      "tensor([[0.1124, 0.0480, 0.8396]])\n",
      "tensor([[0.0269, 0.0438, 0.9293]])\n",
      "tensor([[0.0944, 0.0624, 0.8433]])\n"
     ]
    },
    {
     "name": "stderr",
     "output_type": "stream",
     "text": [
      " 63%|██████▎   | 94/150 [00:04<00:02, 22.35it/s]"
     ]
    },
    {
     "name": "stdout",
     "output_type": "stream",
     "text": [
      "tensor([[0.1652, 0.2311, 0.6037]])\n",
      "tensor([[0.1351, 0.3789, 0.4860]])\n",
      "tensor([[0.1460, 0.7485, 0.1056]])\n",
      "tensor([[0.2623, 0.6156, 0.1220]])\n",
      "tensor([[0.1337, 0.7849, 0.0814]])\n"
     ]
    },
    {
     "name": "stderr",
     "output_type": "stream",
     "text": [
      " 67%|██████▋   | 100/150 [00:04<00:02, 22.25it/s]"
     ]
    },
    {
     "name": "stdout",
     "output_type": "stream",
     "text": [
      "tensor([[0.0469, 0.7160, 0.2370]])\n",
      "tensor([[0.1938, 0.7843, 0.0219]])\n",
      "tensor([[0.0252, 0.9070, 0.0678]])\n",
      "tensor([[0.0063, 0.9862, 0.0075]])\n",
      "tensor([[0.0328, 0.8534, 0.1138]])\n"
     ]
    },
    {
     "name": "stderr",
     "output_type": "stream",
     "text": [
      " 69%|██████▊   | 103/150 [00:04<00:02, 21.73it/s]"
     ]
    },
    {
     "name": "stdout",
     "output_type": "stream",
     "text": [
      "tensor([[0.2997, 0.4084, 0.2919]])\n",
      "tensor([[0.1233, 0.5927, 0.2840]])\n",
      "tensor([[0.1147, 0.7505, 0.1348]])\n",
      "tensor([[0.0980, 0.8912, 0.0108]])\n",
      "tensor([[0.0602, 0.9210, 0.0188]])\n"
     ]
    },
    {
     "name": "stderr",
     "output_type": "stream",
     "text": [
      " 73%|███████▎  | 109/150 [00:04<00:01, 21.61it/s]"
     ]
    },
    {
     "name": "stdout",
     "output_type": "stream",
     "text": [
      "tensor([[0.1292, 0.6642, 0.2067]])\n",
      "tensor([[0.0453, 0.8947, 0.0599]])\n",
      "tensor([[0.0386, 0.9329, 0.0286]])\n",
      "tensor([[0.1130, 0.8474, 0.0396]])\n",
      "tensor([[0.1157, 0.8487, 0.0356]])\n"
     ]
    },
    {
     "name": "stderr",
     "output_type": "stream",
     "text": [
      " 77%|███████▋  | 115/150 [00:05<00:01, 21.97it/s]"
     ]
    },
    {
     "name": "stdout",
     "output_type": "stream",
     "text": [
      "tensor([[0.1894, 0.7324, 0.0782]])\n",
      "tensor([[0.0435, 0.8863, 0.0703]])\n",
      "tensor([[0.0390, 0.9232, 0.0378]])\n",
      "tensor([[0.0044, 0.9342, 0.0615]])\n",
      "tensor([[0.0178, 0.9570, 0.0252]])\n"
     ]
    },
    {
     "name": "stderr",
     "output_type": "stream",
     "text": [
      " 79%|███████▊  | 118/150 [00:05<00:01, 22.05it/s]"
     ]
    },
    {
     "name": "stdout",
     "output_type": "stream",
     "text": [
      "tensor([[0.1426, 0.4608, 0.3966]])\n",
      "tensor([[0.0055, 0.9326, 0.0619]])\n",
      "tensor([[0.0545, 0.9246, 0.0209]])\n",
      "tensor([[0.0186, 0.7937, 0.1877]])\n",
      "tensor([[0.0403, 0.9269, 0.0328]])\n"
     ]
    },
    {
     "name": "stderr",
     "output_type": "stream",
     "text": [
      " 83%|████████▎ | 124/150 [00:05<00:01, 22.18it/s]"
     ]
    },
    {
     "name": "stdout",
     "output_type": "stream",
     "text": [
      "tensor([[0.0073, 0.9423, 0.0504]])\n",
      "tensor([[0.0396, 0.8013, 0.1592]])\n",
      "tensor([[0.0157, 0.8700, 0.1144]])\n",
      "tensor([[0.1369, 0.6623, 0.2008]])\n",
      "tensor([[0.0985, 0.7995, 0.1020]])\n"
     ]
    },
    {
     "name": "stderr",
     "output_type": "stream",
     "text": [
      " 87%|████████▋ | 130/150 [00:05<00:00, 22.22it/s]"
     ]
    },
    {
     "name": "stdout",
     "output_type": "stream",
     "text": [
      "tensor([[0.0513, 0.8693, 0.0794]])\n",
      "tensor([[0.0852, 0.4871, 0.4277]])\n",
      "tensor([[0.0394, 0.9283, 0.0323]])\n",
      "tensor([[0.1864, 0.7872, 0.0264]])\n",
      "tensor([[0.0375, 0.6670, 0.2955]])\n"
     ]
    },
    {
     "name": "stderr",
     "output_type": "stream",
     "text": [
      " 89%|████████▊ | 133/150 [00:06<00:00, 22.07it/s]"
     ]
    },
    {
     "name": "stdout",
     "output_type": "stream",
     "text": [
      "tensor([[0.0495, 0.9291, 0.0214]])\n",
      "tensor([[0.0353, 0.9482, 0.0164]])\n",
      "tensor([[0.2009, 0.7677, 0.0314]])\n",
      "tensor([[0.1959, 0.7245, 0.0797]])\n",
      "tensor([[0.0317, 0.7757, 0.1926]])\n"
     ]
    },
    {
     "name": "stderr",
     "output_type": "stream",
     "text": [
      " 93%|█████████▎| 139/150 [00:06<00:00, 22.13it/s]"
     ]
    },
    {
     "name": "stdout",
     "output_type": "stream",
     "text": [
      "tensor([[0.0757, 0.8322, 0.0922]])\n",
      "tensor([[0.2343, 0.2378, 0.5279]])\n",
      "tensor([[0.2341, 0.3843, 0.3816]])\n",
      "tensor([[0.0136, 0.9457, 0.0407]])\n",
      "tensor([[0.0440, 0.9465, 0.0095]])\n"
     ]
    },
    {
     "name": "stderr",
     "output_type": "stream",
     "text": [
      " 97%|█████████▋| 145/150 [00:06<00:00, 22.23it/s]"
     ]
    },
    {
     "name": "stdout",
     "output_type": "stream",
     "text": [
      "tensor([[0.0450, 0.6848, 0.2702]])\n",
      "tensor([[0.2286, 0.6296, 0.1417]])\n",
      "tensor([[0.0592, 0.8602, 0.0806]])\n",
      "tensor([[0.2007, 0.2105, 0.5888]])\n",
      "tensor([[0.1509, 0.7351, 0.1140]])\n"
     ]
    },
    {
     "name": "stderr",
     "output_type": "stream",
     "text": [
      "100%|██████████| 150/150 [00:06<00:00, 21.95it/s]"
     ]
    },
    {
     "name": "stdout",
     "output_type": "stream",
     "text": [
      "tensor([[0.0379, 0.9216, 0.0405]])\n",
      "tensor([[0.0741, 0.6212, 0.3047]])\n",
      "tensor([[0.0393, 0.9208, 0.0399]])\n",
      "tensor([[0.0041, 0.9893, 0.0066]])\n",
      "tensor([[0.2371, 0.6654, 0.0975]])\n"
     ]
    },
    {
     "name": "stderr",
     "output_type": "stream",
     "text": [
      "\n"
     ]
    }
   ],
   "source": [
    "# Make predictions test dataset with EffNetB2\n",
    "effnetb2_test_pred_dicts = pred_and_store(\n",
    "    paths = test_data_paths, \n",
    "    model = effnetb2, \n",
    "    transforms = effnetb2_transforms, \n",
    "    class_names = class_names, \n",
    "    device = \"cpu\" # hardcode predictions to happen on CPU\n",
    ")"
   ]
  },
  {
   "cell_type": "code",
   "execution_count": 39,
   "metadata": {
    "colab": {
     "base_uri": "https://localhost:8080/"
    },
    "id": "WYli6JVmTwaY",
    "outputId": "f840d54a-7a41-4bfb-f7d1-fc289e5d194b"
   },
   "outputs": [
    {
     "data": {
      "text/plain": [
       "[{'image_path': PosixPath('data/pizza_steak_sushi_20_percent/test/pizza/138961.jpg'),\n",
       "  'class_name': 'pizza',\n",
       "  'pred_prob': 0.4239,\n",
       "  'pred_class': 'pizza',\n",
       "  'time_for_pred': 0.1367,\n",
       "  'correct': True},\n",
       " {'image_path': PosixPath('data/pizza_steak_sushi_20_percent/test/pizza/788315.jpg'),\n",
       "  'class_name': 'pizza',\n",
       "  'pred_prob': 0.742,\n",
       "  'pred_class': 'pizza',\n",
       "  'time_for_pred': 0.0439,\n",
       "  'correct': True}]"
      ]
     },
     "execution_count": 39,
     "metadata": {},
     "output_type": "execute_result"
    }
   ],
   "source": [
    "# Inspect the first 2 prediction dictionaries\n",
    "effnetb2_test_pred_dicts[:2]"
   ]
  },
  {
   "cell_type": "code",
   "execution_count": 40,
   "metadata": {
    "colab": {
     "base_uri": "https://localhost:8080/"
    },
    "id": "tEjWQVFjULYi",
    "outputId": "54aec825-5809-4ce2-caf1-4c3487709e9d"
   },
   "outputs": [
    {
     "data": {
      "text/html": [
       "<div>\n",
       "<style scoped>\n",
       "    .dataframe tbody tr th:only-of-type {\n",
       "        vertical-align: middle;\n",
       "    }\n",
       "\n",
       "    .dataframe tbody tr th {\n",
       "        vertical-align: top;\n",
       "    }\n",
       "\n",
       "    .dataframe thead th {\n",
       "        text-align: right;\n",
       "    }\n",
       "</style>\n",
       "<table border=\"1\" class=\"dataframe\">\n",
       "  <thead>\n",
       "    <tr style=\"text-align: right;\">\n",
       "      <th></th>\n",
       "      <th>image_path</th>\n",
       "      <th>class_name</th>\n",
       "      <th>pred_prob</th>\n",
       "      <th>pred_class</th>\n",
       "      <th>time_for_pred</th>\n",
       "      <th>correct</th>\n",
       "    </tr>\n",
       "  </thead>\n",
       "  <tbody>\n",
       "    <tr>\n",
       "      <th>0</th>\n",
       "      <td>data/pizza_steak_sushi_20_percent/test/pizza/1...</td>\n",
       "      <td>pizza</td>\n",
       "      <td>0.4239</td>\n",
       "      <td>pizza</td>\n",
       "      <td>0.1367</td>\n",
       "      <td>True</td>\n",
       "    </tr>\n",
       "    <tr>\n",
       "      <th>1</th>\n",
       "      <td>data/pizza_steak_sushi_20_percent/test/pizza/7...</td>\n",
       "      <td>pizza</td>\n",
       "      <td>0.7420</td>\n",
       "      <td>pizza</td>\n",
       "      <td>0.0439</td>\n",
       "      <td>True</td>\n",
       "    </tr>\n",
       "    <tr>\n",
       "      <th>2</th>\n",
       "      <td>data/pizza_steak_sushi_20_percent/test/pizza/9...</td>\n",
       "      <td>pizza</td>\n",
       "      <td>0.9187</td>\n",
       "      <td>pizza</td>\n",
       "      <td>0.0438</td>\n",
       "      <td>True</td>\n",
       "    </tr>\n",
       "    <tr>\n",
       "      <th>3</th>\n",
       "      <td>data/pizza_steak_sushi_20_percent/test/pizza/2...</td>\n",
       "      <td>pizza</td>\n",
       "      <td>0.8503</td>\n",
       "      <td>pizza</td>\n",
       "      <td>0.0436</td>\n",
       "      <td>True</td>\n",
       "    </tr>\n",
       "    <tr>\n",
       "      <th>4</th>\n",
       "      <td>data/pizza_steak_sushi_20_percent/test/pizza/4...</td>\n",
       "      <td>pizza</td>\n",
       "      <td>0.7983</td>\n",
       "      <td>pizza</td>\n",
       "      <td>0.0435</td>\n",
       "      <td>True</td>\n",
       "    </tr>\n",
       "  </tbody>\n",
       "</table>\n",
       "</div>"
      ],
      "text/plain": [
       "                                          image_path class_name  pred_prob  \\\n",
       "0  data/pizza_steak_sushi_20_percent/test/pizza/1...      pizza     0.4239   \n",
       "1  data/pizza_steak_sushi_20_percent/test/pizza/7...      pizza     0.7420   \n",
       "2  data/pizza_steak_sushi_20_percent/test/pizza/9...      pizza     0.9187   \n",
       "3  data/pizza_steak_sushi_20_percent/test/pizza/2...      pizza     0.8503   \n",
       "4  data/pizza_steak_sushi_20_percent/test/pizza/4...      pizza     0.7983   \n",
       "\n",
       "  pred_class  time_for_pred  correct  \n",
       "0      pizza         0.1367     True  \n",
       "1      pizza         0.0439     True  \n",
       "2      pizza         0.0438     True  \n",
       "3      pizza         0.0436     True  \n",
       "4      pizza         0.0435     True  "
      ]
     },
     "execution_count": 40,
     "metadata": {},
     "output_type": "execute_result"
    }
   ],
   "source": [
    "# Turn the test_pred_dicts into a DataFrame\n",
    "import pandas as pd\n",
    "effnetb2_test_pred_df = pd.DataFrame(effnetb2_test_pred_dicts)\n",
    "effnetb2_test_pred_df.head(5)"
   ]
  },
  {
   "cell_type": "code",
   "execution_count": 41,
   "metadata": {
    "colab": {
     "base_uri": "https://localhost:8080/"
    },
    "id": "lJIysuxaUjb0",
    "outputId": "dbd9f995-3817-4529-8e90-c1a7e267ec0e"
   },
   "outputs": [
    {
     "data": {
      "text/plain": [
       "True     145\n",
       "False      5\n",
       "Name: correct, dtype: int64"
      ]
     },
     "execution_count": 41,
     "metadata": {},
     "output_type": "execute_result"
    }
   ],
   "source": [
    "# Check number of correct predictions\n",
    "effnetb2_test_pred_df.correct.value_counts()"
   ]
  },
  {
   "cell_type": "markdown",
   "metadata": {},
   "source": [
    "We got 5 wrong predictions out of 150 total."
   ]
  },
  {
   "cell_type": "code",
   "execution_count": 42,
   "metadata": {
    "colab": {
     "base_uri": "https://localhost:8080/"
    },
    "id": "7Z8lEdn7VxU4",
    "outputId": "040cd28b-3200-47e9-ffdb-7f8857a167d5"
   },
   "outputs": [
    {
     "name": "stdout",
     "output_type": "stream",
     "text": [
      "EffNetB2 average time per prediction: 0.0452 seconds\n"
     ]
    }
   ],
   "source": [
    "# Find the average time per prediction\n",
    "effnetb2_average_time_per_pred = round(effnetb2_test_pred_df.time_for_pred.mean(), 4)\n",
    "print(f\"EffNetB2 average time per prediction: {effnetb2_average_time_per_pred} seconds\") "
   ]
  },
  {
   "cell_type": "code",
   "execution_count": 43,
   "metadata": {
    "colab": {
     "base_uri": "https://localhost:8080/"
    },
    "id": "Ypbk4AIHgeou",
    "outputId": "d9c15d17-0df9-4a23-a58a-75700740b127"
   },
   "outputs": [
    {
     "data": {
      "text/plain": [
       "{'test_loss': 0.28141466379165647,\n",
       " 'test_acc': 0.96875,\n",
       " 'number_of_parameters': 7705221,\n",
       " 'model_size (MB)': 29,\n",
       " 'time_per_pred_cpu': 0.0452}"
      ]
     },
     "execution_count": 43,
     "metadata": {},
     "output_type": "execute_result"
    }
   ],
   "source": [
    "# Add EffNetB2 average prediction time to stats dictionary \n",
    "effnetb2_stats[\"time_per_pred_cpu\"] = effnetb2_average_time_per_pred\n",
    "effnetb2_stats"
   ]
  },
  {
   "cell_type": "markdown",
   "metadata": {
    "id": "0m9zWI1RWcDj"
   },
   "source": [
    "> Prediction time will vary (much like training times) depending on the hardware. So, generally, the faster you compute (e.g. CPU or GPU), the faster the predictions will happen."
   ]
  },
  {
   "cell_type": "markdown",
   "metadata": {
    "id": "rHSmpSs5cjwy"
   },
   "source": [
    "### 1.5.3 Making and timing predictions with ViT"
   ]
  },
  {
   "cell_type": "code",
   "execution_count": 44,
   "metadata": {
    "colab": {
     "base_uri": "https://localhost:8080/",
     "referenced_widgets": [
      "c6f900a2173f4726b1f4f8acb57f81b0",
      "900b6d4b7804409d9a5b70562315406e",
      "aa388bf3316f4de78381d11e2a70f820",
      "b8829d50b2a3471b960c263e6dac9d90",
      "9bf1c8d5fe864dec8c99c9602f218da9",
      "757bcba8790444fa8f379f13ab55d78b",
      "de432624502c4ddfba58dd69ade9a1f5",
      "320cc88f80084a1683bbe9b9fb6a0015",
      "8299be99957142fb9e5a9817d2ecfc5c",
      "f55e09af8de24e239f844ee3eaeec83c",
      "871bb294306b47389f02857ee956366a"
     ]
    },
    "id": "AFHBH6Twck7K",
    "outputId": "9b8d59e1-55ca-4384-ad47-284783d5d116"
   },
   "outputs": [
    {
     "name": "stderr",
     "output_type": "stream",
     "text": [
      "  2%|▏         | 3/150 [00:00<00:17,  8.42it/s]"
     ]
    },
    {
     "name": "stdout",
     "output_type": "stream",
     "text": [
      "tensor([[0.9948, 0.0030, 0.0022]])\n",
      "tensor([[9.9802e-01, 7.7091e-04, 1.2052e-03]])\n",
      "tensor([[9.9820e-01, 5.1924e-04, 1.2816e-03]])\n"
     ]
    },
    {
     "name": "stderr",
     "output_type": "stream",
     "text": [
      "  3%|▎         | 5/150 [00:00<00:15,  9.61it/s]"
     ]
    },
    {
     "name": "stdout",
     "output_type": "stream",
     "text": [
      "tensor([[9.9831e-01, 8.7127e-04, 8.2150e-04]])\n",
      "tensor([[0.9917, 0.0011, 0.0072]])\n",
      "tensor([[0.9935, 0.0016, 0.0049]])\n"
     ]
    },
    {
     "name": "stderr",
     "output_type": "stream",
     "text": [
      "  6%|▌         | 9/150 [00:00<00:13, 10.36it/s]"
     ]
    },
    {
     "name": "stdout",
     "output_type": "stream",
     "text": [
      "tensor([[9.9854e-01, 6.6157e-04, 8.0005e-04]])\n",
      "tensor([[0.9974, 0.0011, 0.0014]])\n",
      "tensor([[9.9880e-01, 4.8827e-04, 7.1265e-04]])\n"
     ]
    },
    {
     "name": "stderr",
     "output_type": "stream",
     "text": [
      "  7%|▋         | 11/150 [00:01<00:13, 10.59it/s]"
     ]
    },
    {
     "name": "stdout",
     "output_type": "stream",
     "text": [
      "tensor([[9.9766e-01, 9.1407e-04, 1.4279e-03]])\n",
      "tensor([[0.9869, 0.0079, 0.0053]])\n",
      "tensor([[0.9938, 0.0020, 0.0042]])\n"
     ]
    },
    {
     "name": "stderr",
     "output_type": "stream",
     "text": [
      " 10%|█         | 15/150 [00:01<00:12, 10.84it/s]"
     ]
    },
    {
     "name": "stdout",
     "output_type": "stream",
     "text": [
      "tensor([[9.9874e-01, 5.4511e-04, 7.0992e-04]])\n",
      "tensor([[9.9885e-01, 2.1897e-04, 9.2859e-04]])\n",
      "tensor([[9.9741e-01, 9.9199e-04, 1.6004e-03]])\n"
     ]
    },
    {
     "name": "stderr",
     "output_type": "stream",
     "text": [
      " 11%|█▏        | 17/150 [00:01<00:12, 10.92it/s]"
     ]
    },
    {
     "name": "stdout",
     "output_type": "stream",
     "text": [
      "tensor([[9.9679e-01, 4.2795e-04, 2.7843e-03]])\n",
      "tensor([[9.9843e-01, 5.3515e-04, 1.0313e-03]])\n",
      "tensor([[9.9834e-01, 5.5015e-04, 1.1113e-03]])\n"
     ]
    },
    {
     "name": "stderr",
     "output_type": "stream",
     "text": [
      " 14%|█▍        | 21/150 [00:02<00:11, 10.99it/s]"
     ]
    },
    {
     "name": "stdout",
     "output_type": "stream",
     "text": [
      "tensor([[9.9773e-01, 9.2890e-04, 1.3408e-03]])\n",
      "tensor([[0.9732, 0.0022, 0.0246]])\n",
      "tensor([[9.9871e-01, 3.5957e-04, 9.3183e-04]])\n"
     ]
    },
    {
     "name": "stderr",
     "output_type": "stream",
     "text": [
      " 15%|█▌        | 23/150 [00:02<00:11, 11.03it/s]"
     ]
    },
    {
     "name": "stdout",
     "output_type": "stream",
     "text": [
      "tensor([[9.9772e-01, 1.3180e-03, 9.5883e-04]])\n",
      "tensor([[0.9946, 0.0025, 0.0029]])\n",
      "tensor([[0.9855, 0.0047, 0.0098]])\n"
     ]
    },
    {
     "name": "stderr",
     "output_type": "stream",
     "text": [
      " 18%|█▊        | 27/150 [00:02<00:11, 11.05it/s]"
     ]
    },
    {
     "name": "stdout",
     "output_type": "stream",
     "text": [
      "tensor([[0.9957, 0.0013, 0.0030]])\n",
      "tensor([[9.9700e-01, 9.7720e-04, 2.0244e-03]])\n",
      "tensor([[9.9862e-01, 8.1328e-04, 5.6830e-04]])\n"
     ]
    },
    {
     "name": "stderr",
     "output_type": "stream",
     "text": [
      " 19%|█▉        | 29/150 [00:02<00:10, 11.08it/s]"
     ]
    },
    {
     "name": "stdout",
     "output_type": "stream",
     "text": [
      "tensor([[0.9959, 0.0011, 0.0030]])\n",
      "tensor([[0.9877, 0.0111, 0.0012]])\n",
      "tensor([[0.9698, 0.0081, 0.0221]])\n"
     ]
    },
    {
     "name": "stderr",
     "output_type": "stream",
     "text": [
      " 22%|██▏       | 33/150 [00:03<00:10, 11.10it/s]"
     ]
    },
    {
     "name": "stdout",
     "output_type": "stream",
     "text": [
      "tensor([[0.9977, 0.0010, 0.0013]])\n",
      "tensor([[9.9810e-01, 7.8004e-04, 1.1174e-03]])\n",
      "tensor([[9.9823e-01, 9.4213e-04, 8.2629e-04]])\n"
     ]
    },
    {
     "name": "stderr",
     "output_type": "stream",
     "text": [
      " 23%|██▎       | 35/150 [00:03<00:10, 11.11it/s]"
     ]
    },
    {
     "name": "stdout",
     "output_type": "stream",
     "text": [
      "tensor([[9.9899e-01, 3.7016e-04, 6.4103e-04]])\n",
      "tensor([[9.9836e-01, 4.0729e-04, 1.2335e-03]])\n",
      "tensor([[9.9886e-01, 3.9792e-04, 7.4366e-04]])\n"
     ]
    },
    {
     "name": "stderr",
     "output_type": "stream",
     "text": [
      " 26%|██▌       | 39/150 [00:03<00:10, 11.10it/s]"
     ]
    },
    {
     "name": "stdout",
     "output_type": "stream",
     "text": [
      "tensor([[0.9969, 0.0012, 0.0019]])\n",
      "tensor([[0.9971, 0.0019, 0.0010]])\n",
      "tensor([[9.9626e-01, 4.5359e-04, 3.2826e-03]])\n"
     ]
    },
    {
     "name": "stderr",
     "output_type": "stream",
     "text": [
      " 27%|██▋       | 41/150 [00:03<00:09, 11.09it/s]"
     ]
    },
    {
     "name": "stdout",
     "output_type": "stream",
     "text": [
      "tensor([[0.9935, 0.0026, 0.0039]])\n",
      "tensor([[9.9861e-01, 4.3213e-04, 9.6255e-04]])\n",
      "tensor([[9.9836e-01, 6.3893e-04, 1.0023e-03]])\n"
     ]
    },
    {
     "name": "stderr",
     "output_type": "stream",
     "text": [
      " 30%|███       | 45/150 [00:04<00:09, 11.08it/s]"
     ]
    },
    {
     "name": "stdout",
     "output_type": "stream",
     "text": [
      "tensor([[9.9867e-01, 6.4685e-04, 6.7931e-04]])\n",
      "tensor([[9.9797e-01, 5.2982e-04, 1.4991e-03]])\n",
      "tensor([[9.9656e-01, 4.8969e-04, 2.9523e-03]])\n"
     ]
    },
    {
     "name": "stderr",
     "output_type": "stream",
     "text": [
      " 31%|███▏      | 47/150 [00:04<00:09, 11.08it/s]"
     ]
    },
    {
     "name": "stdout",
     "output_type": "stream",
     "text": [
      "tensor([[9.9806e-01, 5.0211e-04, 1.4353e-03]])\n",
      "tensor([[0.0901, 0.0318, 0.8781]])\n",
      "tensor([[0.0012, 0.0043, 0.9945]])\n"
     ]
    },
    {
     "name": "stderr",
     "output_type": "stream",
     "text": [
      " 34%|███▍      | 51/150 [00:04<00:08, 11.13it/s]"
     ]
    },
    {
     "name": "stdout",
     "output_type": "stream",
     "text": [
      "tensor([[0.0111, 0.0110, 0.9779]])\n",
      "tensor([[0.0032, 0.0018, 0.9951]])\n",
      "tensor([[0.0031, 0.0309, 0.9660]])\n"
     ]
    },
    {
     "name": "stderr",
     "output_type": "stream",
     "text": [
      " 35%|███▌      | 53/150 [00:04<00:08, 11.10it/s]"
     ]
    },
    {
     "name": "stdout",
     "output_type": "stream",
     "text": [
      "tensor([[0.0050, 0.0098, 0.9852]])\n",
      "tensor([[0.0086, 0.0028, 0.9886]])\n",
      "tensor([[0.0877, 0.0051, 0.9072]])\n"
     ]
    },
    {
     "name": "stderr",
     "output_type": "stream",
     "text": [
      " 38%|███▊      | 57/150 [00:05<00:08, 11.12it/s]"
     ]
    },
    {
     "name": "stdout",
     "output_type": "stream",
     "text": [
      "tensor([[0.0044, 0.2182, 0.7774]])\n",
      "tensor([[0.0028, 0.4443, 0.5530]])\n",
      "tensor([[0.0015, 0.0083, 0.9903]])\n"
     ]
    },
    {
     "name": "stderr",
     "output_type": "stream",
     "text": [
      " 39%|███▉      | 59/150 [00:05<00:08, 11.10it/s]"
     ]
    },
    {
     "name": "stdout",
     "output_type": "stream",
     "text": [
      "tensor([[0.0303, 0.0064, 0.9632]])\n",
      "tensor([[0.4972, 0.0351, 0.4676]])\n",
      "tensor([[0.0031, 0.0528, 0.9441]])\n"
     ]
    },
    {
     "name": "stderr",
     "output_type": "stream",
     "text": [
      " 42%|████▏     | 63/150 [00:05<00:07, 11.09it/s]"
     ]
    },
    {
     "name": "stdout",
     "output_type": "stream",
     "text": [
      "tensor([[0.0019, 0.1500, 0.8480]])\n",
      "tensor([[0.0215, 0.0307, 0.9478]])\n",
      "tensor([[0.0164, 0.0180, 0.9657]])\n"
     ]
    },
    {
     "name": "stderr",
     "output_type": "stream",
     "text": [
      " 43%|████▎     | 65/150 [00:05<00:07, 11.05it/s]"
     ]
    },
    {
     "name": "stdout",
     "output_type": "stream",
     "text": [
      "tensor([[0.0062, 0.0062, 0.9876]])\n",
      "tensor([[0.0091, 0.0037, 0.9872]])\n",
      "tensor([[0.0050, 0.0322, 0.9629]])\n"
     ]
    },
    {
     "name": "stderr",
     "output_type": "stream",
     "text": [
      " 46%|████▌     | 69/150 [00:06<00:07, 11.07it/s]"
     ]
    },
    {
     "name": "stdout",
     "output_type": "stream",
     "text": [
      "tensor([[0.0036, 0.0041, 0.9923]])\n",
      "tensor([[0.0070, 0.0039, 0.9891]])\n",
      "tensor([[0.0059, 0.0146, 0.9795]])\n"
     ]
    },
    {
     "name": "stderr",
     "output_type": "stream",
     "text": [
      " 47%|████▋     | 71/150 [00:06<00:07, 11.05it/s]"
     ]
    },
    {
     "name": "stdout",
     "output_type": "stream",
     "text": [
      "tensor([[5.1078e-04, 2.3529e-02, 9.7596e-01]])\n",
      "tensor([[0.0011, 0.0015, 0.9974]])\n",
      "tensor([[4.3172e-04, 1.0540e-03, 9.9851e-01]])\n"
     ]
    },
    {
     "name": "stderr",
     "output_type": "stream",
     "text": [
      " 50%|█████     | 75/150 [00:06<00:06, 11.07it/s]"
     ]
    },
    {
     "name": "stdout",
     "output_type": "stream",
     "text": [
      "tensor([[0.0133, 0.0039, 0.9828]])\n",
      "tensor([[0.0019, 0.0025, 0.9956]])\n",
      "tensor([[0.0015, 0.0029, 0.9956]])\n"
     ]
    },
    {
     "name": "stderr",
     "output_type": "stream",
     "text": [
      " 51%|█████▏    | 77/150 [00:07<00:06, 11.08it/s]"
     ]
    },
    {
     "name": "stdout",
     "output_type": "stream",
     "text": [
      "tensor([[0.0096, 0.1023, 0.8880]])\n",
      "tensor([[6.4879e-04, 3.0944e-03, 9.9626e-01]])\n",
      "tensor([[0.0019, 0.0014, 0.9967]])\n"
     ]
    },
    {
     "name": "stderr",
     "output_type": "stream",
     "text": [
      " 54%|█████▍    | 81/150 [00:07<00:06, 11.05it/s]"
     ]
    },
    {
     "name": "stdout",
     "output_type": "stream",
     "text": [
      "tensor([[0.0111, 0.0234, 0.9656]])\n",
      "tensor([[0.2474, 0.0142, 0.7384]])\n",
      "tensor([[0.0047, 0.0058, 0.9895]])\n"
     ]
    },
    {
     "name": "stderr",
     "output_type": "stream",
     "text": [
      " 55%|█████▌    | 83/150 [00:07<00:06, 11.05it/s]"
     ]
    },
    {
     "name": "stdout",
     "output_type": "stream",
     "text": [
      "tensor([[0.0055, 0.0035, 0.9910]])\n",
      "tensor([[0.0054, 0.3848, 0.6098]])\n",
      "tensor([[0.0186, 0.0143, 0.9672]])\n"
     ]
    },
    {
     "name": "stderr",
     "output_type": "stream",
     "text": [
      " 58%|█████▊    | 87/150 [00:07<00:05, 11.07it/s]"
     ]
    },
    {
     "name": "stdout",
     "output_type": "stream",
     "text": [
      "tensor([[0.0028, 0.0012, 0.9960]])\n",
      "tensor([[0.0621, 0.0333, 0.9046]])\n",
      "tensor([[0.1518, 0.0225, 0.8257]])\n"
     ]
    },
    {
     "name": "stderr",
     "output_type": "stream",
     "text": [
      " 59%|█████▉    | 89/150 [00:08<00:05, 11.04it/s]"
     ]
    },
    {
     "name": "stdout",
     "output_type": "stream",
     "text": [
      "tensor([[6.4561e-04, 3.6159e-02, 9.6320e-01]])\n",
      "tensor([[0.0090, 0.0048, 0.9862]])\n",
      "tensor([[0.0113, 0.0439, 0.9447]])\n"
     ]
    },
    {
     "name": "stderr",
     "output_type": "stream",
     "text": [
      " 62%|██████▏   | 93/150 [00:08<00:05, 11.03it/s]"
     ]
    },
    {
     "name": "stdout",
     "output_type": "stream",
     "text": [
      "tensor([[0.0010, 0.0147, 0.9843]])\n",
      "tensor([[0.0903, 0.2976, 0.6121]])\n",
      "tensor([[0.0214, 0.9105, 0.0681]])\n"
     ]
    },
    {
     "name": "stderr",
     "output_type": "stream",
     "text": [
      " 63%|██████▎   | 95/150 [00:08<00:04, 11.00it/s]"
     ]
    },
    {
     "name": "stdout",
     "output_type": "stream",
     "text": [
      "tensor([[0.0131, 0.5869, 0.4000]])\n",
      "tensor([[0.0014, 0.9388, 0.0598]])\n",
      "tensor([[2.2683e-04, 9.9862e-01, 1.1536e-03]])\n"
     ]
    },
    {
     "name": "stderr",
     "output_type": "stream",
     "text": [
      " 66%|██████▌   | 99/150 [00:09<00:04, 11.00it/s]"
     ]
    },
    {
     "name": "stdout",
     "output_type": "stream",
     "text": [
      "tensor([[0.0016, 0.9950, 0.0034]])\n",
      "tensor([[0.0049, 0.7961, 0.1990]])\n",
      "tensor([[3.4973e-04, 9.9723e-01, 2.4158e-03]])\n"
     ]
    },
    {
     "name": "stderr",
     "output_type": "stream",
     "text": [
      " 67%|██████▋   | 101/150 [00:09<00:04, 11.00it/s]"
     ]
    },
    {
     "name": "stdout",
     "output_type": "stream",
     "text": [
      "tensor([[0.0021, 0.9777, 0.0202]])\n",
      "tensor([[0.0051, 0.9631, 0.0319]])\n",
      "tensor([[0.0294, 0.7756, 0.1950]])\n"
     ]
    },
    {
     "name": "stderr",
     "output_type": "stream",
     "text": [
      " 70%|███████   | 105/150 [00:09<00:04, 11.01it/s]"
     ]
    },
    {
     "name": "stdout",
     "output_type": "stream",
     "text": [
      "tensor([[6.7213e-04, 9.9694e-01, 2.3877e-03]])\n",
      "tensor([[0.0019, 0.9923, 0.0057]])\n",
      "tensor([[0.0048, 0.9725, 0.0226]])\n"
     ]
    },
    {
     "name": "stderr",
     "output_type": "stream",
     "text": [
      " 71%|███████▏  | 107/150 [00:09<00:03, 11.01it/s]"
     ]
    },
    {
     "name": "stdout",
     "output_type": "stream",
     "text": [
      "tensor([[0.0024, 0.9863, 0.0113]])\n",
      "tensor([[3.4728e-04, 9.5329e-01, 4.6359e-02]])\n",
      "tensor([[5.5063e-04, 9.9813e-01, 1.3195e-03]])\n"
     ]
    },
    {
     "name": "stderr",
     "output_type": "stream",
     "text": [
      " 74%|███████▍  | 111/150 [00:10<00:03, 11.01it/s]"
     ]
    },
    {
     "name": "stdout",
     "output_type": "stream",
     "text": [
      "tensor([[0.0014, 0.9944, 0.0042]])\n",
      "tensor([[0.0031, 0.9764, 0.0204]])\n",
      "tensor([[7.5949e-04, 9.9491e-01, 4.3352e-03]])\n"
     ]
    },
    {
     "name": "stderr",
     "output_type": "stream",
     "text": [
      " 75%|███████▌  | 113/150 [00:10<00:03, 11.01it/s]"
     ]
    },
    {
     "name": "stdout",
     "output_type": "stream",
     "text": [
      "tensor([[1.6831e-04, 9.7360e-01, 2.6235e-02]])\n",
      "tensor([[0.0025, 0.9124, 0.0851]])\n",
      "tensor([[3.9349e-04, 9.9782e-01, 1.7837e-03]])\n"
     ]
    },
    {
     "name": "stderr",
     "output_type": "stream",
     "text": [
      " 78%|███████▊  | 117/150 [00:10<00:02, 11.02it/s]"
     ]
    },
    {
     "name": "stdout",
     "output_type": "stream",
     "text": [
      "tensor([[0.0099, 0.8306, 0.1594]])\n",
      "tensor([[0.0040, 0.9179, 0.0781]])\n",
      "tensor([[0.0013, 0.9839, 0.0148]])\n"
     ]
    },
    {
     "name": "stderr",
     "output_type": "stream",
     "text": [
      " 79%|███████▉  | 119/150 [00:10<00:02, 11.04it/s]"
     ]
    },
    {
     "name": "stdout",
     "output_type": "stream",
     "text": [
      "tensor([[0.0025, 0.9948, 0.0027]])\n",
      "tensor([[0.0011, 0.9738, 0.0250]])\n",
      "tensor([[0.0058, 0.5367, 0.4576]])\n"
     ]
    },
    {
     "name": "stderr",
     "output_type": "stream",
     "text": [
      " 82%|████████▏ | 123/150 [00:11<00:02, 11.03it/s]"
     ]
    },
    {
     "name": "stdout",
     "output_type": "stream",
     "text": [
      "tensor([[3.7525e-04, 9.9578e-01, 3.8459e-03]])\n",
      "tensor([[0.0012, 0.9604, 0.0384]])\n",
      "tensor([[6.9631e-04, 9.9590e-01, 3.4086e-03]])\n"
     ]
    },
    {
     "name": "stderr",
     "output_type": "stream",
     "text": [
      " 83%|████████▎ | 125/150 [00:11<00:02, 11.01it/s]"
     ]
    },
    {
     "name": "stdout",
     "output_type": "stream",
     "text": [
      "tensor([[0.0154, 0.8563, 0.1283]])\n",
      "tensor([[0.0017, 0.9756, 0.0227]])\n",
      "tensor([[0.0018, 0.9021, 0.0961]])\n"
     ]
    },
    {
     "name": "stderr",
     "output_type": "stream",
     "text": [
      " 86%|████████▌ | 129/150 [00:11<00:01, 11.10it/s]"
     ]
    },
    {
     "name": "stdout",
     "output_type": "stream",
     "text": [
      "tensor([[0.0013, 0.9970, 0.0017]])\n",
      "tensor([[6.7064e-04, 9.9336e-01, 5.9705e-03]])\n",
      "tensor([[4.2189e-04, 9.9847e-01, 1.1104e-03]])\n"
     ]
    },
    {
     "name": "stderr",
     "output_type": "stream",
     "text": [
      " 87%|████████▋ | 131/150 [00:11<00:01, 11.10it/s]"
     ]
    },
    {
     "name": "stdout",
     "output_type": "stream",
     "text": [
      "tensor([[0.0012, 0.9931, 0.0057]])\n",
      "tensor([[0.0021, 0.9916, 0.0062]])\n",
      "tensor([[0.0014, 0.9890, 0.0096]])\n"
     ]
    },
    {
     "name": "stderr",
     "output_type": "stream",
     "text": [
      " 90%|█████████ | 135/150 [00:12<00:01, 11.14it/s]"
     ]
    },
    {
     "name": "stdout",
     "output_type": "stream",
     "text": [
      "tensor([[0.0046, 0.9929, 0.0026]])\n",
      "tensor([[2.6398e-04, 9.9086e-01, 8.8714e-03]])\n",
      "tensor([[8.3270e-04, 9.8950e-01, 9.6679e-03]])\n"
     ]
    },
    {
     "name": "stderr",
     "output_type": "stream",
     "text": [
      " 91%|█████████▏| 137/150 [00:12<00:01, 11.13it/s]"
     ]
    },
    {
     "name": "stdout",
     "output_type": "stream",
     "text": [
      "tensor([[0.0048, 0.9440, 0.0512]])\n",
      "tensor([[0.0667, 0.4268, 0.5066]])\n",
      "tensor([[0.0020, 0.9931, 0.0049]])\n"
     ]
    },
    {
     "name": "stderr",
     "output_type": "stream",
     "text": [
      " 94%|█████████▍| 141/150 [00:12<00:00, 11.18it/s]"
     ]
    },
    {
     "name": "stdout",
     "output_type": "stream",
     "text": [
      "tensor([[3.6543e-04, 9.9160e-01, 8.0340e-03]])\n",
      "tensor([[8.3442e-04, 9.9659e-01, 2.5734e-03]])\n",
      "tensor([[0.0290, 0.9144, 0.0566]])\n"
     ]
    },
    {
     "name": "stderr",
     "output_type": "stream",
     "text": [
      " 95%|█████████▌| 143/150 [00:13<00:00, 11.16it/s]"
     ]
    },
    {
     "name": "stdout",
     "output_type": "stream",
     "text": [
      "tensor([[0.0237, 0.9518, 0.0244]])\n",
      "tensor([[0.0209, 0.9301, 0.0491]])\n",
      "tensor([[0.1556, 0.4739, 0.3705]])\n"
     ]
    },
    {
     "name": "stderr",
     "output_type": "stream",
     "text": [
      " 98%|█████████▊| 147/150 [00:13<00:00, 11.20it/s]"
     ]
    },
    {
     "name": "stdout",
     "output_type": "stream",
     "text": [
      "tensor([[0.0018, 0.9752, 0.0230]])\n",
      "tensor([[7.2025e-04, 9.8228e-01, 1.7003e-02]])\n",
      "tensor([[6.4392e-04, 9.9309e-01, 6.2700e-03]])\n"
     ]
    },
    {
     "name": "stderr",
     "output_type": "stream",
     "text": [
      "100%|██████████| 150/150 [00:13<00:00, 10.98it/s]"
     ]
    },
    {
     "name": "stdout",
     "output_type": "stream",
     "text": [
      "tensor([[0.0053, 0.9193, 0.0754]])\n",
      "tensor([[2.6237e-04, 9.8656e-01, 1.3173e-02]])\n",
      "tensor([[3.5267e-04, 9.9855e-01, 1.1006e-03]])\n"
     ]
    },
    {
     "name": "stderr",
     "output_type": "stream",
     "text": [
      "\n"
     ]
    }
   ],
   "source": [
    "# Make predictions test dataset with EffNetB2\n",
    "vit_test_pred_dicts = pred_and_store(\n",
    "    paths = test_data_paths, \n",
    "    model = vit, \n",
    "    transforms = vit_transforms, \n",
    "    class_names = class_names, \n",
    "    device = \"cpu\" # hardcode predictions to happen on CPU\n",
    ")"
   ]
  },
  {
   "cell_type": "code",
   "execution_count": 45,
   "metadata": {
    "colab": {
     "base_uri": "https://localhost:8080/"
    },
    "id": "plqu_H5ocuMb",
    "outputId": "2bbdc47c-143b-4d74-8a86-814a6f1879af"
   },
   "outputs": [
    {
     "data": {
      "text/html": [
       "<div>\n",
       "<style scoped>\n",
       "    .dataframe tbody tr th:only-of-type {\n",
       "        vertical-align: middle;\n",
       "    }\n",
       "\n",
       "    .dataframe tbody tr th {\n",
       "        vertical-align: top;\n",
       "    }\n",
       "\n",
       "    .dataframe thead th {\n",
       "        text-align: right;\n",
       "    }\n",
       "</style>\n",
       "<table border=\"1\" class=\"dataframe\">\n",
       "  <thead>\n",
       "    <tr style=\"text-align: right;\">\n",
       "      <th></th>\n",
       "      <th>image_path</th>\n",
       "      <th>class_name</th>\n",
       "      <th>pred_prob</th>\n",
       "      <th>pred_class</th>\n",
       "      <th>time_for_pred</th>\n",
       "      <th>correct</th>\n",
       "    </tr>\n",
       "  </thead>\n",
       "  <tbody>\n",
       "    <tr>\n",
       "      <th>0</th>\n",
       "      <td>data/pizza_steak_sushi_20_percent/test/pizza/1...</td>\n",
       "      <td>pizza</td>\n",
       "      <td>0.9948</td>\n",
       "      <td>pizza</td>\n",
       "      <td>0.2021</td>\n",
       "      <td>True</td>\n",
       "    </tr>\n",
       "    <tr>\n",
       "      <th>1</th>\n",
       "      <td>data/pizza_steak_sushi_20_percent/test/pizza/7...</td>\n",
       "      <td>pizza</td>\n",
       "      <td>0.9980</td>\n",
       "      <td>pizza</td>\n",
       "      <td>0.0903</td>\n",
       "      <td>True</td>\n",
       "    </tr>\n",
       "    <tr>\n",
       "      <th>2</th>\n",
       "      <td>data/pizza_steak_sushi_20_percent/test/pizza/9...</td>\n",
       "      <td>pizza</td>\n",
       "      <td>0.9982</td>\n",
       "      <td>pizza</td>\n",
       "      <td>0.0881</td>\n",
       "      <td>True</td>\n",
       "    </tr>\n",
       "    <tr>\n",
       "      <th>3</th>\n",
       "      <td>data/pizza_steak_sushi_20_percent/test/pizza/2...</td>\n",
       "      <td>pizza</td>\n",
       "      <td>0.9983</td>\n",
       "      <td>pizza</td>\n",
       "      <td>0.0908</td>\n",
       "      <td>True</td>\n",
       "    </tr>\n",
       "    <tr>\n",
       "      <th>4</th>\n",
       "      <td>data/pizza_steak_sushi_20_percent/test/pizza/4...</td>\n",
       "      <td>pizza</td>\n",
       "      <td>0.9917</td>\n",
       "      <td>pizza</td>\n",
       "      <td>0.0884</td>\n",
       "      <td>True</td>\n",
       "    </tr>\n",
       "  </tbody>\n",
       "</table>\n",
       "</div>"
      ],
      "text/plain": [
       "                                          image_path class_name  pred_prob  \\\n",
       "0  data/pizza_steak_sushi_20_percent/test/pizza/1...      pizza     0.9948   \n",
       "1  data/pizza_steak_sushi_20_percent/test/pizza/7...      pizza     0.9980   \n",
       "2  data/pizza_steak_sushi_20_percent/test/pizza/9...      pizza     0.9982   \n",
       "3  data/pizza_steak_sushi_20_percent/test/pizza/2...      pizza     0.9983   \n",
       "4  data/pizza_steak_sushi_20_percent/test/pizza/4...      pizza     0.9917   \n",
       "\n",
       "  pred_class  time_for_pred  correct  \n",
       "0      pizza         0.2021     True  \n",
       "1      pizza         0.0903     True  \n",
       "2      pizza         0.0881     True  \n",
       "3      pizza         0.0908     True  \n",
       "4      pizza         0.0884     True  "
      ]
     },
     "execution_count": 45,
     "metadata": {},
     "output_type": "execute_result"
    }
   ],
   "source": [
    "# Turn the test_pred_dicts into a DataFrame\n",
    "import pandas as pd\n",
    "vit_test_pred_df = pd.DataFrame(vit_test_pred_dicts)\n",
    "vit_test_pred_df.head(5)"
   ]
  },
  {
   "cell_type": "code",
   "execution_count": 46,
   "metadata": {
    "colab": {
     "base_uri": "https://localhost:8080/"
    },
    "id": "LlL0zk_gc2Z7",
    "outputId": "7507a44f-6875-4cdd-acb6-1dea21a64095"
   },
   "outputs": [
    {
     "data": {
      "text/plain": [
       "True     148\n",
       "False      2\n",
       "Name: correct, dtype: int64"
      ]
     },
     "execution_count": 46,
     "metadata": {},
     "output_type": "execute_result"
    }
   ],
   "source": [
    "# Count the number of correct predictions\n",
    "vit_test_pred_df.correct.value_counts()"
   ]
  },
  {
   "cell_type": "code",
   "execution_count": 47,
   "metadata": {
    "colab": {
     "base_uri": "https://localhost:8080/"
    },
    "id": "D9t3aWCHc6VP",
    "outputId": "edfcac96-5126-409a-9d90-3a972ba2b9d0"
   },
   "outputs": [
    {
     "name": "stdout",
     "output_type": "stream",
     "text": [
      "ViT average time per prediction: 0.0906 seconds\n"
     ]
    }
   ],
   "source": [
    "# Calculate average time per prediction for ViT model\n",
    "vit_average_time_per_pred = round(vit_test_pred_df.time_for_pred.mean(), 4)\n",
    "print(f\"ViT average time per prediction: {vit_average_time_per_pred} seconds\")"
   ]
  },
  {
   "cell_type": "code",
   "execution_count": 48,
   "metadata": {
    "colab": {
     "base_uri": "https://localhost:8080/"
    },
    "id": "iCsM7BsjdDFY",
    "outputId": "25e93acd-3d89-4fb3-aa8a-debdb0e408eb"
   },
   "outputs": [
    {
     "data": {
      "text/plain": [
       "{'test_loss': 0.06444406174123288,\n",
       " 'test_acc': 0.984659090909091,\n",
       " 'number_of_parameters': 85800963,\n",
       " 'model_size (MB)': 327,\n",
       " 'time_per_pred_cpu': 0.0906}"
      ]
     },
     "execution_count": 48,
     "metadata": {},
     "output_type": "execute_result"
    }
   ],
   "source": [
    "# Add average prediction time for ViT model on CPU\n",
    "vit_stats[\"time_per_pred_cpu\"] = vit_average_time_per_pred\n",
    "vit_stats"
   ]
  },
  {
   "cell_type": "markdown",
   "metadata": {
    "id": "OSGfKz9AgWII"
   },
   "source": [
    "## 1.6. Comparing model results, prediction times and size"
   ]
  },
  {
   "cell_type": "markdown",
   "metadata": {},
   "source": [
    "Let's turn our `effnetb2_stats` and `vit_stats` dictionaries into a pandas DataFrame.\n",
    "\n",
    "We add a column to view the model names as well as the convert the test accuracy to a whole percentage rather than decimal."
   ]
  },
  {
   "cell_type": "code",
   "execution_count": 51,
   "metadata": {
    "colab": {
     "base_uri": "https://localhost:8080/",
     "height": 112
    },
    "id": "FGbvkQYhrbBR",
    "outputId": "b609ea7b-857f-4490-889e-4b13d585ebf1"
   },
   "outputs": [
    {
     "data": {
      "text/html": [
       "<div>\n",
       "<style scoped>\n",
       "    .dataframe tbody tr th:only-of-type {\n",
       "        vertical-align: middle;\n",
       "    }\n",
       "\n",
       "    .dataframe tbody tr th {\n",
       "        vertical-align: top;\n",
       "    }\n",
       "\n",
       "    .dataframe thead th {\n",
       "        text-align: right;\n",
       "    }\n",
       "</style>\n",
       "<table border=\"1\" class=\"dataframe\">\n",
       "  <thead>\n",
       "    <tr style=\"text-align: right;\">\n",
       "      <th></th>\n",
       "      <th>test_loss</th>\n",
       "      <th>test_acc</th>\n",
       "      <th>number_of_parameters</th>\n",
       "      <th>model_size (MB)</th>\n",
       "      <th>time_per_pred_cpu</th>\n",
       "      <th>models</th>\n",
       "    </tr>\n",
       "  </thead>\n",
       "  <tbody>\n",
       "    <tr>\n",
       "      <th>0</th>\n",
       "      <td>0.281415</td>\n",
       "      <td>96.88</td>\n",
       "      <td>7705221</td>\n",
       "      <td>29</td>\n",
       "      <td>0.0452</td>\n",
       "      <td>EffNetB2</td>\n",
       "    </tr>\n",
       "    <tr>\n",
       "      <th>1</th>\n",
       "      <td>0.064444</td>\n",
       "      <td>98.47</td>\n",
       "      <td>85800963</td>\n",
       "      <td>327</td>\n",
       "      <td>0.0906</td>\n",
       "      <td>ViT</td>\n",
       "    </tr>\n",
       "  </tbody>\n",
       "</table>\n",
       "</div>"
      ],
      "text/plain": [
       "   test_loss  test_acc  number_of_parameters  model_size (MB)  \\\n",
       "0   0.281415     96.88               7705221               29   \n",
       "1   0.064444     98.47              85800963              327   \n",
       "\n",
       "   time_per_pred_cpu    models  \n",
       "0             0.0452  EffNetB2  \n",
       "1             0.0906       ViT  "
      ]
     },
     "execution_count": 51,
     "metadata": {},
     "output_type": "execute_result"
    }
   ],
   "source": [
    "# Turn stat dictionaries into DataFrame\n",
    "df = pd.DataFrame([effnetb2_stats, vit_stats])\n",
    "\n",
    "# Add columns for model names\n",
    "df['models'] = ['EffNetB2', 'ViT']\n",
    "\n",
    "# Convert accuracy to percentages\n",
    "df['test_acc'] = round(df['test_acc']* 100, 2)\n",
    "df"
   ]
  },
  {
   "cell_type": "markdown",
   "metadata": {
    "id": "dJ0aiwqBsztY"
   },
   "source": [
    "Which model is better?\n",
    "\n",
    "* test_loss - ViT\n",
    "* test_acc - ViT\n",
    "* number_of_parameters (generally lower is better*) - EffNetB2 (if a model has more parameters, it generally takes longer to compute)\n",
    "*sometimes models with large number of parameters can still perform fast\n",
    "* model_size (MB) - EffNetB2 (for our use case of deploying to a mobile device, generally lower is better)\n",
    "* time_per_pred_cpu - EffNetB2 (lower is better, will be highly dependent on the hardware) \n",
    "\n",
    "Both models fail to achieve our goal of 30+FPS. But between these two, EffNetB2 performs better in terms of speed."
   ]
  },
  {
   "cell_type": "code",
   "execution_count": 58,
   "metadata": {
    "colab": {
     "base_uri": "https://localhost:8080/",
     "height": 81
    },
    "id": "m_GgIUsSu9Y-",
    "outputId": "22f4b877-f853-495d-9504-b20550f58a9c"
   },
   "outputs": [
    {
     "data": {
      "text/html": [
       "<div>\n",
       "<style scoped>\n",
       "    .dataframe tbody tr th:only-of-type {\n",
       "        vertical-align: middle;\n",
       "    }\n",
       "\n",
       "    .dataframe tbody tr th {\n",
       "        vertical-align: top;\n",
       "    }\n",
       "\n",
       "    .dataframe thead th {\n",
       "        text-align: right;\n",
       "    }\n",
       "</style>\n",
       "<table border=\"1\" class=\"dataframe\">\n",
       "  <thead>\n",
       "    <tr style=\"text-align: right;\">\n",
       "      <th></th>\n",
       "      <th>test_loss</th>\n",
       "      <th>test_acc</th>\n",
       "      <th>number_of_parameters</th>\n",
       "      <th>model_size (MB)</th>\n",
       "      <th>time_per_pred_cpu</th>\n",
       "    </tr>\n",
       "  </thead>\n",
       "  <tbody>\n",
       "    <tr>\n",
       "      <th>ViT to EffNetB2 ratios</th>\n",
       "      <td>0.229</td>\n",
       "      <td>1.016412</td>\n",
       "      <td>11.135432</td>\n",
       "      <td>11.275862</td>\n",
       "      <td>2.004425</td>\n",
       "    </tr>\n",
       "  </tbody>\n",
       "</table>\n",
       "</div>"
      ],
      "text/plain": [
       "                        test_loss  test_acc  number_of_parameters  \\\n",
       "ViT to EffNetB2 ratios      0.229  1.016412             11.135432   \n",
       "\n",
       "                        model_size (MB)  time_per_pred_cpu  \n",
       "ViT to EffNetB2 ratios        11.275862           2.004425  "
      ]
     },
     "execution_count": 58,
     "metadata": {},
     "output_type": "execute_result"
    }
   ],
   "source": [
    "# Compare ViT to EffNetB2 across different characteristics\n",
    "pd.DataFrame(data=(df.set_index(\"models\").loc[\"ViT\"] / df.set_index(\"models\").loc[\"EffNetB2\"]),\n",
    "             columns=[\"ViT to EffNetB2 ratios\"]).T"
   ]
  },
  {
   "cell_type": "markdown",
   "metadata": {},
   "source": [
    "It seems our ViT model outperforms the EffNetB2 model across the performance metrics (test loss and test accuracy) but at the expense of having:\n",
    "* 11x+ the number of parameters.\n",
    "* 11x+ the model size.\n",
    "* 2x+ the prediction time per image.\n",
    "\n",
    "Since we plan to deploy our FoodVision Mini model to a small device (e.g. a mobile phone), so our compute power is limited, we would better sacrifice a few percent of the accuracy for the sake of faster inference."
   ]
  },
  {
   "cell_type": "markdown",
   "metadata": {
    "id": "pvje5a-2vowb"
   },
   "source": [
    "### 1.6.1 Visualizing speed vs performance tradeoff "
   ]
  },
  {
   "cell_type": "markdown",
   "metadata": {
    "id": "6KluWcPIv2_4"
   },
   "source": [
    "So we've compared our EffNetB2 and ViT feature extractor models, now let's visualize the comparison with a speed vs. performance plot.\n",
    "\n",
    "We can do so with matplotlib:\n",
    "\n",
    "* Create a scatter plot from the comparison DataFrame to compare EffNetB2 and ViT across test accuracy and prediction time.\n",
    "* Add titles and labels.\n",
    "* Annotate the samples on the scatter plot.\n",
    "* Create a legend based on the model sizes (model_size (MB))."
   ]
  },
  {
   "cell_type": "code",
   "execution_count": 68,
   "metadata": {
    "colab": {
     "base_uri": "https://localhost:8080/"
    },
    "id": "PJ7-tsKExjTl",
    "outputId": "b02ae2f8-5a92-4854-81c4-881aae27fa64"
   },
   "outputs": [
    {
     "data": {
      "image/png": "[encoded data removed]",
      "text/plain": [
       "<Figure size 1200x800 with 1 Axes>"
      ]
     },
     "metadata": {},
     "output_type": "display_data"
    }
   ],
   "source": [
    "# 1. Create a plot from model comparison DataFrame\n",
    "fig, ax = plt.subplots(figsize=(12, 8))\n",
    "scatter = ax.scatter(data=df, \n",
    "                     x=\"time_per_pred_cpu\", \n",
    "                     y=\"test_acc\", \n",
    "                     c=[\"blue\", \"orange\"], # what colours to use?\n",
    "                     s=\"model_size (MB)\") # size the dots by the model sizes\n",
    "\n",
    "# 2. Add titles, labels and customize fontsize for aesthetics\n",
    "ax.set_title(\"FoodVision Mini Inference Speed vs Performance\", fontsize=18)\n",
    "ax.set_xlabel(\"Prediction time per image (seconds)\", fontsize=14)\n",
    "ax.set_ylabel(\"Test accuracy (%)\", fontsize=14)\n",
    "ax.tick_params(axis='both', labelsize=12)\n",
    "ax.grid(True)\n",
    "\n",
    "# 3. Annotate with model names\n",
    "for index, row in df.iterrows():\n",
    "    ax.annotate(text=row[\"models\"], \n",
    "                xy=(row[\"time_per_pred_cpu\"]+0.0006, row[\"test_acc\"]+0.03),\n",
    "                size=12)\n",
    "\n",
    "# 4. Create a legend based on model sizes\n",
    "handles, labels = scatter.legend_elements(prop=\"sizes\", alpha=0.5)\n",
    "model_size_legend = ax.legend(handles,\n",
    "                              labels, \n",
    "                              loc=\"lower right\", \n",
    "                              title=\"Model size (MB)\",\n",
    "                              fontsize=12)\n",
    "\n",
    "# Save the figure\n",
    "plt.savefig(\"foodvision-mini-inference-speed-vs-performance.png\")\n",
    "\n",
    "# Show the figure\n",
    "plt.show()"
   ]
  },
  {
   "cell_type": "markdown",
   "metadata": {},
   "source": [
    "As we can see our models' performance levels (on the test loss and test accuracy) aren't too extreme.\n",
    "\n",
    "But since we'd like to put an emphasis on speed, we're going to stick with deploying EffNetB2 since it's faster and has a much smaller footprint."
   ]
  },
  {
   "cell_type": "markdown",
   "metadata": {
    "id": "HQ5PrG-Myypx"
   },
   "source": [
    "## 1.7 Bringing FoodVision Mini to life by creating a Gradio demo\n",
    "We've chosen to deploy EffNetB2 as it fulfils our criteria the best."
   ]
  },
  {
   "cell_type": "code",
   "execution_count": 69,
   "metadata": {
    "colab": {
     "base_uri": "https://localhost:8080/"
    },
    "id": "NwkansGK6VJb",
    "outputId": "f2a6c3ef-721c-4fb8-ecaf-f63176a20aa4"
   },
   "outputs": [
    {
     "name": "stdout",
     "output_type": "stream",
     "text": [
      "\u001b[33m  WARNING: The script markdown-it is installed in '/home/ocr/.local/bin' which is not on PATH.\n",
      "  Consider adding this directory to PATH or, if you prefer to suppress this warning, use --no-warn-script-location.\u001b[0m\n",
      "\u001b[33m  WARNING: The script uvicorn is installed in '/home/ocr/.local/bin' which is not on PATH.\n",
      "  Consider adding this directory to PATH or, if you prefer to suppress this warning, use --no-warn-script-location.\u001b[0m\n",
      "\u001b[33m  WARNING: The script httpx is installed in '/home/ocr/.local/bin' which is not on PATH.\n",
      "  Consider adding this directory to PATH or, if you prefer to suppress this warning, use --no-warn-script-location.\u001b[0m\n",
      "\u001b[33m  WARNING: The script gradio is installed in '/home/ocr/.local/bin' which is not on PATH.\n",
      "  Consider adding this directory to PATH or, if you prefer to suppress this warning, use --no-warn-script-location.\u001b[0m\n",
      "Gradio version: 3.19.1\n"
     ]
    }
   ],
   "source": [
    "# Import/install Gradio \n",
    "try:\n",
    "    import gradio as gr\n",
    "except: \n",
    "    !pip -q install gradio\n",
    "    import gradio as gr\n",
    "    \n",
    "print(f\"Gradio version: {gr.__version__}\")"
   ]
  },
  {
   "cell_type": "markdown",
   "metadata": {
    "id": "s4WSIldG6NxG"
   },
   "source": [
    "## 1.7.1 Creating a function to map our inputs and outputs"
   ]
  },
  {
   "cell_type": "markdown",
   "metadata": {},
   "source": [
    "To create FoodVision Mini demo with Gradio, we'll need a function to map our inputs to our outputs.\n",
    "\n",
    "We want to create a function that takes an image as input, preprocesses (transforms) it, makes a prediction with EffNetB2 and then returns the prediction (pred label) as well as the prediction probability (pred prob).\n",
    "\n",
    "Let's create a function called predict() that do the following:\n",
    "\n",
    "`images of food -> ML model (EffNetB2) -> outputs (food class label, prediction time)`"
   ]
  },
  {
   "cell_type": "markdown",
   "metadata": {},
   "source": [
    "First, we make sure our EffNetB2 model is on the CPU (since we're sticking with CPU-only predictions, however you could change this if you have access to a GPU)."
   ]
  },
  {
   "cell_type": "code",
   "execution_count": 70,
   "metadata": {
    "colab": {
     "base_uri": "https://localhost:8080/"
    },
    "id": "LbzPSsqb8Zql",
    "outputId": "15fa43a6-5326-4e83-97af-8376695d518e"
   },
   "outputs": [
    {
     "data": {
      "text/plain": [
       "device(type='cpu')"
      ]
     },
     "execution_count": 70,
     "metadata": {},
     "output_type": "execute_result"
    }
   ],
   "source": [
    "# Put our model on the CPU\n",
    "effnetb2 = effnetb2.to(\"cpu\")\n",
    "\n",
    "# Check the device \n",
    "next(iter(effnetb2.parameters())).device"
   ]
  },
  {
   "cell_type": "markdown",
   "metadata": {},
   "source": [
    "Let's create a function described above."
   ]
  },
  {
   "cell_type": "code",
   "execution_count": 71,
   "metadata": {
    "id": "lTibgiuRSgd4"
   },
   "outputs": [],
   "source": [
    "from typing import Tuple, Dict\n",
    "\n",
    "def predict(img) -> Tuple[Dict, float]:\n",
    "  # Start a timer\n",
    "  start_time = timer()\n",
    "\n",
    "  # Transform the input image for use with EffNetB2\n",
    "  img = effnetb2_transforms(img).unsqueeze(0) # add batch dimension on 0th index\n",
    "\n",
    "  # Put model into eval mode, make predictions \n",
    "  effnetb2.eval()\n",
    "  with torch.inference_mode():\n",
    "    # Pass the transformed image through the model and turn the prediction logits into probabilities\n",
    "    pred_probs = torch.softmax(effnetb2(img), dim=1)\n",
    "\n",
    "  # Create a prediction label and prediction probability dictionary\n",
    "  pred_labels_and_probs = {class_names[i]: float(pred_probs[0][i]) for i in range(len(class_names))}\n",
    "\n",
    "  # Calculate the pred time\n",
    "  end_time = timer()\n",
    "  pred_time = round(end_time-start_time, 4)\n",
    "\n",
    "  # Return pred dict and pred time\n",
    "  return pred_labels_and_probs, pred_time"
   ]
  },
  {
   "cell_type": "markdown",
   "metadata": {},
   "source": [
    "Now let's see our function in action by performing a prediction on a random image from the test dataset."
   ]
  },
  {
   "cell_type": "code",
   "execution_count": 72,
   "metadata": {
    "colab": {
     "base_uri": "https://localhost:8080/"
    },
    "id": "nZe9iRvpSiP6",
    "outputId": "ccb215ed-fd11-490c-984a-05feae84d301"
   },
   "outputs": [
    {
     "name": "stdout",
     "output_type": "stream",
     "text": [
      "[INFO] Predicting on image at path: data/pizza_steak_sushi_20_percent/test/steak/367422.jpg\n",
      "\n",
      "Prediction label and probability dictionary: \n",
      "{'pizza': 0.017834043130278587, 'steak': 0.9569805264472961, 'sushi': 0.025185417383909225}\n",
      "Prediction time: 0.0484 seconds\n"
     ]
    }
   ],
   "source": [
    "import random\n",
    "from PIL import Image\n",
    "\n",
    "# Get a list of all test image filepaths\n",
    "test_data_paths = list(Path(test_dir).glob('*/*.jpg'))\n",
    "\n",
    "# Randomly select a test image path\n",
    "random_image_path = random.sample(test_data_paths, k=1)[0]\n",
    "\n",
    "# Open the target image\n",
    "image = Image.open(random_image_path)\n",
    "print(f\"[INFO] Predicting on image at path: {random_image_path}\\n\")\n",
    "\n",
    "# Predict on target image and print out the outputs\n",
    "pred_dict, pred_time = predict(img=image)\n",
    "print(f\"Prediction label and probability dictionary: \\n{pred_dict}\")\n",
    "print(f\"Prediction time: {pred_time} seconds\")"
   ]
  },
  {
   "cell_type": "markdown",
   "metadata": {
    "id": "jRuzqrl2TdXC"
   },
   "source": [
    "### 1.7.2 Creating a list of example images"
   ]
  },
  {
   "cell_type": "markdown",
   "metadata": {},
   "source": [
    "Before we create the demo, let's create a list of examples, because Gradio's Interface class takes a list of examples as an optional parameter (gradio.Interface(examples=List[Any])).\n",
    "\n",
    "So let's create a list of lists containing random filepaths to our test images."
   ]
  },
  {
   "cell_type": "code",
   "execution_count": 81,
   "metadata": {
    "colab": {
     "base_uri": "https://localhost:8080/"
    },
    "id": "wL53zVQabcSj",
    "outputId": "163e7eb2-2272-475e-f1ca-fd1ade2cbc57"
   },
   "outputs": [
    {
     "data": {
      "text/plain": [
       "['data/pizza_steak_sushi_20_percent/test/pizza/2782998.jpg',\n",
       " 'data/pizza_steak_sushi_20_percent/test/sushi/2274102.jpg',\n",
       " 'data/pizza_steak_sushi_20_percent/test/steak/552171.jpg']"
      ]
     },
     "execution_count": 81,
     "metadata": {},
     "output_type": "execute_result"
    }
   ],
   "source": [
    "# Create list of example inputs to our Gradio demo\n",
    "example_list = [str(filepath) for filepath in random.sample(test_data_paths, k=3)]\n",
    "example_list"
   ]
  },
  {
   "cell_type": "markdown",
   "metadata": {
    "id": "4N2cfqMubcgA"
   },
   "source": [
    "### 1.7.3 Building a Gradio Interface\n",
    "\n",
    "Let's create a Gradio interface to replicate the workflow:\n",
    "\n",
    "`input: image -> transform -> predict with EffNetB2 -> output: pred, prob prob, time`"
   ]
  },
  {
   "cell_type": "code",
   "execution_count": 82,
   "metadata": {
    "colab": {
     "base_uri": "https://localhost:8080/"
    },
    "id": "G1xcXNNvbclP",
    "outputId": "80922cb3-d248-4b28-8598-6aefb18b7b59"
   },
   "outputs": [
    {
     "name": "stdout",
     "output_type": "stream",
     "text": [
      "Running on local URL:  http://127.0.0.1:7865\n",
      "Running on public URL: https://3ae8ed2aab2019fef2.gradio.live\n",
      "\n",
      "This share link expires in 72 hours. For free permanent hosting and GPU upgrades (NEW!), check out Spaces: https://huggingface.co/spaces\n"
     ]
    },
    {
     "data": {
      "text/html": [
       "<div><iframe src=\"https://3ae8ed2aab2019fef2.gradio.live\" width=\"100%\" height=\"500\" allow=\"autoplay; camera; microphone; clipboard-read; clipboard-write;\" frameborder=\"0\" allowfullscreen></iframe></div>"
      ],
      "text/plain": [
       "<IPython.core.display.HTML object>"
      ]
     },
     "metadata": {},
     "output_type": "display_data"
    },
    {
     "data": {
      "text/plain": []
     },
     "execution_count": 82,
     "metadata": {},
     "output_type": "execute_result"
    }
   ],
   "source": [
    "import gradio as gr\n",
    "\n",
    "# Create title, description and article\n",
    "title = \"FoodVision Mini 🍕🥩🍣\"\n",
    "description = \"An [EfficientNetB2 feature extractor](https://pytorch.org/vision/stable/models/generated/torchvision.models.efficientnet_b2.html#torchvision.models.efficientnet_b2) computer vision model to classify images as pizza, steak or sushi.\"\n",
    "article = \"Created at [PyTorch Model Deployment](https://www.learnpytorch.io/09_pytorch_model_deployment/#74-building-a-gradio-interface)\"\n",
    "\n",
    "# Create the Gradio demo\n",
    "demo = gr.Interface(\n",
    "    fn = predict, # a Python function to map inputs to outputs\n",
    "    inputs = gr.Image(type='pil'), # the input to our interface such as an image using gradio.Image() \n",
    "    outputs = [gr.Label(num_top_classes=3, label =\"Predictions\"), # the output of our interface once the inputs have gone \n",
    "               # through the fn, such as a label using gradio.Label() (for our model's predicted labels) or \n",
    "               # number using gradio.Number() (for our model's prediction time).\n",
    "               gr.Number(label ='Prediction time (s)')], \n",
    "               examples=example_list, # a list of examples to showcase for the demo.\n",
    "               title=title, # a string title of the demo.\n",
    "               description=description, # a string description of the demo.\n",
    "               article=article) #  a reference note at the bottom of the demo.            \n",
    "# Launch the demo\n",
    "demo.launch(debug=False, # print errors locally?\n",
    "            share=True) # generate a publically shareable URL"
   ]
  },
  {
   "cell_type": "markdown",
   "metadata": {
    "id": "ojcxMFjnTdg9"
   },
   "source": [
    "## 1.8 Turning our FoodVision Mini Gradio Demo into a deployable app\n",
    "\n",
    "Gradio demos from Google Colab expire within 72 hours.\n",
    "\n",
    "To fix this, we're going to prepare our app files so we can host them on Hugging Face Spaces: https://huggingface.co/docs/hub/spaces\n"
   ]
  },
  {
   "cell_type": "markdown",
   "metadata": {
    "id": "K7HgY8vare3I"
   },
   "source": [
    "### 1.8.1 Deployed Gradio app structure"
   ]
  },
  {
   "cell_type": "markdown",
   "metadata": {
    "id": "pKtZgBP_re-X"
   },
   "source": [
    "To upload our demo Gradio app, we put everything relating to it into a single directory.\n",
    "For example, our demo might live at the path demos/foodvision_mini/ with the file structure:\n",
    "\n",
    "```\n",
    "demos/\n",
    "└── foodvision_mini/\n",
    "    ├── pretrained_effnetb2_feature_extractor_pizza_steak_sushi_20_percent.pth\n",
    "    ├── app.py\n",
    "    ├── examples/\n",
    "    │   ├── example_1.jpg\n",
    "    │   ├── example_2.jpg\n",
    "    │   └── example_3.jpg\n",
    "    ├── model.py\n",
    "    └── requirements.txt\n",
    "```\n",
    "Where:\n",
    "* `09_pretrained_effnetb2_feature_extractor_pizza_steak_sushi_20_percent.pth` is our trained PyTorch model file.\n",
    "* `app.py` contains our Gradio app.\n",
    "* `examples/` contains example images to use with our Gradio app.\n",
    "* `model.py` contains the model defintion as well as any transforms assosciated with the model.\n",
    "* `requirements.txt` contains the dependencies to run our app such as torch, torchvision and gradio."
   ]
  },
  {
   "cell_type": "markdown",
   "metadata": {
    "id": "8rAj-qmz1QJE"
   },
   "source": [
    "### 1.8.2 Creating a demos folder to store our FoodVision app files\n",
    "\n"
   ]
  },
  {
   "cell_type": "markdown",
   "metadata": {},
   "source": [
    "Firstly, we create a demos/directory to store all of our FoodVision Mini app files.\n",
    "\n",
    "We can do with Python's `pathlib.Path(\"path_to_dir\")` to establish the directory path and `pathlib.Path(\"path_to_dir\").mkdir()` to create it."
   ]
  },
  {
   "cell_type": "code",
   "execution_count": 84,
   "metadata": {
    "id": "F_3URsGT1QRT"
   },
   "outputs": [],
   "source": [
    "import shutil\n",
    "from pathlib import Path\n",
    "\n",
    "# Create FoodVision Mini demo path\n",
    "food_vision_mini_demo_path = Path(\"demos/foodvision_mini\")\n",
    "\n",
    "# Remove files that might exist and create a new directory\n",
    "if food_vision_mini_demo_path.exists():\n",
    "  shutil.rmtree(food_vision_mini_demo_path)\n",
    "  food_vision_mini_demo_path.mkdir(parents = True, \n",
    "                                   exist_ok = True)\n",
    "else:\n",
    "  food_vision_mini_demo_path.mkdir(parents = True, \n",
    "                                   exist_ok = True)\n",
    "!ls demos/foodvision_mini"
   ]
  },
  {
   "cell_type": "markdown",
   "metadata": {
    "id": "deq0GJTL1QbF"
   },
   "source": [
    "### 1.8.3 Creating a folder of example images to use with our FoodVision Mini demo"
   ]
  },
  {
   "cell_type": "markdown",
   "metadata": {
    "id": "nBNmJnEr1Qk3"
   },
   "source": [
    "Now we've a directory to store our FoodVision Mini demo files. \n",
    "Let's add some examples to it.\n",
    "3 random images from test set should be enough."
   ]
  },
  {
   "cell_type": "code",
   "execution_count": 86,
   "metadata": {
    "colab": {
     "base_uri": "https://localhost:8080/"
    },
    "id": "R-0JaYeA1QtY",
    "outputId": "5d346045-0e3b-46c9-bb9b-22b9452e1507"
   },
   "outputs": [
    {
     "name": "stdout",
     "output_type": "stream",
     "text": [
      "[INFO] Copying data/pizza_steak_sushi_20_percent/test/sushi/592799.jpg to demos/foodvision_mini/examples/592799.jpg\n",
      "[INFO] Copying data/pizza_steak_sushi_20_percent/test/steak/3622237.jpg to demos/foodvision_mini/examples/3622237.jpg\n",
      "[INFO] Copying data/pizza_steak_sushi_20_percent/test/pizza/2582289.jpg to demos/foodvision_mini/examples/2582289.jpg\n"
     ]
    }
   ],
   "source": [
    "import shutil\n",
    "from pathlib import Path\n",
    "\n",
    "# Create an examples directory\n",
    "food_vision_mini_examples_path = food_vision_mini_demo_path / 'examples'\n",
    "food_vision_mini_examples_path.mkdir(parents = True, \n",
    "                                     exist_ok = True)\n",
    "\n",
    "# Collect three random test dataset image paths\n",
    "foodvision_mini_examples = [Path('data/pizza_steak_sushi_20_percent/test/sushi/592799.jpg'),\n",
    "                            Path('data/pizza_steak_sushi_20_percent/test/steak/3622237.jpg'),\n",
    "                            Path('data/pizza_steak_sushi_20_percent/test/pizza/2582289.jpg')]\n",
    "\n",
    "# Copy the three images to the examples directory\n",
    "for example in foodvision_mini_examples:\n",
    "    destination = food_vision_mini_examples_path/example.name\n",
    "    print(f\"[INFO] Copying {example} to {destination}\")\n",
    "    shutil.copy2(src=example,\n",
    "               dst=destination)"
   ]
  },
  {
   "cell_type": "markdown",
   "metadata": {
    "id": "0g14cytT-uMR"
   },
   "source": [
    "Let's now verify that we can get a list of lists from our examples/directory."
   ]
  },
  {
   "cell_type": "code",
   "execution_count": 87,
   "metadata": {
    "colab": {
     "base_uri": "https://localhost:8080/"
    },
    "id": "uuIOgnuj-wuZ",
    "outputId": "419b9189-6ac9-4964-b22c-0c3242013491"
   },
   "outputs": [
    {
     "data": {
      "text/plain": [
       "[['examples/3622237.jpg'], ['examples/592799.jpg'], ['examples/2582289.jpg']]"
      ]
     },
     "execution_count": 87,
     "metadata": {},
     "output_type": "execute_result"
    }
   ],
   "source": [
    "import os\n",
    "\n",
    "# Get examples filepaths in a list of lists\n",
    "example_list = [[\"examples/\" + example] for example in os.listdir(food_vision_mini_examples_path)]\n",
    "example_list"
   ]
  },
  {
   "cell_type": "markdown",
   "metadata": {
    "id": "zhor60_C-w71"
   },
   "source": [
    "### 1.8.4 Moving our trained EffNetB2 model to our FoodVision Mini demo directory"
   ]
  },
  {
   "cell_type": "code",
   "execution_count": 89,
   "metadata": {
    "colab": {
     "base_uri": "https://localhost:8080/"
    },
    "id": "4D0R_ldX-xLv",
    "outputId": "5397b333-cf1c-4ec1-a85e-35077fe518dc"
   },
   "outputs": [
    {
     "name": "stdout",
     "output_type": "stream",
     "text": [
      "[INFO] Attempting to move models/pretrained_effnetb2_feature_exractor_pizza_steak_sushi_20_percent.pth to demos/foodvision_mini/pretrained_effnetb2_feature_exractor_pizza_steak_sushi_20_percent.pth\n",
      "[INFO] No model found at models/pretrained_effnetb2_feature_exractor_pizza_steak_sushi_20_percent.pth, perhaps its already been moved?\n",
      "[INFO] Model exists at demos/foodvision_mini/pretrained_effnetb2_feature_exractor_pizza_steak_sushi_20_percent.pth: True\n"
     ]
    }
   ],
   "source": [
    "import shutil\n",
    "\n",
    "# Create a source path for our target model\n",
    "effnetb2_foodvision_mini_model_path = \"models/pretrained_effnetb2_feature_exractor_pizza_steak_sushi_20_percent.pth\"\n",
    "\n",
    "# Create a destination path for our target model\n",
    "effnetb2_foodvision_mini_model_destination = food_vision_mini_demo_path / effnetb2_foodvision_mini_model_path.split(\"/\")[1]\n",
    "\n",
    "# Try to move the model file\n",
    "try:\n",
    "  print(f\"[INFO] Attempting to move {effnetb2_foodvision_mini_model_path} to {effnetb2_foodvision_mini_model_destination}\")\n",
    "\n",
    "  # Move the model\n",
    "  shutil.move(src = effnetb2_foodvision_mini_model_path, \n",
    "              dst = effnetb2_foodvision_mini_model_destination)\n",
    "  \n",
    "  print(f\"[INFO] Model move complete. \")\n",
    "\n",
    "# If the model has already been moved, check if it exists\n",
    "except:\n",
    "  print(f\"[INFO] No model found at {effnetb2_foodvision_mini_model_path}, perhaps its already been moved?\")\n",
    "  print(f\"[INFO] Model exists at {effnetb2_foodvision_mini_model_destination}: {effnetb2_foodvision_mini_model_destination.exists()}\")\n"
   ]
  },
  {
   "cell_type": "markdown",
   "metadata": {
    "id": "oVHN3axSrI3e"
   },
   "source": [
    "### 1.8.5 Turning our EffNetB2 model into a Python script (model.py)\n",
    "\n",
    "We have a saved .pth model state_dict and want to load it into a model instance.\n",
    "\n",
    "Let's move our create_effnetb2_model() function to a script so we can reuse it."
   ]
  },
  {
   "cell_type": "code",
   "execution_count": 90,
   "metadata": {
    "colab": {
     "base_uri": "https://localhost:8080/",
     "height": 468
    },
    "id": "LD8yYRSerJV4",
    "outputId": "7aa8f0fa-80a0-4d3b-ac4b-f757154e4da1"
   },
   "outputs": [
    {
     "name": "stdout",
     "output_type": "stream",
     "text": [
      "Writing demos/foodvision_mini/model.py\n"
     ]
    }
   ],
   "source": [
    "%%writefile demos/foodvision_mini/model.py\n",
    "import torch\n",
    "import torchvision\n",
    "\n",
    "from torch import nn\n",
    "\n",
    "def create_effnetb2_model(num_classes: int = 3,\n",
    "                          seed: int = 42):\n",
    "    \"\"\"Creates an EfficientNetB2 feature extractor model and transforms.\n",
    "\n",
    "    Args:\n",
    "        num_classes (int, optional): number of classes in the classifier head. \n",
    "            Defaults to 3.\n",
    "        seed (int, optional): random seed value. Defaults to 42.\n",
    "\n",
    "    Returns:\n",
    "        model (torch.nn.Module): EffNetB2 feature extractor model. \n",
    "        transforms (torchvision.transforms): EffNetB2 image transforms.\n",
    "    \"\"\"\n",
    "  # Create EffNetB2 pretrained weights, transforms and model\n",
    "  weights = torchvision.models.EfficientNet_B2_Weights.DEFAULT\n",
    "  transforms = weights.transforms()\n",
    "  model = torchvision.models.efficientnet_b2(weights = weights)\n",
    "\n",
    "  # 4. Freeze the base layers in the model, this will stop all layers from training\n",
    "  for param in model.parameters():\n",
    "    param.requires_grad = False\n",
    "\n",
    "  # 5. Change classifier head with random seed \n",
    "  torch.manual_seed(seed)\n",
    "  model.classifier = nn.Sequential(\n",
    "    nn.Dropout(p = 0.3, inplace = True),\n",
    "    nn.Linear(in_features=1408, out_features=num_classes, bias=True)\n",
    "  )\n",
    "  return model, transforms"
   ]
  },
  {
   "cell_type": "markdown",
   "metadata": {
    "id": "NK0BODlQwR4k"
   },
   "source": [
    "### 1.8.6 Turning our FoodVision Mini Gradio app into a Python script (app.py)"
   ]
  },
  {
   "cell_type": "markdown",
   "metadata": {
    "id": "BrYPM91Nz3a8"
   },
   "source": [
    "The app.py file will have four major parts:\n",
    "\n",
    "1. Imports and class names setup\n",
    "2. Model and transforms preparation\n",
    "3. Predict function (predict())\n",
    "4. Gradio app - Gradio interface + launch command"
   ]
  },
  {
   "cell_type": "code",
   "execution_count": 91,
   "metadata": {
    "colab": {
     "base_uri": "https://localhost:8080/",
     "height": 555
    },
    "id": "yhmMnQ-Uz3ht",
    "outputId": "3d17f074-e11c-47c2-cf2d-8bda074f5310"
   },
   "outputs": [
    {
     "name": "stdout",
     "output_type": "stream",
     "text": [
      "Writing demos/foodvision_mini/app.py\n"
     ]
    }
   ],
   "source": [
    "%%writefile demos/foodvision_mini/app.py\n",
    "\n",
    "### 1. Imports and class names setup\n",
    "import gradio as gr\n",
    "import os\n",
    "import torch\n",
    "\n",
    "from model import create_effnetb2_model\n",
    "from timeit import default_timer as timer\n",
    "from typing import Tuple, Dict\n",
    "\n",
    "# Setup class names \n",
    "class_names = ['pizza', 'steak', 'sushi']\n",
    "\n",
    "### 2. Model and transforms preparation\n",
    "effnetb2, effnetb2_transforms = create_effnetb2_model(\n",
    "    num_classes = 3\n",
    ")\n",
    "\n",
    "# Load saved weights\n",
    "effnetb2.load_state_dict(\n",
    "    torch.load(f = 'pretrained_effnetb2_feature_exractor_pizza_steak_sushi_20_percent.pth',\n",
    "               map_location = torch.device(\"cpu\")) # load the model to the CPU regardless of the device it trained on (we won't necessarily have a GPU when we deploy)\n",
    ")\n",
    "\n",
    "### 3. Predict function (predict())\n",
    "def predict(img) -> Tuple[Dict, float]:\n",
    "    \"\"\"Transforms and performs a prediction on img and returns prediction and time taken.\n",
    "    \"\"\"\n",
    "  # Start a timer\n",
    "  start_time = timer()\n",
    "\n",
    "  # Transform the input image for use with EffNetB2\n",
    "  img = effnetb2_transforms(img).unsqueeze(0) # add batch dimension on 0th index\n",
    "\n",
    "  # Put model into eval mode, make predictions \n",
    "  effnetb2.eval()\n",
    "  with torch.inference_mode():\n",
    "    # Pass the transformed image through the model and turn the prediction logits into probabilities\n",
    "    pred_probs = torch.softmax(effnetb2(img), dim=1)\n",
    "\n",
    "  # Create a prediction label and prediction probability dictionary\n",
    "  pred_labels_and_probs = {class_names[i]: float(pred_probs[0][i]) for i in range(len(class_names))}\n",
    "\n",
    "  # Calculate the pred time\n",
    "  end_time = timer()\n",
    "  pred_time = round(end_time-start_time, 4)\n",
    "\n",
    "  # Return pred dict and pred time\n",
    "  return pred_labels_and_probs, pred_time\n",
    "\n",
    "### 4. Gradio app - our Gradio interface + launch command\n",
    "\n",
    "# Create title, description and article\n",
    "title = \"FoodVision Mini 🍕🥩🍣\"\n",
    "description = \"An [EfficientNetB2 feature extractor](https://pytorch.org/vision/stable/models/generated/torchvision.models.efficientnet_b2.html#torchvision.models.efficientnet_b2) computer vision model to classify images as pizza, steak or sushi.\"\n",
    "article = \"Created at [PyTorch Model Deployment](https://www.learnpytorch.io/09_pytorch_model_deployment/#74-building-a-gradio-interface)\"\n",
    "\n",
    "# Create example list\n",
    "example_list = [[\"examples/\" + example] for example in os.listdir(\"examples\")]\n",
    "\n",
    "# Create the Gradio demo\n",
    "demo = gr.Interface(\n",
    "    fn = predict, \n",
    "    inputs = gr.Image(type='pil'),\n",
    "    outputs = [gr.Label(num_top_classes=3, label =\"Predictions\"),\n",
    "               gr.Number(label ='Prediction time (s)')], \n",
    "               examples=example_list,\n",
    "               title=title,\n",
    "               description=description,\n",
    "               article=article)               \n",
    "# Launch the demo\n",
    "demo.launch()\n"
   ]
  },
  {
   "cell_type": "markdown",
   "metadata": {
    "id": "hDEYlDu5z3ty"
   },
   "source": [
    "### 1.8.7 Creating a requirements file for FoodVision Mini (requirements.txt)"
   ]
  },
  {
   "cell_type": "markdown",
   "metadata": {
    "id": "LGvxKGhawR-7"
   },
   "source": [
    "The requirements file will tell our Hugging Face Space what software dependencies our app requires.\n",
    "\n",
    "The three main ones are:\n",
    "\n",
    "* torch\n",
    "* torchvision\n",
    "* gradio"
   ]
  },
  {
   "cell_type": "code",
   "execution_count": 92,
   "metadata": {
    "colab": {
     "base_uri": "https://localhost:8080/",
     "height": 364
    },
    "id": "3sciLMnlwSJz",
    "outputId": "05a16120-d319-46f5-c3d9-63940aaaf6e5"
   },
   "outputs": [
    {
     "name": "stdout",
     "output_type": "stream",
     "text": [
      "Writing demos/foodvision_mini/requirements.txt\n"
     ]
    }
   ],
   "source": [
    "%%writefile demos/foodvision_mini/requirements.txt\n",
    "torch==1.12.0\n",
    "torchvision==0.13.0\n",
    "gradio==3.1.4"
   ]
  },
  {
   "cell_type": "markdown",
   "metadata": {
    "id": "waM7_hvAwSM4"
   },
   "source": [
    "## 1.9  Deploying our FoodVision Mini app HuggingFace Spaces\n",
    "\n",
    "Let's check out the demo files we've got inside demos/foodvision_mini"
   ]
  },
  {
   "cell_type": "code",
   "execution_count": 93,
   "metadata": {
    "colab": {
     "base_uri": "https://localhost:8080/"
    },
    "id": "MbgER_KM_aD6",
    "outputId": "fc40547e-c0cc-4fc5-ccc0-ead8590234a2"
   },
   "outputs": [
    {
     "name": "stdout",
     "output_type": "stream",
     "text": [
      "app.py\t  pretrained_effnetb2_feature_exractor_pizza_steak_sushi_20_percent.pth\n",
      "examples  requirements.txt\n",
      "model.py\n"
     ]
    }
   ],
   "source": [
    "!ls demos/foodvision_mini"
   ]
  },
  {
   "cell_type": "code",
   "execution_count": 94,
   "metadata": {
    "colab": {
     "base_uri": "https://localhost:8080/"
    },
    "id": "oj5W5biF_aKh",
    "outputId": "1a91fa08-7ed9-42b7-baa8-8b108294adde"
   },
   "outputs": [
    {
     "name": "stdout",
     "output_type": "stream",
     "text": [
      "  adding: app.py (deflated 53%)\n",
      "  adding: examples/ (stored 0%)\n",
      "  adding: examples/3622237.jpg (deflated 0%)\n",
      "  adding: examples/592799.jpg (deflated 1%)\n",
      "  adding: examples/2582289.jpg (deflated 17%)\n",
      "  adding: model.py (deflated 54%)\n",
      "  adding: pretrained_effnetb2_feature_exractor_pizza_steak_sushi_20_percent.pth (deflated 8%)\n",
      "  adding: requirements.txt (deflated 4%)\n"
     ]
    }
   ],
   "source": [
    "# Change into the foodvision_mini directory and then zip it from the inside\n",
    "!cd demos/foodvision_mini && zip -r ../foodvision_mini.zip * -x \"*.pyc\" \"*.ipynd\" \"*__pycache__*\" \"*ipyndb_checkpoints*\" "
   ]
  },
  {
   "cell_type": "code",
   "execution_count": 95,
   "metadata": {
    "colab": {
     "base_uri": "https://localhost:8080/",
     "height": 17
    },
    "id": "oDvPnPYe_aNv",
    "outputId": "d6d7e969-b1ec-4a27-e77f-697352b623ce"
   },
   "outputs": [
    {
     "name": "stdout",
     "output_type": "stream",
     "text": [
      "Not running in Google Colab, can't use google.colab.files.download(), please download foodvision_mini.zip manually.\n"
     ]
    }
   ],
   "source": [
    "# Download zip file \n",
    "try:\n",
    "  from google.colab import files\n",
    "  files.download(\"demos/foodvision_mini.zip\")\n",
    "except:\n",
    "  print(f\"Not running in Google Colab, can't use google.colab.files.download(), please download foodvision_mini.zip manually.\")"
   ]
  },
  {
   "cell_type": "markdown",
   "metadata": {},
   "source": [
    "After uploading our FoodVision Mini Gradio demo to Hugging Face Spaces, we can embed this demo into notebook."
   ]
  },
  {
   "cell_type": "code",
   "execution_count": 96,
   "metadata": {
    "colab": {
     "base_uri": "https://localhost:8080/",
     "height": 771
    },
    "id": "KTacdz0PMr55",
    "outputId": "384d5f8c-2759-49b1-f339-571e78d0e72f"
   },
   "outputs": [
    {
     "data": {
      "text/html": [
       "\n",
       "        <iframe\n",
       "            width=\"900\"\n",
       "            height=\"750\"\n",
       "            src=\"https://hf.space/embed/vic-art/foodvision_mini/+\"\n",
       "            frameborder=\"0\"\n",
       "            allowfullscreen\n",
       "            \n",
       "        ></iframe>\n",
       "        "
      ],
      "text/plain": [
       "<IPython.lib.display.IFrame at 0x7f3e8895fcd0>"
      ]
     },
     "execution_count": 96,
     "metadata": {},
     "output_type": "execute_result"
    }
   ],
   "source": [
    "from IPython.display import IFrame\n",
    "\n",
    "IFrame(src = \"https://hf.space/embed/vic-art/foodvision_mini/+\", width = 900, height = 750)"
   ]
  },
  {
   "cell_type": "markdown",
   "metadata": {
    "id": "c-aYh1ILMsGX"
   },
   "source": [
    "# 2.  Food Vision Big (using 20% of Food101 dataset)\n",
    "\n",
    "Now we are going to make a model for classifying all Food101 classes, but using only 20% of data. "
   ]
  },
  {
   "cell_type": "markdown",
   "metadata": {
    "id": "vpvLeyDxMsM2"
   },
   "source": [
    "## 2.1 Creating a model and transforms for FoodVision Big"
   ]
  },
  {
   "cell_type": "markdown",
   "metadata": {},
   "source": [
    "When creating FoodVision Mini we saw that the EffNetB2 model was a good tradeoff between speed and performance (it performed well with a fast speed).\n",
    "\n",
    "So we'll continue using the same model for FoodVision Big.\n",
    "\n",
    "We can create an EffNetB2 feature extractor for Food101 by using our create_effnetb2_model() function we created above, and passing it the parameter num_classes=101 (since Food101 has 101 classes)."
   ]
  },
  {
   "cell_type": "code",
   "execution_count": 156,
   "metadata": {
    "colab": {
     "base_uri": "https://localhost:8080/",
     "height": 86,
     "referenced_widgets": [
      "6cadfbefd9eb4739a0543c1c06395c92",
      "02e15caaf1504d2f8f62fc7c9ecd08c3",
      "742cffeef4ba4df3b2191fb994c790f3",
      "df19f9c2bcfd422485c7899745d86e3c",
      "59390cb8d3ac465c96e0ea3c87b8524a",
      "36cf4e031f954a6282f43c7bb7e4961b",
      "e82f418b645b4033a7b44e85d7cb6125",
      "f3855ad3a05647eca952fd6c1fa65890",
      "0e68d0574669471bab426633ffb13fce",
      "4823fcbf87d44ab6bc78a596adee3e6f",
      "2f418dd1fe2f4dffb911a44ec44ea2ed"
     ]
    },
    "id": "IsmrXP2GWkYw",
    "outputId": "6881f3ef-f15a-4eb2-c856-f1e4ce745f9b"
   },
   "outputs": [],
   "source": [
    "# Create EffNetB2 model capable of fitting to 101 classes for Food101\n",
    "effnetb2_food101, effnetb2_transforms = create_effnetb2_model(num_classes = 101)"
   ]
  },
  {
   "cell_type": "code",
   "execution_count": 157,
   "metadata": {
    "colab": {
     "base_uri": "https://localhost:8080/"
    },
    "id": "21yoLWoeugEv",
    "outputId": "4152be34-3dbf-40c9-9104-f78d99543bed",
    "scrolled": true,
    "tags": []
   },
   "outputs": [
    {
     "data": {
      "text/plain": [
       "============================================================================================================================================\n",
       "Layer (type (var_name))                                      Input Shape          Output Shape         Param #              Trainable\n",
       "============================================================================================================================================\n",
       "EfficientNet (EfficientNet)                                  [1, 3, 224, 224]     [1, 101]             --                   Partial\n",
       "├─Sequential (features)                                      [1, 3, 224, 224]     [1, 1408, 7, 7]      --                   False\n",
       "│    └─Conv2dNormActivation (0)                              [1, 3, 224, 224]     [1, 32, 112, 112]    --                   False\n",
       "│    │    └─Conv2d (0)                                       [1, 3, 224, 224]     [1, 32, 112, 112]    (864)                False\n",
       "│    │    └─BatchNorm2d (1)                                  [1, 32, 112, 112]    [1, 32, 112, 112]    (64)                 False\n",
       "│    │    └─SiLU (2)                                         [1, 32, 112, 112]    [1, 32, 112, 112]    --                   --\n",
       "│    └─Sequential (1)                                        [1, 32, 112, 112]    [1, 16, 112, 112]    --                   False\n",
       "│    │    └─MBConv (0)                                       [1, 32, 112, 112]    [1, 16, 112, 112]    (1,448)              False\n",
       "│    │    └─MBConv (1)                                       [1, 16, 112, 112]    [1, 16, 112, 112]    (612)                False\n",
       "│    └─Sequential (2)                                        [1, 16, 112, 112]    [1, 24, 56, 56]      --                   False\n",
       "│    │    └─MBConv (0)                                       [1, 16, 112, 112]    [1, 24, 56, 56]      (6,004)              False\n",
       "│    │    └─MBConv (1)                                       [1, 24, 56, 56]      [1, 24, 56, 56]      (10,710)             False\n",
       "│    │    └─MBConv (2)                                       [1, 24, 56, 56]      [1, 24, 56, 56]      (10,710)             False\n",
       "│    └─Sequential (3)                                        [1, 24, 56, 56]      [1, 48, 28, 28]      --                   False\n",
       "│    │    └─MBConv (0)                                       [1, 24, 56, 56]      [1, 48, 28, 28]      (16,518)             False\n",
       "│    │    └─MBConv (1)                                       [1, 48, 28, 28]      [1, 48, 28, 28]      (43,308)             False\n",
       "│    │    └─MBConv (2)                                       [1, 48, 28, 28]      [1, 48, 28, 28]      (43,308)             False\n",
       "│    └─Sequential (4)                                        [1, 48, 28, 28]      [1, 88, 14, 14]      --                   False\n",
       "│    │    └─MBConv (0)                                       [1, 48, 28, 28]      [1, 88, 14, 14]      (50,300)             False\n",
       "│    │    └─MBConv (1)                                       [1, 88, 14, 14]      [1, 88, 14, 14]      (123,750)            False\n",
       "│    │    └─MBConv (2)                                       [1, 88, 14, 14]      [1, 88, 14, 14]      (123,750)            False\n",
       "│    │    └─MBConv (3)                                       [1, 88, 14, 14]      [1, 88, 14, 14]      (123,750)            False\n",
       "│    └─Sequential (5)                                        [1, 88, 14, 14]      [1, 120, 14, 14]     --                   False\n",
       "│    │    └─MBConv (0)                                       [1, 88, 14, 14]      [1, 120, 14, 14]     (149,158)            False\n",
       "│    │    └─MBConv (1)                                       [1, 120, 14, 14]     [1, 120, 14, 14]     (237,870)            False\n",
       "│    │    └─MBConv (2)                                       [1, 120, 14, 14]     [1, 120, 14, 14]     (237,870)            False\n",
       "│    │    └─MBConv (3)                                       [1, 120, 14, 14]     [1, 120, 14, 14]     (237,870)            False\n",
       "│    └─Sequential (6)                                        [1, 120, 14, 14]     [1, 208, 7, 7]       --                   False\n",
       "│    │    └─MBConv (0)                                       [1, 120, 14, 14]     [1, 208, 7, 7]       (301,406)            False\n",
       "│    │    └─MBConv (1)                                       [1, 208, 7, 7]       [1, 208, 7, 7]       (686,868)            False\n",
       "│    │    └─MBConv (2)                                       [1, 208, 7, 7]       [1, 208, 7, 7]       (686,868)            False\n",
       "│    │    └─MBConv (3)                                       [1, 208, 7, 7]       [1, 208, 7, 7]       (686,868)            False\n",
       "│    │    └─MBConv (4)                                       [1, 208, 7, 7]       [1, 208, 7, 7]       (686,868)            False\n",
       "│    └─Sequential (7)                                        [1, 208, 7, 7]       [1, 352, 7, 7]       --                   False\n",
       "│    │    └─MBConv (0)                                       [1, 208, 7, 7]       [1, 352, 7, 7]       (846,900)            False\n",
       "│    │    └─MBConv (1)                                       [1, 352, 7, 7]       [1, 352, 7, 7]       (1,888,920)          False\n",
       "│    └─Conv2dNormActivation (8)                              [1, 352, 7, 7]       [1, 1408, 7, 7]      --                   False\n",
       "│    │    └─Conv2d (0)                                       [1, 352, 7, 7]       [1, 1408, 7, 7]      (495,616)            False\n",
       "│    │    └─BatchNorm2d (1)                                  [1, 1408, 7, 7]      [1, 1408, 7, 7]      (2,816)              False\n",
       "│    │    └─SiLU (2)                                         [1, 1408, 7, 7]      [1, 1408, 7, 7]      --                   --\n",
       "├─AdaptiveAvgPool2d (avgpool)                                [1, 1408, 7, 7]      [1, 1408, 1, 1]      --                   --\n",
       "├─Sequential (classifier)                                    [1, 1408]            [1, 101]             --                   True\n",
       "│    └─Dropout (0)                                           [1, 1408]            [1, 1408]            --                   --\n",
       "│    └─Linear (1)                                            [1, 1408]            [1, 101]             142,309              True\n",
       "============================================================================================================================================\n",
       "Total params: 7,843,303\n",
       "Trainable params: 142,309\n",
       "Non-trainable params: 7,700,994\n",
       "Total mult-adds (M): 657.78\n",
       "============================================================================================================================================\n",
       "Input size (MB): 0.60\n",
       "Forward/backward pass size (MB): 156.80\n",
       "Params size (MB): 31.37\n",
       "Estimated Total Size (MB): 188.77\n",
       "============================================================================================================================================"
      ]
     },
     "execution_count": 157,
     "metadata": {},
     "output_type": "execute_result"
    }
   ],
   "source": [
    "from torchinfo import summary\n",
    "\n",
    "summary(effnetb2_food101, \n",
    "        input_size=(1, 3, 224, 224),\n",
    "        col_names=[\"input_size\", \"output_size\", \"num_params\", \"trainable\"],\n",
    "        col_width=20,\n",
    "        row_settings=[\"var_names\"])"
   ]
  },
  {
   "cell_type": "markdown",
   "metadata": {},
   "source": [
    "The outer layers (the classifier layers), which are trainable have an ouput shape of [batch_size, 101] (101 for 101 classes in Food101)."
   ]
  },
  {
   "cell_type": "markdown",
   "metadata": {},
   "source": [
    "This time we add a data augmentation to  transforms (effnetb2_transforms) to augment the training data to artificially increase the diversity of a training dataset to hopefully prevent overfitting.\n"
   ]
  },
  {
   "cell_type": "code",
   "execution_count": 158,
   "metadata": {
    "colab": {
     "base_uri": "https://localhost:8080/"
    },
    "id": "1V_siKYqx8dV",
    "outputId": "7a853ba5-b26f-4476-f5d4-b40c2c6cb2c9"
   },
   "outputs": [
    {
     "data": {
      "text/plain": [
       "Compose(\n",
       "    TrivialAugmentWide(num_magnitude_bins=31, interpolation=InterpolationMode.NEAREST, fill=None)\n",
       "    ImageClassification(\n",
       "    crop_size=[288]\n",
       "    resize_size=[288]\n",
       "    mean=[0.485, 0.456, 0.406]\n",
       "    std=[0.229, 0.224, 0.225]\n",
       "    interpolation=InterpolationMode.BICUBIC\n",
       ")\n",
       ")"
      ]
     },
     "execution_count": 158,
     "metadata": {},
     "output_type": "execute_result"
    }
   ],
   "source": [
    "# Create Food101 training data transforms (only perform data augmentation on the training images)\n",
    "food101_train_transforms = torchvision.transforms.Compose([\n",
    "    torchvision.transforms.TrivialAugmentWide(),\n",
    "    effnetb2_transforms\n",
    "])  \n",
    "food101_train_transforms"
   ]
  },
  {
   "cell_type": "markdown",
   "metadata": {},
   "source": [
    "Now will use `food101_train_transforms` for the training data and `effnetb2_transforms` for the testing/inference data."
   ]
  },
  {
   "cell_type": "code",
   "execution_count": 159,
   "metadata": {},
   "outputs": [
    {
     "name": "stdout",
     "output_type": "stream",
     "text": [
      "Training transforms:\n",
      "Compose(\n",
      "    TrivialAugmentWide(num_magnitude_bins=31, interpolation=InterpolationMode.NEAREST, fill=None)\n",
      "    ImageClassification(\n",
      "    crop_size=[288]\n",
      "    resize_size=[288]\n",
      "    mean=[0.485, 0.456, 0.406]\n",
      "    std=[0.229, 0.224, 0.225]\n",
      "    interpolation=InterpolationMode.BICUBIC\n",
      ")\n",
      ")\n",
      "\n",
      "Testing transforms:\n",
      "ImageClassification(\n",
      "    crop_size=[288]\n",
      "    resize_size=[288]\n",
      "    mean=[0.485, 0.456, 0.406]\n",
      "    std=[0.229, 0.224, 0.225]\n",
      "    interpolation=InterpolationMode.BICUBIC\n",
      ")\n"
     ]
    }
   ],
   "source": [
    "print(f\"Training transforms:\\n{food101_train_transforms}\\n\") \n",
    "print(f\"Testing transforms:\\n{effnetb2_transforms}\")"
   ]
  },
  {
   "cell_type": "markdown",
   "metadata": {
    "id": "lO_u_C920gvC"
   },
   "source": [
    "## 2.2 Getting data for FoodVision Big"
   ]
  },
  {
   "cell_type": "markdown",
   "metadata": {},
   "source": [
    "To get the whole Food101 dataset, we can use torchvision.datasets.Food101().\n",
    "\n",
    "Then we download and transform the training and testing dataset splits using `food101_train_transforms` and `effnetb2_transforms` to transform each dataset respectively."
   ]
  },
  {
   "cell_type": "code",
   "execution_count": 160,
   "metadata": {
    "colab": {
     "base_uri": "https://localhost:8080/",
     "height": 84,
     "referenced_widgets": [
      "bb3eaef667b347cfb845de1cd40fdf7a",
      "0b18c55c9b3742f5b22dff65a7830f81",
      "c65e30358eb347f39a104bafeda4e95a",
      "ebf2d0fd42ec46b79021cbf22c7134eb",
      "580b888ad007410ea8b6c57f730a845b",
      "90b6712e032a43d2903e039ea52cf086",
      "4ef24f9b84cb45048a1c82cc2066b823",
      "5b72c0772e60463c83d7513ddfac9c5b",
      "97b7ef3a4f1846009ef8cfcbd0b86f7f",
      "0343a3f55dfc41db83e2681cdbf5b552",
      "b7c97b823ddc418b9544d3642241b901"
     ]
    },
    "id": "IAkBFvdi1iF1",
    "outputId": "7fe6d70d-b844-435d-f46a-3ddde76240fb"
   },
   "outputs": [],
   "source": [
    "from torchvision import datasets \n",
    "\n",
    "# Setup data directory\n",
    "from pathlib import Path\n",
    "data_dir = Path('data')\n",
    "\n",
    "# Get the training data (~750 x 101 classes)\n",
    "train_data = datasets.Food101(root=data_dir,\n",
    "                              split = \"train\",\n",
    "                              transform = food101_train_transforms, # apply data augmentation to the training data\n",
    "                              download= True)\n",
    "# Get the training data (~250 images x 101 classes)\n",
    "test_data = datasets.Food101(root=data_dir,\n",
    "                              split = \"test\",\n",
    "                              transform = effnetb2_transforms, # apply data augmentation to the training data\n",
    "                              download= True)"
   ]
  },
  {
   "cell_type": "code",
   "execution_count": 161,
   "metadata": {
    "colab": {
     "base_uri": "https://localhost:8080/"
    },
    "id": "jOxFonuN3ys4",
    "outputId": "c85f1850-c701-4982-e9f6-0167ad0f32ef"
   },
   "outputs": [
    {
     "data": {
      "text/plain": [
       "['apple_pie',\n",
       " 'baby_back_ribs',\n",
       " 'baklava',\n",
       " 'beef_carpaccio',\n",
       " 'beef_tartare',\n",
       " 'beet_salad',\n",
       " 'beignets',\n",
       " 'bibimbap',\n",
       " 'bread_pudding',\n",
       " 'breakfast_burrito']"
      ]
     },
     "execution_count": 161,
     "metadata": {},
     "output_type": "execute_result"
    }
   ],
   "source": [
    "# Get Food101 class names \n",
    "food101_class_names = train_data.classes \n",
    "\n",
    "# View the first 10\n",
    "food101_class_names[:10]"
   ]
  },
  {
   "cell_type": "markdown",
   "metadata": {
    "id": "r0uwCGP7G0OX"
   },
   "source": [
    "## 2.3 Creating a subset of the Food101 dataset for faster experimenting \n",
    "\n",
    "Let's make a subset of 20% of the data from the Food101 dataset (training and test).\n",
    "\n",
    "Our short-term goal: to beat the original Food101 paper result of 56.40% accuracy on the test \n",
    "dataset (see the paper: https://data.vision.ee.ethz.ch/cvl/datasets_extra/food-101/static/bossard_eccv14_food-101.pdf).\n",
    "\n",
    "We want to beat this result using modern deep learning techniques and only 20% of the data.\n",
    "\n",
    "To make our FoodVision Big (20% data) split, let's create a function called `split_dataset()` to split a given dataset into certain proportions."
   ]
  },
  {
   "cell_type": "code",
   "execution_count": 162,
   "metadata": {
    "id": "GkXqFOokJ7PO"
   },
   "outputs": [],
   "source": [
    "from torch.utils.data import random_split\n",
    "\n",
    "def split_dataset(dataset: torchvision.datasets, \n",
    "                  split_size: float = 0.2,\n",
    "                  seed: int = 42):\n",
    "    \"\"\"Randomly splits a given dataset into two proportions based on split_size and seed.\n",
    "\n",
    "    Args:\n",
    "        dataset (torchvision.datasets): A PyTorch Dataset, typically one from torchvision.datasets.\n",
    "        split_size (float, optional): How much of the dataset should be split? \n",
    "            E.g. split_size=0.2 means there will be a 20% split and an 80% split. Defaults to 0.2.\n",
    "        seed (int, optional): Seed for random generator. Defaults to 42.\n",
    "\n",
    "    Returns:\n",
    "        tuple: (random_split_1, random_split_2) where random_split_1 is of size split_size*len(dataset) and \n",
    "            random_split_2 is of size (1-split_size)*len(dataset).\n",
    "    \"\"\"\n",
    "    # Create split lengths based on original dataset length\n",
    "    length_1 = int(len(dataset) * split_size)\n",
    "    length_2 = len(dataset) - length_1 # remaining length\n",
    "\n",
    "    # Print out info\n",
    "    print(f\"[INFO] Splitting dataset of length {len(dataset)} into splits of size {length_1} and {length_2}\")\n",
    "\n",
    "    # Create splits with given random splits \n",
    "    random_split_1, random_split_2 = torch.utils.data.random_split(dataset, \n",
    "                                                                 lengths = [length_1, length_2],\n",
    "                                                                 generator = torch.manual_seed(seed))\n",
    "    return random_split_1, random_split_2"
   ]
  },
  {
   "cell_type": "code",
   "execution_count": 163,
   "metadata": {
    "colab": {
     "base_uri": "https://localhost:8080/"
    },
    "id": "ClkEwD0hOAjL",
    "outputId": "e78037bf-d0f3-4f24-cb79-7e79f9bd6463"
   },
   "outputs": [
    {
     "name": "stdout",
     "output_type": "stream",
     "text": [
      "[INFO] Splitting dataset of length 75750 into splits of size 15150 and 60600\n",
      "[INFO] Splitting dataset of length 25250 into splits of size 5050 and 20200\n"
     ]
    }
   ],
   "source": [
    "# Create training 20% split Food101\n",
    "train_data_food101_20_percent, _ = split_dataset(dataset= train_data,\n",
    "                                                 split_size = 0.2)\n",
    "\n",
    "test_data_food101_20_percent, _ = split_dataset(dataset= test_data,\n",
    "                                                split_size = 0.2) "
   ]
  },
  {
   "cell_type": "code",
   "execution_count": 164,
   "metadata": {
    "colab": {
     "base_uri": "https://localhost:8080/"
    },
    "id": "MH1Op4TRPEer",
    "outputId": "605378cf-dca8-4227-cebc-3ce4409163fc"
   },
   "outputs": [
    {
     "data": {
      "text/plain": [
       "(15150, 5050)"
      ]
     },
     "execution_count": 164,
     "metadata": {},
     "output_type": "execute_result"
    }
   ],
   "source": [
    "len(train_data_food101_20_percent), len(test_data_food101_20_percent)"
   ]
  },
  {
   "cell_type": "code",
   "execution_count": 165,
   "metadata": {},
   "outputs": [
    {
     "data": {
      "text/plain": [
       "(75750, 25250)"
      ]
     },
     "execution_count": 165,
     "metadata": {},
     "output_type": "execute_result"
    }
   ],
   "source": [
    "len(train_data), len(test_data)"
   ]
  },
  {
   "cell_type": "markdown",
   "metadata": {
    "id": "teie5fzAPn6E"
   },
   "source": [
    "\n",
    "## 2.4 Turning Food101 Datasets into `DataLoaders`"
   ]
  },
  {
   "cell_type": "markdown",
   "metadata": {},
   "source": [
    "Let's turn our Food101 20% dataset splits into DataLoader's using torch.utils.data.DataLoader().\n",
    "\n",
    "We'll set `shuffle=True` for the training data only."
   ]
  },
  {
   "cell_type": "code",
   "execution_count": 166,
   "metadata": {
    "id": "m3-JPpMNP7Np"
   },
   "outputs": [],
   "source": [
    "import torch\n",
    "import os\n",
    "\n",
    "NUM_WORKERS=os.cpu_count()\n",
    "\n",
    "BATCH_SIZE = 32\n",
    "\n",
    "# Creating Fodd101 20% training DataLoader \n",
    "train_dataloader_food101_20_percent = torch.utils.data.DataLoader(dataset = train_data_food101_20_percent,\n",
    "                                                                  batch_size = BATCH_SIZE,\n",
    "                                                                  shuffle = True,\n",
    "                                                                  num_workers = NUM_WORKERS)\n",
    "# Creating Fodd101 20% testing DataLoader \n",
    "test_dataloader_food101_20_percent = torch.utils.data.DataLoader(dataset = test_data_food101_20_percent,\n",
    "                                                                batch_size = BATCH_SIZE,\n",
    "                                                                shuffle = False,\n",
    "                                                                num_workers = NUM_WORKERS)"
   ]
  },
  {
   "cell_type": "code",
   "execution_count": 167,
   "metadata": {
    "colab": {
     "base_uri": "https://localhost:8080/"
    },
    "id": "-C_Raz4KTJkT",
    "outputId": "a2c4015b-0dbd-4eb5-8813-136ff81005c5"
   },
   "outputs": [
    {
     "data": {
      "text/plain": [
       "(474, 158)"
      ]
     },
     "execution_count": 167,
     "metadata": {},
     "output_type": "execute_result"
    }
   ],
   "source": [
    "len(train_dataloader_food101_20_percent), len(test_dataloader_food101_20_percent)"
   ]
  },
  {
   "cell_type": "markdown",
   "metadata": {
    "id": "Pphl5hbGTO_J"
   },
   "source": [
    "## 2.5 Training FoodVision Big\n",
    "\n",
    "Things for training:\n",
    "1. 5 epochs\n",
    "2. optimizer: `torch.optim.Adam(lr = 1e-3)`\n",
    "3. because we've got so many classes, we setup a loss function with [label_smoothing](https://pytorch.org/blog/how-to-train-state-of-the-art-models-using-torchvision-latest-primitives/#label-smoothing) of 0.1: `torch.nn.CrossEntropyLoss(label_smoothing = 0.1)`\n"
   ]
  },
  {
   "cell_type": "markdown",
   "metadata": {
    "id": "7xi_DsAIVUWF"
   },
   "source": [
    "Why do we use label smoothing?\n",
    "\n",
    "Label smoothing helps to prevent overfitting (it's a regularization technique).\n",
    "\n",
    "In essence, rather than a model getting too confident on a single label, label smoothing gives a non-zero value to other labels to increase generalization.\n",
    "\n",
    "Without label smoothing and 5 classes:\n",
    "\n",
    "```\n",
    "[0.00, 0.00, 0.99, 0.01, 0.00]\n",
    "```\n",
    "\n",
    "With label smoothing and 5 classes:\n",
    "\n",
    "```\n",
    "[0.01, 0.01, 0.96, 0.01, 0.01]\n",
    "```\n",
    "\n",
    "The model is still confident on its prediction of class 3 but giving small values to the other labels forces the model to at least consider other options."
   ]
  },
  {
   "cell_type": "code",
   "execution_count": 168,
   "metadata": {
    "colab": {
     "base_uri": "https://localhost:8080/",
     "height": 413,
     "referenced_widgets": [
      "7960b4ffe68348d1b6923bcf52d8495c",
      "0fe89c75c9da4b87b3489b5d7b5bb20a",
      "37f606df604249ce89a32fb6c6a26e6d",
      "85f1e3534d0d4a179679ce9161f0e1ea",
      "d3bc642abe204b21a6d8a34f261a4abb",
      "fcd56549345d45afbebd34eb25362001",
      "fcb1682244624e9a9964835138eb73c2",
      "bb4817fd87924ca18f0c674474ab15a1",
      "04f77ea6e2974ac38c8b7d28f8a31c45",
      "dfe7e1f5ea2640729cd80b1157d7fb54",
      "cb64e2610fc5469b9ce5d232e33a642b"
     ]
    },
    "id": "TIw627QDWp7l",
    "outputId": "e352862f-6663-4932-99a5-d142f2d4d19b"
   },
   "outputs": [
    {
     "name": "stderr",
     "output_type": "stream",
     "text": [
      " 20%|██        | 1/5 [00:32<02:09, 32.45s/it]"
     ]
    },
    {
     "name": "stdout",
     "output_type": "stream",
     "text": [
      "Epoch: 1 | train_loss: 3.6469 | train_acc: 0.2773 | test_loss: 2.7748 | test_acc: 0.4885\n"
     ]
    },
    {
     "name": "stderr",
     "output_type": "stream",
     "text": [
      " 40%|████      | 2/5 [01:04<01:37, 32.43s/it]"
     ]
    },
    {
     "name": "stdout",
     "output_type": "stream",
     "text": [
      "Epoch: 2 | train_loss: 2.8631 | train_acc: 0.4389 | test_loss: 2.4755 | test_acc: 0.5325\n"
     ]
    },
    {
     "name": "stderr",
     "output_type": "stream",
     "text": [
      " 60%|██████    | 3/5 [01:37<01:04, 32.47s/it]"
     ]
    },
    {
     "name": "stdout",
     "output_type": "stream",
     "text": [
      "Epoch: 3 | train_loss: 2.6597 | train_acc: 0.4829 | test_loss: 2.3629 | test_acc: 0.5592\n"
     ]
    },
    {
     "name": "stderr",
     "output_type": "stream",
     "text": [
      " 80%|████████  | 4/5 [02:09<00:32, 32.41s/it]"
     ]
    },
    {
     "name": "stdout",
     "output_type": "stream",
     "text": [
      "Epoch: 4 | train_loss: 2.5511 | train_acc: 0.5115 | test_loss: 2.3103 | test_acc: 0.5666\n"
     ]
    },
    {
     "name": "stderr",
     "output_type": "stream",
     "text": [
      "100%|██████████| 5/5 [02:42<00:00, 32.44s/it]"
     ]
    },
    {
     "name": "stdout",
     "output_type": "stream",
     "text": [
      "Epoch: 5 | train_loss: 2.4962 | train_acc: 0.5255 | test_loss: 2.2822 | test_acc: 0.5796\n"
     ]
    },
    {
     "name": "stderr",
     "output_type": "stream",
     "text": [
      "\n"
     ]
    }
   ],
   "source": [
    "from scripts import engine\n",
    "\n",
    "# Setup the optimizer \n",
    "optimizer = torch.optim.Adam(params=effnetb2_food101.parameters(),\n",
    "                             lr=1e-3)\n",
    "# Setup the loss\n",
    "loss_fn = torch.nn.CrossEntropyLoss(label_smoothing=0.1)\n",
    "\n",
    "# Want to beat the original Food101 paper's result of 56.4% accuracy on the test dataset with 20% of the data\n",
    "set_seeds()\n",
    "effnetb2_food101_results = engine.train(model=effnetb2_food101,\n",
    "                                        train_dataloader=train_dataloader_food101_20_percent,\n",
    "                                        test_dataloader=test_dataloader_food101_20_percent,\n",
    "                                        optimizer=optimizer,\n",
    "                                        loss_fn=loss_fn,\n",
    "                                        epochs=5,\n",
    "                                        device=device)"
   ]
  },
  {
   "cell_type": "markdown",
   "metadata": {
    "id": "EFDfqCvcXUET"
   },
   "source": [
    "## 2.6 Inspecting loss curves of FoodVision Big Model"
   ]
  },
  {
   "cell_type": "markdown",
   "metadata": {},
   "source": [
    "Let's visualize our FoodVision Big loss curves.\n",
    "\n",
    "We can do so with the `plot_loss_curves()` function from `helper_functions.py`."
   ]
  },
  {
   "cell_type": "code",
   "execution_count": 170,
   "metadata": {
    "id": "sF1pI-qZZWEf"
   },
   "outputs": [
    {
     "data": {
      "image/png": "[encoded data removed]",
      "text/plain": [
       "<Figure size 1500x700 with 2 Axes>"
      ]
     },
     "metadata": {},
     "output_type": "display_data"
    }
   ],
   "source": [
    "from scripts.helper_functions import plot_loss_curves\n",
    "\n",
    "plot_loss_curves(effnetb2_food101_results)"
   ]
  },
  {
   "cell_type": "markdown",
   "metadata": {},
   "source": [
    "It looks like our regularization techniques (data augmentation and label smoothing) helped prevent our model from overfitting (the training loss is still higher than the test loss) this indicates our model has more capacity to learn and could improve with further training."
   ]
  },
  {
   "cell_type": "markdown",
   "metadata": {
    "id": "yAvieJHEZi9C"
   },
   "source": [
    "## 2.7 Save and load FoodVision Big Model"
   ]
  },
  {
   "cell_type": "markdown",
   "metadata": {},
   "source": [
    "We save it so we can load it back in later."
   ]
  },
  {
   "cell_type": "code",
   "execution_count": 171,
   "metadata": {
    "id": "EwwPviZ0ZzYD"
   },
   "outputs": [
    {
     "name": "stdout",
     "output_type": "stream",
     "text": [
      "[INFO] Saving model to: models/pretrained_effnetb2_feature_extractor_food101_20_precent.pth\n"
     ]
    }
   ],
   "source": [
    "from scripts import helper_functions\n",
    "\n",
    "# Create a model path\n",
    "effnetb2_food101_model_path = \"pretrained_effnetb2_feature_extractor_food101_20_precent.pth\"\n",
    "\n",
    "# Save FoodVision Big Model\n",
    "helper_functions.save_model(model = effnetb2_food101,\n",
    "                 target_dir = 'models/',\n",
    "                 model_name = effnetb2_food101_model_path)"
   ]
  },
  {
   "cell_type": "markdown",
   "metadata": {},
   "source": [
    "Let's make sure we can load the model back in.\n",
    "\n",
    "We create a model instance with `create_effnetb2_model(num_classes=101)` and then load saved `state_dict()` with `torch.nn.Module.load_state_dict()` and `torch.load()`."
   ]
  },
  {
   "cell_type": "code",
   "execution_count": 172,
   "metadata": {
    "id": "RCbH60F9a11k"
   },
   "outputs": [
    {
     "data": {
      "text/plain": [
       "<All keys matched successfully>"
      ]
     },
     "execution_count": 172,
     "metadata": {},
     "output_type": "execute_result"
    }
   ],
   "source": [
    "# Create Food101 compatible EffNetB2 instance \n",
    "loaded_effnetb2_food101, effnetb2_transforms = create_effnetb2_model(num_classes = 101)\n",
    "\n",
    "# Load the saved model's state_dict()\n",
    "loaded_effnetb2_food101.load_state_dict(torch.load(\"models/pretrained_effnetb2_feature_extractor_food101_20_precent.pth\"))"
   ]
  },
  {
   "cell_type": "markdown",
   "metadata": {
    "id": "WMGRjpnadgYx"
   },
   "source": [
    "## 2.8 Checking FoodVision Big model size"
   ]
  },
  {
   "cell_type": "code",
   "execution_count": 173,
   "metadata": {
    "id": "KaeBBJJ5hRl_"
   },
   "outputs": [
    {
     "name": "stdout",
     "output_type": "stream",
     "text": [
      "Pretrained EffNetB2 feature extractor Food101 model size: 30 MB\n"
     ]
    }
   ],
   "source": [
    "from pathlib import Path\n",
    "\n",
    "# Get the model size in bytes then convert to megabytes\n",
    "pretrained_effnetb2_food101_model_size = Path(\"models\", effnetb2_food101_model_path).stat().st_size // (1024*1024) # division converts bytes to megabytes (roughly) \n",
    "print(f\"Pretrained EffNetB2 feature extractor Food101 model size: {pretrained_effnetb2_food101_model_size} MB\")"
   ]
  },
  {
   "cell_type": "markdown",
   "metadata": {},
   "source": [
    "The model size stayed largely the same (30 MB for FoodVision Big and 29 MB for FoodVision Mini) despite the large increase in the number of classes.\n",
    "\n",
    "This is because all the extra parameters for FoodVision Big are only in the last layer (the classifier head).\n",
    "\n",
    "All of the base layers are the same between FoodVision Big and FoodVision Mini."
   ]
  },
  {
   "cell_type": "code",
   "execution_count": 174,
   "metadata": {
    "scrolled": true,
    "tags": []
   },
   "outputs": [
    {
     "data": {
      "text/plain": [
       "============================================================================================================================================\n",
       "Layer (type (var_name))                                      Input Shape          Output Shape         Param #              Trainable\n",
       "============================================================================================================================================\n",
       "EfficientNet (EfficientNet)                                  [1, 3, 224, 224]     [1, 101]             --                   Partial\n",
       "├─Sequential (features)                                      [1, 3, 224, 224]     [1, 1408, 7, 7]      --                   False\n",
       "│    └─Conv2dNormActivation (0)                              [1, 3, 224, 224]     [1, 32, 112, 112]    --                   False\n",
       "│    │    └─Conv2d (0)                                       [1, 3, 224, 224]     [1, 32, 112, 112]    (864)                False\n",
       "│    │    └─BatchNorm2d (1)                                  [1, 32, 112, 112]    [1, 32, 112, 112]    (64)                 False\n",
       "│    │    └─SiLU (2)                                         [1, 32, 112, 112]    [1, 32, 112, 112]    --                   --\n",
       "│    └─Sequential (1)                                        [1, 32, 112, 112]    [1, 16, 112, 112]    --                   False\n",
       "│    │    └─MBConv (0)                                       [1, 32, 112, 112]    [1, 16, 112, 112]    (1,448)              False\n",
       "│    │    └─MBConv (1)                                       [1, 16, 112, 112]    [1, 16, 112, 112]    (612)                False\n",
       "│    └─Sequential (2)                                        [1, 16, 112, 112]    [1, 24, 56, 56]      --                   False\n",
       "│    │    └─MBConv (0)                                       [1, 16, 112, 112]    [1, 24, 56, 56]      (6,004)              False\n",
       "│    │    └─MBConv (1)                                       [1, 24, 56, 56]      [1, 24, 56, 56]      (10,710)             False\n",
       "│    │    └─MBConv (2)                                       [1, 24, 56, 56]      [1, 24, 56, 56]      (10,710)             False\n",
       "│    └─Sequential (3)                                        [1, 24, 56, 56]      [1, 48, 28, 28]      --                   False\n",
       "│    │    └─MBConv (0)                                       [1, 24, 56, 56]      [1, 48, 28, 28]      (16,518)             False\n",
       "│    │    └─MBConv (1)                                       [1, 48, 28, 28]      [1, 48, 28, 28]      (43,308)             False\n",
       "│    │    └─MBConv (2)                                       [1, 48, 28, 28]      [1, 48, 28, 28]      (43,308)             False\n",
       "│    └─Sequential (4)                                        [1, 48, 28, 28]      [1, 88, 14, 14]      --                   False\n",
       "│    │    └─MBConv (0)                                       [1, 48, 28, 28]      [1, 88, 14, 14]      (50,300)             False\n",
       "│    │    └─MBConv (1)                                       [1, 88, 14, 14]      [1, 88, 14, 14]      (123,750)            False\n",
       "│    │    └─MBConv (2)                                       [1, 88, 14, 14]      [1, 88, 14, 14]      (123,750)            False\n",
       "│    │    └─MBConv (3)                                       [1, 88, 14, 14]      [1, 88, 14, 14]      (123,750)            False\n",
       "│    └─Sequential (5)                                        [1, 88, 14, 14]      [1, 120, 14, 14]     --                   False\n",
       "│    │    └─MBConv (0)                                       [1, 88, 14, 14]      [1, 120, 14, 14]     (149,158)            False\n",
       "│    │    └─MBConv (1)                                       [1, 120, 14, 14]     [1, 120, 14, 14]     (237,870)            False\n",
       "│    │    └─MBConv (2)                                       [1, 120, 14, 14]     [1, 120, 14, 14]     (237,870)            False\n",
       "│    │    └─MBConv (3)                                       [1, 120, 14, 14]     [1, 120, 14, 14]     (237,870)            False\n",
       "│    └─Sequential (6)                                        [1, 120, 14, 14]     [1, 208, 7, 7]       --                   False\n",
       "│    │    └─MBConv (0)                                       [1, 120, 14, 14]     [1, 208, 7, 7]       (301,406)            False\n",
       "│    │    └─MBConv (1)                                       [1, 208, 7, 7]       [1, 208, 7, 7]       (686,868)            False\n",
       "│    │    └─MBConv (2)                                       [1, 208, 7, 7]       [1, 208, 7, 7]       (686,868)            False\n",
       "│    │    └─MBConv (3)                                       [1, 208, 7, 7]       [1, 208, 7, 7]       (686,868)            False\n",
       "│    │    └─MBConv (4)                                       [1, 208, 7, 7]       [1, 208, 7, 7]       (686,868)            False\n",
       "│    └─Sequential (7)                                        [1, 208, 7, 7]       [1, 352, 7, 7]       --                   False\n",
       "│    │    └─MBConv (0)                                       [1, 208, 7, 7]       [1, 352, 7, 7]       (846,900)            False\n",
       "│    │    └─MBConv (1)                                       [1, 352, 7, 7]       [1, 352, 7, 7]       (1,888,920)          False\n",
       "│    └─Conv2dNormActivation (8)                              [1, 352, 7, 7]       [1, 1408, 7, 7]      --                   False\n",
       "│    │    └─Conv2d (0)                                       [1, 352, 7, 7]       [1, 1408, 7, 7]      (495,616)            False\n",
       "│    │    └─BatchNorm2d (1)                                  [1, 1408, 7, 7]      [1, 1408, 7, 7]      (2,816)              False\n",
       "│    │    └─SiLU (2)                                         [1, 1408, 7, 7]      [1, 1408, 7, 7]      --                   --\n",
       "├─AdaptiveAvgPool2d (avgpool)                                [1, 1408, 7, 7]      [1, 1408, 1, 1]      --                   --\n",
       "├─Sequential (classifier)                                    [1, 1408]            [1, 101]             --                   True\n",
       "│    └─Dropout (0)                                           [1, 1408]            [1, 1408]            --                   --\n",
       "│    └─Linear (1)                                            [1, 1408]            [1, 101]             142,309              True\n",
       "============================================================================================================================================\n",
       "Total params: 7,843,303\n",
       "Trainable params: 142,309\n",
       "Non-trainable params: 7,700,994\n",
       "Total mult-adds (M): 657.78\n",
       "============================================================================================================================================\n",
       "Input size (MB): 0.60\n",
       "Forward/backward pass size (MB): 156.80\n",
       "Params size (MB): 31.37\n",
       "Estimated Total Size (MB): 188.77\n",
       "============================================================================================================================================"
      ]
     },
     "execution_count": 174,
     "metadata": {},
     "output_type": "execute_result"
    }
   ],
   "source": [
    "from torchinfo import summary\n",
    "\n",
    "\n",
    "summary(effnetb2_food101, \n",
    "        input_size=(1, 3, 224, 224),\n",
    "        col_names=[\"input_size\", \"output_size\", \"num_params\", \"trainable\"],\n",
    "        col_width=20,\n",
    "        row_settings=[\"var_names\"])"
   ]
  },
  {
   "cell_type": "markdown",
   "metadata": {},
   "source": [
    "| Model | Output shape (num classes) | Trainable parameters | Total parameters | Model size (MB) |\n",
    "|----------|:---------------:|:---------------:|:---------------:|:---------------:|\n",
    "| FoodVision Mini (EffNetB2 feature extractor)    | 3   | 4,227   | 7,705,221   | 29   |  \n",
    "| FoodVision Big (EffNetB2 feature extractor)    | 101   | 142,309   | 7,843,303   |  30   |  \n"
   ]
  },
  {
   "cell_type": "markdown",
   "metadata": {
    "id": "HgxYqdoghr7F"
   },
   "source": [
    "## 2.9 Turning our FoodVision Big model into a deployable app"
   ]
  },
  {
   "cell_type": "markdown",
   "metadata": {},
   "source": [
    "We've got a trained and saved EffNetB2 model on 20% of the Food101 dataset."
   ]
  },
  {
   "cell_type": "markdown",
   "metadata": {
    "id": "LjGSVtbDowi6"
   },
   "source": [
    "We are going to deploy our FoodVision Big model in the same way we deployed our FoodVision Mini model, as a Gradio demo on Hugging Face Spaces.\n",
    "\n",
    "To begin, let's create a `demos/foodvision_big/` directory to store our FoodVision Big demo files as well as a `demos/foodvision_big/examples` directory to hold an example image to test the demo with.\n",
    "\n",
    "Let's create an outline for our FoodVision Big app:\n",
    "```\n",
    "demos/\n",
    "  foodvision_big/\n",
    "    09_pretrained_effnetb2_feature_extractor_food101_20_percent.pth\n",
    "    app.py\n",
    "    class_names.txt\n",
    "    examples/\n",
    "      example_1.jpg\n",
    "    model.py\n",
    "    requirements.txt\n",
    "\n",
    "```"
   ]
  },
  {
   "cell_type": "code",
   "execution_count": 175,
   "metadata": {
    "id": "sxO6hwcdqFS9"
   },
   "outputs": [],
   "source": [
    "from pathlib import Path\n",
    "\n",
    "# Create FoodVision Big demo path \n",
    "foodvision_big_demo_path = Path('demos/foodvision_big/')\n",
    "\n",
    "# Make FoodVision Big demo directory\n",
    "foodvision_big_demo_path.mkdir(parents = True, \n",
    "                               exist_ok = True)\n",
    "\n",
    "# Make FoodVision Big demo examples directory\n",
    "(foodvision_big_demo_path/\"examples\").mkdir(parents = True, exist_ok = True)"
   ]
  },
  {
   "cell_type": "code",
   "execution_count": 176,
   "metadata": {
    "colab": {
     "base_uri": "https://localhost:8080/"
    },
    "id": "njDTrFwjrnrp",
    "outputId": "ddde4dc7-4e99-4f70-9875-2ffb43ecc96e"
   },
   "outputs": [
    {
     "name": "stdout",
     "output_type": "stream",
     "text": [
      "examples\n"
     ]
    }
   ],
   "source": [
    "!ls demos/foodvision_big/"
   ]
  },
  {
   "cell_type": "markdown",
   "metadata": {
    "id": "MaSR10f5tbAI"
   },
   "source": [
    "### 2.9.1 Downloading an example image and moving it to the `examples` folder"
   ]
  },
  {
   "cell_type": "code",
   "execution_count": 177,
   "metadata": {
    "colab": {
     "base_uri": "https://localhost:8080/"
    },
    "id": "uSbexMsjt08m",
    "outputId": "5208d881-323a-428d-b9ca-f8199618293a"
   },
   "outputs": [
    {
     "name": "stdout",
     "output_type": "stream",
     "text": [
      "--2023-03-04 22:19:18--  https://github.com/vic-art/Food-classification-model-and-deployment/raw/main/Hamburger-cheeseburger.jpg\n",
      "Resolving github.com (github.com)... 140.82.112.3\n",
      "Connecting to github.com (github.com)|140.82.112.3|:443... connected.\n",
      "HTTP request sent, awaiting response... 302 Found\n",
      "Location: https://raw.githubusercontent.com/vic-art/Food-classification-model-and-deployment/main/Hamburger-cheeseburger.jpg [following]\n",
      "--2023-03-04 22:19:18--  https://raw.githubusercontent.com/vic-art/Food-classification-model-and-deployment/main/Hamburger-cheeseburger.jpg\n",
      "Resolving raw.githubusercontent.com (raw.githubusercontent.com)... 185.199.108.133, 185.199.109.133, 185.199.110.133, ...\n",
      "Connecting to raw.githubusercontent.com (raw.githubusercontent.com)|185.199.108.133|:443... connected.\n",
      "HTTP request sent, awaiting response... 200 OK\n",
      "Length: 131776 (129K) [image/jpeg]\n",
      "Saving to: ‘Hamburger-cheeseburger.jpg’\n",
      "\n",
      "Hamburger-cheesebur 100%[===================>] 128.69K  --.-KB/s    in 0.02s   \n",
      "\n",
      "2023-03-04 22:19:18 (5.30 MB/s) - ‘Hamburger-cheeseburger.jpg’ saved [131776/131776]\n",
      "\n"
     ]
    }
   ],
   "source": [
    "# Download and move example image\n",
    "!wget https://github.com/vic-art/Food-classification-model-and-deployment/raw/main/Hamburger-cheeseburger.jpg\n",
    "!mv Hamburger-cheeseburger.jpg demos/foodvision_big/examples/Hamburger-cheeseburger.jpg"
   ]
  },
  {
   "cell_type": "markdown",
   "metadata": {},
   "source": [
    "We move our trained Food101 EffNetB2 model from `models/pretrained_effnetb2_feature_extractor_food101_20_percent.pth` to `demos/foodvision_big` as well."
   ]
  },
  {
   "cell_type": "code",
   "execution_count": 181,
   "metadata": {
    "colab": {
     "base_uri": "https://localhost:8080/"
    },
    "id": "mCpDL16pyTYq",
    "outputId": "8a84d138-9422-40ae-d45f-52ef8e958c1f"
   },
   "outputs": [],
   "source": [
    "!mv models/pretrained_effnetb2_feature_extractor_food101_20_precent.pth demos/foodvision_big/"
   ]
  },
  {
   "cell_type": "markdown",
   "metadata": {
    "id": "cPQQ_N77B80z"
   },
   "source": [
    "### 2.9.2 Saving Food101 class names to file (`class_names.txt`)"
   ]
  },
  {
   "cell_type": "markdown",
   "metadata": {},
   "source": [
    "Because there are so many classes in the Food101 dataset, instead of storing them as a list in our app.py file, we save them to a .txt file and read them in when necessary instead."
   ]
  },
  {
   "cell_type": "code",
   "execution_count": 182,
   "metadata": {
    "colab": {
     "base_uri": "https://localhost:8080/"
    },
    "id": "FZQQdGJCCyvV",
    "outputId": "88e23266-1d5d-4007-8ecd-6fc456002079"
   },
   "outputs": [
    {
     "data": {
      "text/plain": [
       "['apple_pie',\n",
       " 'baby_back_ribs',\n",
       " 'baklava',\n",
       " 'beef_carpaccio',\n",
       " 'beef_tartare',\n",
       " 'beet_salad',\n",
       " 'beignets',\n",
       " 'bibimbap',\n",
       " 'bread_pudding',\n",
       " 'breakfast_burrito']"
      ]
     },
     "execution_count": 182,
     "metadata": {},
     "output_type": "execute_result"
    }
   ],
   "source": [
    "# Check out the first 10 Food101 class names \n",
    "food101_class_names[:10]"
   ]
  },
  {
   "cell_type": "code",
   "execution_count": 184,
   "metadata": {
    "colab": {
     "base_uri": "https://localhost:8080/"
    },
    "id": "FwOx_mAdC3rr",
    "outputId": "1fb1fbd3-d229-40a1-e6ad-5e610ab23fcf"
   },
   "outputs": [
    {
     "data": {
      "text/plain": [
       "PosixPath('demos/foodvision_big/class_names.txt')"
      ]
     },
     "execution_count": 184,
     "metadata": {},
     "output_type": "execute_result"
    }
   ],
   "source": [
    "# Create path to Food101 class names\n",
    "foodvision_big_class_names_path = foodvision_big_demo_path/ \"class_names.txt\"\n",
    "foodvision_big_class_names_path"
   ]
  },
  {
   "cell_type": "code",
   "execution_count": 185,
   "metadata": {
    "colab": {
     "base_uri": "https://localhost:8080/"
    },
    "id": "41rZsY9WDAxa",
    "outputId": "614709aa-dfaf-4756-c101-3b04cf52627c"
   },
   "outputs": [
    {
     "name": "stdout",
     "output_type": "stream",
     "text": [
      "[INFO] Saving Food101 class names to demos/foodvision_big/class_names.txt\n"
     ]
    }
   ],
   "source": [
    "# Write Food101 class names to text file\n",
    "with open(foodvision_big_class_names_path, 'w') as f:\n",
    "  print(f\"[INFO] Saving Food101 class names to {foodvision_big_class_names_path}\")\n",
    "  f.write(\"\\n\".join(food101_class_names)) # new line per class name"
   ]
  },
  {
   "cell_type": "code",
   "execution_count": 186,
   "metadata": {
    "colab": {
     "base_uri": "https://localhost:8080/"
    },
    "id": "kOjZ28s5E54Z",
    "outputId": "3d52c7a9-c8cf-49a8-9633-fe7c0ce61108"
   },
   "outputs": [
    {
     "data": {
      "text/plain": [
       "['apple_pie', 'baby_back_ribs', 'baklava', 'beef_carpaccio', 'beef_tartare']"
      ]
     },
     "execution_count": 186,
     "metadata": {},
     "output_type": "execute_result"
    }
   ],
   "source": [
    "# Open Food101 class names file and read each line into a list\n",
    "with open(foodvision_big_class_names_path, 'r') as f:\n",
    "  food101_class_names_loaded = [food.strip() for food in f.readlines()]\n",
    "\n",
    "food101_class_names_loaded[:5]"
   ]
  },
  {
   "cell_type": "markdown",
   "metadata": {
    "id": "i1dx2ue_GY-g"
   },
   "source": [
    "### 2.9.3 Turning FoodVision Big Model into a Python script ('model.py')"
   ]
  },
  {
   "cell_type": "markdown",
   "metadata": {},
   "source": [
    "Let's create a script that's capable of instantiating an EffNetB2 feature extractor model along with its necessary transforms."
   ]
  },
  {
   "cell_type": "code",
   "execution_count": 187,
   "metadata": {
    "id": "YkiZVNxYG_2n"
   },
   "outputs": [
    {
     "name": "stdout",
     "output_type": "stream",
     "text": [
      "Writing demos/foodvision_big/model.py\n"
     ]
    }
   ],
   "source": [
    "%%writefile demos/foodvision_big/model.py\n",
    "import torch\n",
    "import torchvision\n",
    "\n",
    "from torch import nn\n",
    "\n",
    "def create_effnetb2_model(num_classes: int = 3,\n",
    "                          seed: int = 42):\n",
    "    \"\"\"Creates an EfficientNetB2 feature extractor model and transforms.\n",
    "\n",
    "    Args:\n",
    "        num_classes (int, optional): number of classes in the classifier head. \n",
    "            Defaults to 3.\n",
    "        seed (int, optional): random seed value. Defaults to 42.\n",
    "\n",
    "    Returns:\n",
    "        model (torch.nn.Module): EffNetB2 feature extractor model. \n",
    "        transforms (torchvision.transforms): EffNetB2 image transforms.\n",
    "    \"\"\"\n",
    "  # Create EffNetB2 pretrained weights, transforms and model\n",
    "  weights = torchvision.models.EfficientNet_B2_Weights.DEFAULT\n",
    "  transforms = weights.transforms()\n",
    "  model = torchvision.models.efficientnet_b2(weights = weights)\n",
    "\n",
    "  # 4. Freeze the base layers in the model, this will stop all layers from training\n",
    "  for param in model.parameters():\n",
    "    param.requires_grad = False\n",
    "\n",
    "  # 5. Change classifier head with random seed \n",
    "  torch.manual_seed(seed)\n",
    "  model.classifier = nn.Sequential(\n",
    "    nn.Dropout(p = 0.3, inplace = True),\n",
    "    nn.Linear(in_features=1408, out_features=num_classes, bias=True)\n",
    "  )\n",
    "  return model, transforms"
   ]
  },
  {
   "cell_type": "markdown",
   "metadata": {
    "id": "q3yaNbGYHQwv"
   },
   "source": [
    "### 2.9.4 Turning FoodVision Big Gradio app into a Python script (`app`)"
   ]
  },
  {
   "cell_type": "markdown",
   "metadata": {
    "id": "N8iFcCjFJj0E"
   },
   "source": [
    "The app.py file will have four major parts:\n",
    "\n",
    "1. Imports and class names setup - for class names, we'll need to import from class_names.txt rather than with a Python list\n",
    "2. Model and transforms preparation - The model will have num_classes=101 rather than num_classes=3. We'll also be sure to load the weights from \"pretrained_effnetb2_feature_extractor_food101_20_percent.pth\".\n",
    "3. Predict function (predict()) - this can stay the same as the original predict()\n",
    "4. Gradio app - our Gradio interface + launch command - The Gradio interace will have different title, description and article parameters to reflect the details of FoodVision Big."
   ]
  },
  {
   "cell_type": "code",
   "execution_count": 188,
   "metadata": {
    "id": "gMmpjaJWh5U4"
   },
   "outputs": [
    {
     "name": "stdout",
     "output_type": "stream",
     "text": [
      "Writing demos/foodvision_big/app.py\n"
     ]
    }
   ],
   "source": [
    "%%writefile demos/foodvision_big/app.py\n",
    "### Imports and class names setup ###\n",
    "import gradio as gr\n",
    "import os\n",
    "import torch\n",
    "\n",
    "from model import create_effnetb2_model\n",
    "from timeit import default_timer as timer\n",
    "from typing import Tuple, Dict\n",
    "\n",
    "# Setup class names \n",
    "with open('class_names.txt', 'r') as f:\n",
    "  class_names = [food_name.strip() for food_name in f.readlines()]\n",
    "\n",
    "### 2. Model and transform preparation ###\n",
    "# Create model and transforms\n",
    "effnetb2, effnetb2_transforms = create_effnetb2_model(num_classes = 101)\n",
    "\n",
    "# Load saved weights \n",
    "effnetb2.load_state_dict(\n",
    "    torch.load(f='pretrained_effnetb2_feature_extractor_food101_20_precent.pth',\n",
    "               map_location =torch.device(\"cpu\")) #load to CPU\n",
    ")\n",
    "\n",
    "### 3. Predict function ###\n",
    "\n",
    "def predict(img) -> Tuple[Dict, float]:\n",
    "  # Start a timer\n",
    "  start_time = timer()\n",
    "\n",
    "  # Transform the input image for use with EffNetB2\n",
    "  img = effnetb2_transforms(img).unsqueeze(0) # add batch dimension on 0th index\n",
    "\n",
    "  # Put model into eval mode, make predictions \n",
    "  effnetb2.eval()\n",
    "  with torch.inference_mode():\n",
    "    # Pass the transformed image through the model and turn the prediction logits into probabilities\n",
    "    pred_probs = torch.softmax(effnetb2(img), dim=1)\n",
    "\n",
    "  # Create a prediction label and prediction probability dictionary\n",
    "  pred_labels_and_probs = {class_names[i]: float(pred_probs[0][i]) for i in range(len(class_names))}\n",
    "\n",
    "  # Calculate the pred time\n",
    "  end_time = timer()\n",
    "  pred_time = round(end_time-start_time, 4)\n",
    "\n",
    "  # Return pred dict and pred time\n",
    "  return pred_labels_and_probs, pred_time\n",
    "\n",
    "### 4. Gradio app - our Gradio interface + launch command\n",
    "\n",
    "# Create title, description and article\n",
    "title = \"FoodVision Big 🍕👁\"\n",
    "description = \"An [EfficientNetB2 feature extractor](https://pytorch.org/vision/stable/models/generated/torchvision.models.efficientnet_b2.html#torchvision.models.efficientnet_b2) computer vision model to classify images of [101 classes of food from Food101 dataset](https://github.com/mrdbourke/pytorch-deep-learning/blob/main/extras/food101_class_names.txt).\"\n",
    "article = \"Created at [PyTorch Model Deployment](https://www.learnpytorch.io/09_pytorch_model_deployment/#11-turning-our-foodvision-big-model-into-a-deployable-app)\"\n",
    "\n",
    "# Create example list\n",
    "example_list = [[\"examples/\" + example] for example in os.listdir(\"examples\")]\n",
    "\n",
    "\n",
    "# Create the Gradio demo\n",
    "demo = gr.Interface(\n",
    "    fn = predict, \n",
    "    inputs = gr.Image(type='pil'),\n",
    "    outputs = [gr.Label(num_top_classes=5, label =\"Predictions\"),\n",
    "               gr.Number(label ='Prediction time (s)')], \n",
    "               examples=example_list,\n",
    "               title=title,\n",
    "               description=description,\n",
    "               article=article)               \n",
    "# Launch the demo!\n",
    "demo.launch()"
   ]
  },
  {
   "cell_type": "markdown",
   "metadata": {
    "id": "3CNYFV8TQi2p"
   },
   "source": [
    "### 2.9.5 Creating a requirements file for FoodVision Big (requirements.txt)"
   ]
  },
  {
   "cell_type": "code",
   "execution_count": 189,
   "metadata": {
    "id": "UYSAuuiDQRzd"
   },
   "outputs": [
    {
     "name": "stdout",
     "output_type": "stream",
     "text": [
      "Writing demos/foodvision_big/requirements.txt\n"
     ]
    }
   ],
   "source": [
    "%%writefile demos/foodvision_big/requirements.txt\n",
    "torch==1.12.0\n",
    "torchvision==0.13.0\n",
    "gradio==3.1.4"
   ]
  },
  {
   "cell_type": "markdown",
   "metadata": {
    "id": "abRgwi7KQyFX"
   },
   "source": [
    "### 2.9.6 Downloading our FoodVision Big app files"
   ]
  },
  {
   "cell_type": "code",
   "execution_count": 190,
   "metadata": {
    "id": "xF3qzfUpQ0c4"
   },
   "outputs": [
    {
     "name": "stdout",
     "output_type": "stream",
     "text": [
      "  adding: app.py (deflated 53%)\n",
      "  adding: class_names.txt (deflated 48%)\n",
      "  adding: examples/ (stored 0%)\n",
      "  adding: examples/Hamburger-cheeseburger.jpg (deflated 0%)\n",
      "  adding: model.py (deflated 54%)\n",
      "  adding: pretrained_effnetb2_feature_extractor_food101_20_precent.pth (deflated 8%)\n",
      "  adding: requirements.txt (deflated 4%)\n"
     ]
    }
   ],
   "source": [
    "# Change into the foodvision_big directory and then zip it from the inside\n",
    "!cd demos/foodvision_big && zip -r ../foodvision_big.zip * -x \"*.pyc\" \"*.ipynb\" \"*__pycache__*\" \"*ipynb_checkpoints*\""
   ]
  },
  {
   "cell_type": "code",
   "execution_count": 191,
   "metadata": {
    "id": "KaqwDMSuRGk2"
   },
   "outputs": [
    {
     "name": "stdout",
     "output_type": "stream",
     "text": [
      "Not running in Google Colab, can't use google.colab.files.download(), please download foodvision_big.zip manually.\n"
     ]
    }
   ],
   "source": [
    "# Download\n",
    "try:\n",
    "  from google.colab import files\n",
    "  files.download(\"demos/foodvision_big.zip\")\n",
    "except:\n",
    "  print(f\"Not running in Google Colab, can't use google.colab.files.download(), please download foodvision_big.zip manually.\")"
   ]
  },
  {
   "cell_type": "markdown",
   "metadata": {},
   "source": [
    "# 3. Creating FoodVision Big (using entire Food101 dataset)"
   ]
  },
  {
   "cell_type": "markdown",
   "metadata": {},
   "source": [
    "Now we are going to make a model for classifying all Food101 classes using entire Food101 dataset. "
   ]
  },
  {
   "cell_type": "markdown",
   "metadata": {},
   "source": [
    "## 3.1 Creating a model and transforms for FoodVision Big"
   ]
  },
  {
   "cell_type": "markdown",
   "metadata": {},
   "source": [
    "This time we also choose EffNetB2 model, since it gives a good tradeoff between speed and performance (it performed well with a fast speed).\n",
    "\n",
    "We create an instance of the EffNetB2 model for Food101 by using `create_effnetb2_model()` function we created above, and passing it `num_classes=101` (since Food101 has 101 classes)."
   ]
  },
  {
   "cell_type": "code",
   "execution_count": 29,
   "metadata": {},
   "outputs": [],
   "source": [
    "# Create EffNetB2 model capable of fitting to 101 classes for Food101\n",
    "effnetb2_food101_full, effnetb2_transforms_full = create_effnetb2_model(num_classes = 101)"
   ]
  },
  {
   "cell_type": "markdown",
   "metadata": {},
   "source": [
    "We add a data augmentation to transforms (effnetb2_transforms) to augment the training data to artificially increase the diversity of a training dataset to hopefully prevent overfitting."
   ]
  },
  {
   "cell_type": "code",
   "execution_count": 30,
   "metadata": {},
   "outputs": [],
   "source": [
    "# Create Food101 training data transforms (only perform data augmentation on the training images)\n",
    "food101_train_transforms_full = torchvision.transforms.Compose([\n",
    "    torchvision.transforms.TrivialAugmentWide(),\n",
    "    effnetb2_transforms_full,\n",
    "])"
   ]
  },
  {
   "cell_type": "markdown",
   "metadata": {},
   "source": [
    "We will use `food101_train_transforms` for the training data and `effnetb2_transforms` for the testing/inference data."
   ]
  },
  {
   "cell_type": "markdown",
   "metadata": {},
   "source": [
    "## 3.2 Getting data"
   ]
  },
  {
   "cell_type": "markdown",
   "metadata": {},
   "source": [
    "To get the whole Food101 dataset, we can use `torchvision.datasets.Food101()`.\n",
    "\n",
    "Then we download and transform the training and testing dataset splits using `food101_train_transforms` and `effnetb2_transforms` to transform each dataset respectively."
   ]
  },
  {
   "cell_type": "code",
   "execution_count": 31,
   "metadata": {},
   "outputs": [],
   "source": [
    "from torchvision import datasets\n",
    "\n",
    "# Setup data directory\n",
    "from pathlib import Path\n",
    "data_dir = Path(\"data\")\n",
    "\n",
    "# Get training data (~750 images x 101 food classes)\n",
    "train_data = datasets.Food101(root=data_dir, # path to download data to\n",
    "                              split=\"train\", # dataset split to get\n",
    "                              transform=food101_train_transforms_full, # perform data augmentation on training data\n",
    "                              download=True) # want to download?\n",
    "\n",
    "# Get testing data (~250 images x 101 food classes)\n",
    "test_data = datasets.Food101(root=data_dir,\n",
    "                             split=\"test\",\n",
    "                             transform=effnetb2_transforms_full, # perform normal EffNetB2 transforms on test data\n",
    "                             download=True)"
   ]
  },
  {
   "cell_type": "code",
   "execution_count": 32,
   "metadata": {},
   "outputs": [
    {
     "data": {
      "text/plain": [
       "(75750, 25250)"
      ]
     },
     "execution_count": 32,
     "metadata": {},
     "output_type": "execute_result"
    }
   ],
   "source": [
    "len(train_data), len(test_data)"
   ]
  },
  {
   "cell_type": "code",
   "execution_count": 33,
   "metadata": {},
   "outputs": [
    {
     "data": {
      "text/plain": [
       "['apple_pie',\n",
       " 'baby_back_ribs',\n",
       " 'baklava',\n",
       " 'beef_carpaccio',\n",
       " 'beef_tartare',\n",
       " 'beet_salad',\n",
       " 'beignets',\n",
       " 'bibimbap',\n",
       " 'bread_pudding',\n",
       " 'breakfast_burrito']"
      ]
     },
     "execution_count": 33,
     "metadata": {},
     "output_type": "execute_result"
    }
   ],
   "source": [
    "# Get Food101 class names\n",
    "food101_class_names = train_data.classes\n",
    "\n",
    "# View the first 10\n",
    "food101_class_names[:10]"
   ]
  },
  {
   "cell_type": "markdown",
   "metadata": {},
   "source": [
    "## 3.3 Turning our Food101 datasets into DataLoaders"
   ]
  },
  {
   "cell_type": "markdown",
   "metadata": {},
   "source": [
    "We turn Food101 dataset splits into DataLoader's using `torch.utils.data.DataLoader()` by setting `shuffle=True` for the training data only."
   ]
  },
  {
   "cell_type": "code",
   "execution_count": 34,
   "metadata": {},
   "outputs": [],
   "source": [
    "import torch\n",
    "import os\n",
    "\n",
    "NUM_WORKERS=os.cpu_count()\n",
    "\n",
    "BATCH_SIZE = 32\n",
    "\n",
    "# Creating Fodd101 training DataLoader \n",
    "train_dataloader_food101 = torch.utils.data.DataLoader(dataset = train_data,\n",
    "                                                                  batch_size = BATCH_SIZE,\n",
    "                                                                  shuffle = True,\n",
    "                                                                  num_workers = NUM_WORKERS)\n",
    "# Creating Fodd101 testing DataLoader \n",
    "test_dataloader_food101 = torch.utils.data.DataLoader(dataset = test_data,\n",
    "                                                                batch_size = BATCH_SIZE,\n",
    "                                                                shuffle = False,\n",
    "                                                                num_workers = NUM_WORKERS)"
   ]
  },
  {
   "cell_type": "code",
   "execution_count": 20,
   "metadata": {},
   "outputs": [
    {
     "data": {
      "text/plain": [
       "(2368, 790)"
      ]
     },
     "execution_count": 20,
     "metadata": {},
     "output_type": "execute_result"
    }
   ],
   "source": [
    "len(train_dataloader_food101), len(test_dataloader_food101)"
   ]
  },
  {
   "cell_type": "markdown",
   "metadata": {},
   "source": [
    "## 3.4 Training FoodVision Big model"
   ]
  },
  {
   "cell_type": "markdown",
   "metadata": {},
   "source": [
    "Things for training:\n",
    "1. 10 epochs\n",
    "2. optimizer: `torch.optim.Adam(lr = 1e-3)`\n",
    "3. because we've got so many classes, we setup a loss function with [label_smoothing](https://pytorch.org/blog/how-to-train-state-of-the-art-models-using-torchvision-latest-primitives/#label-smoothing) of 0.1: `torch.nn.CrossEntropyLoss(label_smoothing = 0.1)`. Label smoothing helps to prevent overfitting.\n",
    "4. [scheduler](https://pytorch.org/docs/stable/generated/torch.optim.lr_scheduler.ReduceLROnPlateau.html) - Reduce learning rate when a metric (in our case, accuracy) has stopped improving. "
   ]
  },
  {
   "cell_type": "code",
   "execution_count": 35,
   "metadata": {
    "scrolled": true,
    "tags": []
   },
   "outputs": [
    {
     "name": "stderr",
     "output_type": "stream",
     "text": [
      "  4%|▍         | 1/25 [02:33<1:01:28, 153.70s/it]"
     ]
    },
    {
     "name": "stdout",
     "output_type": "stream",
     "text": [
      "Epoch: 1 | train_loss: 2.9822 | train_acc: 0.4063 | test_loss: 2.1778 | test_acc: 0.6107\n",
      "[INFO] Saving model to: models/effnetb2_food101_model_pretrained_best.pth\n"
     ]
    },
    {
     "name": "stderr",
     "output_type": "stream",
     "text": [
      "  8%|▊         | 2/25 [05:07<58:57, 153.82s/it]  "
     ]
    },
    {
     "name": "stdout",
     "output_type": "stream",
     "text": [
      "Epoch: 2 | train_loss: 2.6470 | train_acc: 0.4808 | test_loss: 2.1142 | test_acc: 0.6256\n",
      "[INFO] Saving model to: models/effnetb2_food101_model_pretrained_best.pth\n"
     ]
    },
    {
     "name": "stderr",
     "output_type": "stream",
     "text": [
      " 12%|█▏        | 3/25 [07:41<56:21, 153.71s/it]"
     ]
    },
    {
     "name": "stdout",
     "output_type": "stream",
     "text": [
      "Epoch: 3 | train_loss: 2.6216 | train_acc: 0.4891 | test_loss: 2.0714 | test_acc: 0.6391\n",
      "[INFO] Saving model to: models/effnetb2_food101_model_pretrained_best.pth\n"
     ]
    },
    {
     "name": "stderr",
     "output_type": "stream",
     "text": [
      " 16%|█▌        | 4/25 [10:14<53:47, 153.69s/it]"
     ]
    },
    {
     "name": "stdout",
     "output_type": "stream",
     "text": [
      "Epoch: 4 | train_loss: 2.5933 | train_acc: 0.4983 | test_loss: 2.0553 | test_acc: 0.6433\n",
      "[INFO] Saving model to: models/effnetb2_food101_model_pretrained_best.pth\n"
     ]
    },
    {
     "name": "stderr",
     "output_type": "stream",
     "text": [
      " 20%|██        | 5/25 [12:48<51:12, 153.64s/it]"
     ]
    },
    {
     "name": "stdout",
     "output_type": "stream",
     "text": [
      "Epoch: 5 | train_loss: 2.5931 | train_acc: 0.4988 | test_loss: 2.0547 | test_acc: 0.6477\n",
      "[INFO] Saving model to: models/effnetb2_food101_model_pretrained_best.pth\n"
     ]
    },
    {
     "name": "stderr",
     "output_type": "stream",
     "text": [
      " 24%|██▍       | 6/25 [15:22<48:41, 153.75s/it]"
     ]
    },
    {
     "name": "stdout",
     "output_type": "stream",
     "text": [
      "Epoch: 6 | train_loss: 2.5934 | train_acc: 0.4983 | test_loss: 2.0340 | test_acc: 0.6498\n",
      "[INFO] Saving model to: models/effnetb2_food101_model_pretrained_best.pth\n"
     ]
    },
    {
     "name": "stderr",
     "output_type": "stream",
     "text": [
      " 28%|██▊       | 7/25 [17:55<46:05, 153.65s/it]"
     ]
    },
    {
     "name": "stdout",
     "output_type": "stream",
     "text": [
      "Epoch: 7 | train_loss: 2.5918 | train_acc: 0.4995 | test_loss: 2.0422 | test_acc: 0.6461\n",
      "[INFO] Saving model to: models/effnetb2_food101_model_pretrained_best.pth\n"
     ]
    },
    {
     "name": "stderr",
     "output_type": "stream",
     "text": [
      " 32%|███▏      | 8/25 [20:29<43:34, 153.77s/it]"
     ]
    },
    {
     "name": "stdout",
     "output_type": "stream",
     "text": [
      "Epoch: 8 | train_loss: 2.5852 | train_acc: 0.4996 | test_loss: 2.0494 | test_acc: 0.6449\n",
      "[INFO] Saving model to: models/effnetb2_food101_model_pretrained_best.pth\n"
     ]
    },
    {
     "name": "stderr",
     "output_type": "stream",
     "text": [
      " 36%|███▌      | 9/25 [23:03<41:00, 153.77s/it]"
     ]
    },
    {
     "name": "stdout",
     "output_type": "stream",
     "text": [
      "Epoch 00009: reducing learning rate of group 0 to 1.0000e-04.\n",
      "Epoch: 9 | train_loss: 2.5891 | train_acc: 0.5007 | test_loss: 2.0455 | test_acc: 0.6464\n",
      "[INFO] Saving model to: models/effnetb2_food101_model_pretrained_best.pth\n"
     ]
    },
    {
     "name": "stderr",
     "output_type": "stream",
     "text": [
      " 40%|████      | 10/25 [25:37<38:26, 153.74s/it]"
     ]
    },
    {
     "name": "stdout",
     "output_type": "stream",
     "text": [
      "Epoch: 10 | train_loss: 2.5055 | train_acc: 0.5209 | test_loss: 2.0180 | test_acc: 0.6563\n",
      "[INFO] Saving model to: models/effnetb2_food101_model_pretrained_best.pth\n"
     ]
    },
    {
     "name": "stderr",
     "output_type": "stream",
     "text": [
      " 44%|████▍     | 11/25 [28:11<35:53, 153.82s/it]"
     ]
    },
    {
     "name": "stdout",
     "output_type": "stream",
     "text": [
      "Epoch: 11 | train_loss: 2.4955 | train_acc: 0.5249 | test_loss: 2.0060 | test_acc: 0.6590\n",
      "[INFO] Saving model to: models/effnetb2_food101_model_pretrained_best.pth\n"
     ]
    },
    {
     "name": "stderr",
     "output_type": "stream",
     "text": [
      " 48%|████▊     | 12/25 [30:44<33:18, 153.74s/it]"
     ]
    },
    {
     "name": "stdout",
     "output_type": "stream",
     "text": [
      "Epoch: 12 | train_loss: 2.4894 | train_acc: 0.5267 | test_loss: 2.0044 | test_acc: 0.6602\n",
      "[INFO] Saving model to: models/effnetb2_food101_model_pretrained_best.pth\n"
     ]
    },
    {
     "name": "stderr",
     "output_type": "stream",
     "text": [
      " 52%|█████▏    | 13/25 [33:19<30:46, 153.89s/it]"
     ]
    },
    {
     "name": "stdout",
     "output_type": "stream",
     "text": [
      "Epoch: 13 | train_loss: 2.4802 | train_acc: 0.5293 | test_loss: 1.9892 | test_acc: 0.6653\n",
      "[INFO] Saving model to: models/effnetb2_food101_model_pretrained_best.pth\n"
     ]
    },
    {
     "name": "stderr",
     "output_type": "stream",
     "text": [
      " 56%|█████▌    | 14/25 [35:52<28:12, 153.86s/it]"
     ]
    },
    {
     "name": "stdout",
     "output_type": "stream",
     "text": [
      "Epoch: 14 | train_loss: 2.4779 | train_acc: 0.5278 | test_loss: 1.9966 | test_acc: 0.6628\n",
      "[INFO] Saving model to: models/effnetb2_food101_model_pretrained_best.pth\n"
     ]
    },
    {
     "name": "stderr",
     "output_type": "stream",
     "text": [
      " 60%|██████    | 15/25 [38:26<25:38, 153.81s/it]"
     ]
    },
    {
     "name": "stdout",
     "output_type": "stream",
     "text": [
      "Epoch: 15 | train_loss: 2.4748 | train_acc: 0.5299 | test_loss: 1.9818 | test_acc: 0.6665\n",
      "[INFO] Saving model to: models/effnetb2_food101_model_pretrained_best.pth\n"
     ]
    },
    {
     "name": "stderr",
     "output_type": "stream",
     "text": [
      " 64%|██████▍   | 16/25 [41:00<23:04, 153.82s/it]"
     ]
    },
    {
     "name": "stdout",
     "output_type": "stream",
     "text": [
      "Epoch: 16 | train_loss: 2.4688 | train_acc: 0.5308 | test_loss: 1.9816 | test_acc: 0.6669\n",
      "[INFO] Saving model to: models/effnetb2_food101_model_pretrained_best.pth\n"
     ]
    },
    {
     "name": "stderr",
     "output_type": "stream",
     "text": [
      " 68%|██████▊   | 17/25 [43:34<20:30, 153.87s/it]"
     ]
    },
    {
     "name": "stdout",
     "output_type": "stream",
     "text": [
      "Epoch: 17 | train_loss: 2.4688 | train_acc: 0.5311 | test_loss: 1.9749 | test_acc: 0.6693\n",
      "[INFO] Saving model to: models/effnetb2_food101_model_pretrained_best.pth\n"
     ]
    },
    {
     "name": "stderr",
     "output_type": "stream",
     "text": [
      " 72%|███████▏  | 18/25 [46:08<17:57, 153.93s/it]"
     ]
    },
    {
     "name": "stdout",
     "output_type": "stream",
     "text": [
      "Epoch: 18 | train_loss: 2.4648 | train_acc: 0.5320 | test_loss: 1.9878 | test_acc: 0.6669\n",
      "[INFO] Saving model to: models/effnetb2_food101_model_pretrained_best.pth\n"
     ]
    },
    {
     "name": "stderr",
     "output_type": "stream",
     "text": [
      " 76%|███████▌  | 19/25 [48:42<15:24, 154.02s/it]"
     ]
    },
    {
     "name": "stdout",
     "output_type": "stream",
     "text": [
      "Epoch: 19 | train_loss: 2.4630 | train_acc: 0.5342 | test_loss: 1.9925 | test_acc: 0.6657\n",
      "[INFO] Saving model to: models/effnetb2_food101_model_pretrained_best.pth\n"
     ]
    },
    {
     "name": "stderr",
     "output_type": "stream",
     "text": [
      " 80%|████████  | 20/25 [51:16<12:49, 153.98s/it]"
     ]
    },
    {
     "name": "stdout",
     "output_type": "stream",
     "text": [
      "Epoch 00020: reducing learning rate of group 0 to 1.0000e-05.\n",
      "Epoch: 20 | train_loss: 2.4520 | train_acc: 0.5346 | test_loss: 1.9923 | test_acc: 0.6652\n",
      "[INFO] Saving model to: models/effnetb2_food101_model_pretrained_best.pth\n"
     ]
    },
    {
     "name": "stderr",
     "output_type": "stream",
     "text": [
      " 84%|████████▍ | 21/25 [53:50<10:16, 154.04s/it]"
     ]
    },
    {
     "name": "stdout",
     "output_type": "stream",
     "text": [
      "Epoch: 21 | train_loss: 2.4464 | train_acc: 0.5347 | test_loss: 1.9942 | test_acc: 0.6649\n",
      "[INFO] Saving model to: models/effnetb2_food101_model_pretrained_best.pth\n"
     ]
    },
    {
     "name": "stderr",
     "output_type": "stream",
     "text": [
      " 88%|████████▊ | 22/25 [56:24<07:42, 154.03s/it]"
     ]
    },
    {
     "name": "stdout",
     "output_type": "stream",
     "text": [
      "Epoch: 22 | train_loss: 2.4423 | train_acc: 0.5381 | test_loss: 1.9777 | test_acc: 0.6690\n",
      "[INFO] Saving model to: models/effnetb2_food101_model_pretrained_best.pth\n"
     ]
    },
    {
     "name": "stderr",
     "output_type": "stream",
     "text": [
      " 92%|█████████▏| 23/25 [58:58<05:08, 154.04s/it]"
     ]
    },
    {
     "name": "stdout",
     "output_type": "stream",
     "text": [
      "Epoch: 23 | train_loss: 2.4471 | train_acc: 0.5379 | test_loss: 1.9736 | test_acc: 0.6707\n",
      "[INFO] Saving model to: models/effnetb2_food101_model_pretrained_best.pth\n"
     ]
    },
    {
     "name": "stderr",
     "output_type": "stream",
     "text": [
      " 96%|█████████▌| 24/25 [1:01:32<02:34, 154.02s/it]"
     ]
    },
    {
     "name": "stdout",
     "output_type": "stream",
     "text": [
      "Epoch: 24 | train_loss: 2.4416 | train_acc: 0.5385 | test_loss: 1.9741 | test_acc: 0.6706\n",
      "[INFO] Saving model to: models/effnetb2_food101_model_pretrained_best.pth\n"
     ]
    },
    {
     "name": "stderr",
     "output_type": "stream",
     "text": [
      "100%|██████████| 25/25 [1:04:06<00:00, 153.87s/it]"
     ]
    },
    {
     "name": "stdout",
     "output_type": "stream",
     "text": [
      "Epoch: 25 | train_loss: 2.4489 | train_acc: 0.5333 | test_loss: 1.9738 | test_acc: 0.6701\n",
      "[INFO] Saving model to: models/effnetb2_food101_model_pretrained_best.pth\n"
     ]
    },
    {
     "name": "stderr",
     "output_type": "stream",
     "text": [
      "\n"
     ]
    }
   ],
   "source": [
    "from scripts import engine\n",
    "\n",
    "# Setup optimizer\n",
    "optimizer = torch.optim.Adam(params=effnetb2_food101_full.parameters(),\n",
    "                             lr=1e-3)\n",
    "\n",
    "scheduler = torch.optim.lr_scheduler.ReduceLROnPlateau(optimizer, \n",
    "                                                       mode='min', \n",
    "                                                       factor=0.1, \n",
    "                                                       patience=2,\n",
    "                                                       threshold=0.0001,\n",
    "                                                       min_lr=1e-5,\n",
    "                                                       verbose=True)\n",
    "\n",
    "# Setup loss function\n",
    "loss_fn = torch.nn.CrossEntropyLoss(label_smoothing=0.1) # throw in a little label smoothing because so many classes\n",
    "\n",
    "\n",
    "set_seeds()    \n",
    "effnetb2_food101_full_results = engine.train(model=effnetb2_food101_full,\n",
    "                                        train_dataloader=train_dataloader_food101,\n",
    "                                        test_dataloader=test_dataloader_food101,\n",
    "                                        optimizer=optimizer,\n",
    "                                        scheduler=scheduler,\n",
    "                                        loss_fn=loss_fn,\n",
    "                                        epochs=25,\n",
    "                                        device=device,\n",
    "                                        save_best_model=True,\n",
    "                                        target_dir=\"models/\", \n",
    "                                        model_name=\"effnetb2_food101_model_pretrained_best.pth\")\n"
   ]
  },
  {
   "cell_type": "markdown",
   "metadata": {},
   "source": [
    "## 3.5 Inspecting loss curves "
   ]
  },
  {
   "cell_type": "markdown",
   "metadata": {},
   "source": [
    "We visualise the results with the `plot_loss_curves()` function from `helper_functions.py`."
   ]
  },
  {
   "cell_type": "code",
   "execution_count": 39,
   "metadata": {},
   "outputs": [
    {
     "data": {
      "image/png": "[encoded data removed]",
      "text/plain": [
       "<Figure size 1500x700 with 2 Axes>"
      ]
     },
     "metadata": {},
     "output_type": "display_data"
    }
   ],
   "source": [
    "from scripts.helper_functions import plot_loss_curves\n",
    "\n",
    "# Check out the loss curves for FoodVision Big\n",
    "plot_loss_curves(effnetb2_food101_full_results)"
   ]
  },
  {
   "cell_type": "markdown",
   "metadata": {},
   "source": [
    "Longer training, use of more data (the entire Food101 dataset) and scheduler lead to better results in terms of test loss and accuracy. The previous model that was trained on 20% of Food101 dataset has the following results: test_accuracy - 57.96%, test_loss - 2.28. "
   ]
  },
  {
   "cell_type": "markdown",
   "metadata": {},
   "source": [
    "## 3.6 Checking the model size"
   ]
  },
  {
   "cell_type": "code",
   "execution_count": 42,
   "metadata": {},
   "outputs": [
    {
     "name": "stdout",
     "output_type": "stream",
     "text": [
      "Pretrained EffNetB2 feature extractor Food101 model size: 30 MB\n"
     ]
    }
   ],
   "source": [
    "from pathlib import Path\n",
    "\n",
    "# Get the model size in bytes then convert to megabytes\n",
    "pretrained_effnetb2_food101_full_dataset_model_size = Path(\"models/effnetb2_food101_model_pretrained_best.pth\").stat().st_size // (1024*1024) # division converts bytes to megabytes (roughly) \n",
    "print(f\"Pretrained EffNetB2 feature extractor Food101 model size: {pretrained_effnetb2_food101_full_dataset_model_size} MB\")"
   ]
  },
  {
   "cell_type": "markdown",
   "metadata": {},
   "source": [
    "## 3.7 Turning our Foodvision Big model into a deployable app"
   ]
  },
  {
   "cell_type": "markdown",
   "metadata": {},
   "source": [
    "We've got a trained and saved EffNetB2 model on entire Food101 dataset.\n",
    "\n",
    "We are going to deploy our model as a Gradio demo on Hugging Face Spaces.\n",
    "\n",
    "To begin, let's create a `demos/foodvision_big_100_percent/` directory to store our FoodVision Big demo files as well as a `demos/foodvision_big_100_percent/examples` directory to hold an example image to test the demo with.\n",
    "\n",
    "Let's create an outline for our FoodVision Big app:\n",
    "```\n",
    "demos/\n",
    "  foodvision_big_100_percent/\n",
    "    effnetb2_food101_model_pretrained_best.pth\n",
    "    app.py\n",
    "    class_names.txt\n",
    "    examples/\n",
    "      example_1.jpg\n",
    "    model.py\n",
    "    requirements.txt\n",
    "```"
   ]
  },
  {
   "cell_type": "code",
   "execution_count": 43,
   "metadata": {},
   "outputs": [],
   "source": [
    "from pathlib import Path\n",
    "\n",
    "# Create FoodVision Big demo path \n",
    "foodvision_big_100_percent_demo_path = Path('demos/foodvision_big_100_percent')\n",
    "\n",
    "# Make FoodVision Big demo directory\n",
    "foodvision_big_100_percent_demo_path.mkdir(parents = True, \n",
    "                               exist_ok = True)\n",
    "\n",
    "# Make FoodVision Big demo examples directory\n",
    "(foodvision_big_100_percent_demo_path/\"examples\").mkdir(parents = True, exist_ok = True)"
   ]
  },
  {
   "cell_type": "markdown",
   "metadata": {},
   "source": [
    " ### 3.7.1 Adding images to the example folder to use with our FoodVision Big demo¶"
   ]
  },
  {
   "cell_type": "markdown",
   "metadata": {},
   "source": [
    "Now we've got a directory to store our FoodVision Big demo files, let's add some examples to it from test dataset."
   ]
  },
  {
   "cell_type": "code",
   "execution_count": 94,
   "metadata": {},
   "outputs": [
    {
     "name": "stdout",
     "output_type": "stream",
     "text": [
      "[INFO] Copying data/food-101/images/cheesecake/1271183.jpg to demos/foodvision_big_100_percent/examples/1271183.jpg\n",
      "[INFO] Copying data/food-101/images/grilled_salmon/1101252.jpg to demos/foodvision_big_100_percent/examples/1101252.jpg\n",
      "[INFO] Copying data/food-101/images/greek_salad/1203701.jpg to demos/foodvision_big_100_percent/examples/1203701.jpg\n",
      "[INFO] Copying data/food-101/images/paella/11419.jpg to demos/foodvision_big_100_percent/examples/11419.jpg\n",
      "[INFO] Copying data/food-101/images/tacos/1026681.jpg to demos/foodvision_big_100_percent/examples/1026681.jpg\n"
     ]
    }
   ],
   "source": [
    "import shutil\n",
    "from pathlib import Path\n",
    "\n",
    "# 1. Collect 5 random test dataset image paths\n",
    "foodvision_mini_examples = [Path('data/food-101/images/cheesecake/1271183.jpg'),\n",
    "                            Path('data/food-101/images/grilled_salmon/1101252.jpg'),\n",
    "                            Path('data/food-101/images/greek_salad/1203701.jpg'),\n",
    "                            Path('data/food-101/images/paella/11419.jpg'),\n",
    "                            Path('data/food-101/images/tacos/1026681.jpg')\n",
    "                           ]\n",
    "\n",
    "# 2. Copy these images to the examples directory\n",
    "for example in foodvision_mini_examples:\n",
    "    destination = foodvision_big_100_percent_demo_path/\"examples\"/ example.name\n",
    "    print(f\"[INFO] Copying {example} to {destination}\")\n",
    "    shutil.copy2(src=example, dst=destination)"
   ]
  },
  {
   "cell_type": "markdown",
   "metadata": {},
   "source": [
    "Now to verify our examples are present, let's list the contents of our `demos/foodvision_big_100_present/examples/` directory with `os.listdir()` and then format the filepaths into a list of lists (so it's compatible with Gradio's `gradio.Interface()` example parameter)."
   ]
  },
  {
   "cell_type": "code",
   "execution_count": 95,
   "metadata": {},
   "outputs": [
    {
     "data": {
      "text/plain": [
       "[['examples/11419.jpg'],\n",
       " ['examples/1026681.jpg'],\n",
       " ['examples/1271183.jpg'],\n",
       " ['examples/1101252.jpg'],\n",
       " ['examples/1203701.jpg']]"
      ]
     },
     "execution_count": 95,
     "metadata": {},
     "output_type": "execute_result"
    }
   ],
   "source": [
    "import os\n",
    "\n",
    "# Get example filepaths in a list of lists\n",
    "example_list = [[\"examples/\" + example] for example in os.listdir(foodvision_big_100_percent_demo_path/\"examples\")]\n",
    "example_list"
   ]
  },
  {
   "cell_type": "markdown",
   "metadata": {},
   "source": [
    "### 3.7.2 Saving Food101 class names to file (class_names.txt)"
   ]
  },
  {
   "cell_type": "markdown",
   "metadata": {},
   "source": [
    "Because there are so many classes in the Food101 dataset, instead of storing them as a list in our app.py file, we save them to a .txt file and read them in when necessary instead."
   ]
  },
  {
   "cell_type": "code",
   "execution_count": 97,
   "metadata": {},
   "outputs": [
    {
     "data": {
      "text/plain": [
       "['apple_pie',\n",
       " 'baby_back_ribs',\n",
       " 'baklava',\n",
       " 'beef_carpaccio',\n",
       " 'beef_tartare',\n",
       " 'beet_salad',\n",
       " 'beignets',\n",
       " 'bibimbap',\n",
       " 'bread_pudding',\n",
       " 'breakfast_burrito']"
      ]
     },
     "execution_count": 97,
     "metadata": {},
     "output_type": "execute_result"
    }
   ],
   "source": [
    "# Check out the first 10 Food101 class names\n",
    "food101_class_names[:10]"
   ]
  },
  {
   "cell_type": "code",
   "execution_count": 98,
   "metadata": {},
   "outputs": [
    {
     "name": "stdout",
     "output_type": "stream",
     "text": [
      "[INFO] Saving Food101 class names to demos/foodvision_big_100_percent/class_names.txt\n"
     ]
    }
   ],
   "source": [
    "# Create path to Food101 class names\n",
    "foodvision_big_class_names_path = foodvision_big_100_percent_demo_path / \"class_names.txt\"\n",
    "\n",
    "# Write Food101 class names list to file\n",
    "with open(foodvision_big_class_names_path, \"w\") as f:\n",
    "    print(f\"[INFO] Saving Food101 class names to {foodvision_big_class_names_path}\")\n",
    "    f.write(\"\\n\".join(food101_class_names)) # leave a new line between each class"
   ]
  },
  {
   "cell_type": "code",
   "execution_count": 99,
   "metadata": {},
   "outputs": [
    {
     "data": {
      "text/plain": [
       "['apple_pie', 'baby_back_ribs', 'baklava', 'beef_carpaccio', 'beef_tartare']"
      ]
     },
     "execution_count": 99,
     "metadata": {},
     "output_type": "execute_result"
    }
   ],
   "source": [
    "# Open Food101 class names file and read each line into a list\n",
    "with open(foodvision_big_class_names_path, \"r\") as f:\n",
    "    food101_class_names_loaded = [food.strip() for food in  f.readlines()]\n",
    "    \n",
    "# View the first 5 class names loaded back in\n",
    "food101_class_names_loaded[:5]"
   ]
  },
  {
   "cell_type": "markdown",
   "metadata": {},
   "source": [
    "### 3.7.3 Moving our trained EffNetB2 model to our FoodVision Big demo directory"
   ]
  },
  {
   "cell_type": "markdown",
   "metadata": {},
   "source": [
    "We previously saved our FoodVision Mini EffNetB2 feature extractor model under `models/effnetb2_food101_model_pretrained_best.pth`. Let's move our model to `demos/foodvision_mini directory`."
   ]
  },
  {
   "cell_type": "code",
   "execution_count": 103,
   "metadata": {},
   "outputs": [
    {
     "name": "stdout",
     "output_type": "stream",
     "text": [
      "[INFO] Attempting to move models/effnetb2_food101_model_pretrained_best.pth to demos/foodvision_big_100_percent/effnetb2_food101_model_pretrained_best.pth\n",
      "[INFO] Model move complete.\n"
     ]
    }
   ],
   "source": [
    "import shutil\n",
    "\n",
    "# Create a source path for our target model\n",
    "effnetb2_foodvision_big_model_path = \"models/effnetb2_food101_model_pretrained_best.pth\"\n",
    "\n",
    "# Create a destination path for our target model \n",
    "effnetb2_foodvision_big_model_destination = foodvision_big_100_percent_demo_path / effnetb2_foodvision_big_model_path.split(\"/\")[1]\n",
    "\n",
    "\n",
    "# Try to move the file\n",
    "try:\n",
    "    print(f\"[INFO] Attempting to move {effnetb2_foodvision_big_model_path} to {effnetb2_foodvision_big_model_destination}\")\n",
    "    \n",
    "    # Move the model\n",
    "    shutil.move(src=effnetb2_foodvision_big_model_path, \n",
    "                dst=effnetb2_foodvision_big_model_destination)\n",
    "    \n",
    "    print(f\"[INFO] Model move complete.\")\n",
    "\n",
    "# If the model has already been moved, check if it exists\n",
    "except:\n",
    "    print(f\"[INFO] No model found at {effnetb2_foodvision_big_model_path}, perhaps its already been moved?\")\n",
    "    print(f\"[INFO] Model exists at {effnetb2_foodvision_big_model_destination}: {effnetb2_foodvision_big_model_destination.exists()}\")"
   ]
  },
  {
   "cell_type": "markdown",
   "metadata": {},
   "source": [
    "### 3.7.4 Turning our EffNetB2 model into a Python script (model.py)"
   ]
  },
  {
   "cell_type": "markdown",
   "metadata": {},
   "source": [
    "Our current model's state_dict is saved to `demos/foodvision_big_100_percent/effnetb2_food101_model_pretrained_best.pth`.\n",
    "\n",
    "To load it in we can use `model.load_state_dict()` along with `torch.load()`.\n",
    "\n",
    "But before we can do this, we first need a way to instantiate a model.\n",
    "\n",
    "To do this in a modular fashion we'll create a script called `model.py` which contains our `create_effnetb2_model()` function we created in section 3.1.\n",
    "\n",
    "That way we can import the function in another script (app.py) and then use it to create our EffNetB2 model instance as well as get its appropriate transforms."
   ]
  },
  {
   "cell_type": "code",
   "execution_count": 105,
   "metadata": {},
   "outputs": [
    {
     "name": "stdout",
     "output_type": "stream",
     "text": [
      "Writing demos/foodvision_big_100_percent/model.py\n"
     ]
    }
   ],
   "source": [
    "%%writefile demos/foodvision_big_100_percent/model.py\n",
    "import torch\n",
    "import torchvision\n",
    "\n",
    "from torch import nn\n",
    "\n",
    "\n",
    "def create_effnetb2_model(num_classes:int=3, \n",
    "                          seed:int=42):\n",
    "    \"\"\"Creates an EfficientNetB2 feature extractor model and transforms.\n",
    "\n",
    "    Args:\n",
    "        num_classes (int, optional): number of classes in the classifier head. \n",
    "            Defaults to 3.\n",
    "        seed (int, optional): random seed value. Defaults to 42.\n",
    "\n",
    "    Returns:\n",
    "        model (torch.nn.Module): EffNetB2 feature extractor model. \n",
    "        transforms (torchvision.transforms): EffNetB2 image transforms.\n",
    "    \"\"\"\n",
    "    # Create EffNetB2 pretrained weights, transforms and model\n",
    "    weights = torchvision.models.EfficientNet_B2_Weights.DEFAULT\n",
    "    transforms = weights.transforms()\n",
    "    model = torchvision.models.efficientnet_b2(weights=weights)\n",
    "\n",
    "    # Freeze all layers in base model\n",
    "    for param in model.parameters():\n",
    "        param.requires_grad = False\n",
    "\n",
    "    # Change classifier head with random seed for reproducibility\n",
    "    torch.manual_seed(seed)\n",
    "    model.classifier = nn.Sequential(\n",
    "        nn.Dropout(p=0.3, inplace=True),\n",
    "        nn.Linear(in_features=1408, out_features=num_classes),\n",
    "    )\n",
    "    \n",
    "    return model, transforms"
   ]
  },
  {
   "cell_type": "markdown",
   "metadata": {},
   "source": [
    "### 3.7.5 Turning FoodVision Big Gradio app into a Python script (`app`)"
   ]
  },
  {
   "cell_type": "markdown",
   "metadata": {},
   "source": [
    "The app.py file will have four major parts:\n",
    "\n",
    "1. Imports and class names setup - for class names, we'll need to import from class_names.txt rather than with a Python list\n",
    "2. Model and transforms preparation - The model will have num_classes=101 rather than num_classes=3. We'll also be sure to load the weights from \"pretrained_effnetb2_feature_extractor_food101_20_percent.pth\".\n",
    "3. Predict function (predict()) - this can stay the same as the original predict()\n",
    "4. Gradio app - our Gradio interface + launch command - The Gradio interace will have different title, description and article parameters to reflect the details of FoodVision Big."
   ]
  },
  {
   "cell_type": "code",
   "execution_count": 107,
   "metadata": {},
   "outputs": [
    {
     "name": "stdout",
     "output_type": "stream",
     "text": [
      "Writing demos/foodvision_big_100_percent/app.py\n"
     ]
    }
   ],
   "source": [
    "%%writefile demos/foodvision_big_100_percent/app.py\n",
    "### 1. Imports and class names setup ### \n",
    "import gradio as gr\n",
    "import os\n",
    "import torch\n",
    "\n",
    "from model import create_effnetb2_model\n",
    "from timeit import default_timer as timer\n",
    "from typing import Tuple, Dict\n",
    "\n",
    "# Setup class names\n",
    "with open(\"class_names.txt\", \"r\") as f: # reading them in from class_names.txt\n",
    "    class_names = [food_name.strip() for food_name in  f.readlines()]\n",
    "    \n",
    "### 2. Model and transforms preparation ###    \n",
    "\n",
    "# Create model\n",
    "effnetb2, effnetb2_transforms = create_effnetb2_model(\n",
    "    num_classes=101, # could also use len(class_names)\n",
    ")\n",
    "\n",
    "# Load saved weights\n",
    "effnetb2.load_state_dict(\n",
    "    torch.load(\n",
    "        f=\"effnetb2_food101_model_pretrained_best.pth\",\n",
    "        map_location=torch.device(\"cpu\"),  # load to CPU\n",
    "    )\n",
    ")\n",
    "\n",
    "### 3. Predict function ###\n",
    "\n",
    "# Create predict function\n",
    "def predict(img) -> Tuple[Dict, float]:\n",
    "    \"\"\"Transforms and performs a prediction on img and returns prediction and time taken.\n",
    "    \"\"\"\n",
    "    # Start the timer\n",
    "    start_time = timer()\n",
    "    \n",
    "    # Transform the target image and add a batch dimension\n",
    "    img = effnetb2_transforms(img).unsqueeze(0)\n",
    "    \n",
    "    # Put model into evaluation mode and turn on inference mode\n",
    "    effnetb2.eval()\n",
    "    with torch.inference_mode():\n",
    "        # Pass the transformed image through the model and turn the prediction logits into prediction probabilities\n",
    "        pred_probs = torch.softmax(effnetb2(img), dim=1)\n",
    "    \n",
    "    # Create a prediction label and prediction probability dictionary for each prediction class (this is the required format for Gradio's output parameter)\n",
    "    pred_labels_and_probs = {class_names[i]: float(pred_probs[0][i]) for i in range(len(class_names))}\n",
    "    \n",
    "    # Calculate the prediction time\n",
    "    pred_time = round(timer() - start_time, 5)\n",
    "    \n",
    "    # Return the prediction dictionary and prediction time \n",
    "    return pred_labels_and_probs, pred_time\n",
    "\n",
    "### 4. Gradio app ###\n",
    "\n",
    "# Create title, description and article strings\n",
    "title = \"FoodVision Big  🍔👁\"\n",
    "description = \"An EfficientNetB2 feature extractor computer vision model to classify images of food into [101 different classes](https://github.com/mrdbourke/pytorch-deep-learning/blob/main/extras/food101_class_names.txt).\"\n",
    "article = \"Created at [PyTorch Model Deployment](https://www.learnpytorch.io/09_pytorch_model_deployment/).\"\n",
    "\n",
    "# Create examples list from \"examples/\" directory\n",
    "example_list = [[\"examples/\" + example] for example in os.listdir(\"examples\")]\n",
    "\n",
    "# Create Gradio interface \n",
    "demo = gr.Interface(\n",
    "    fn=predict,\n",
    "    inputs=gr.Image(type=\"pil\"),\n",
    "    outputs=[\n",
    "        gr.Label(num_top_classes=5, label=\"Predictions\"),\n",
    "        gr.Number(label=\"Prediction time (s)\"),\n",
    "    ],\n",
    "    examples=example_list,\n",
    "    title=title,\n",
    "    description=description,\n",
    "    article=article,\n",
    ")\n",
    "\n",
    "# Launch the app!\n",
    "demo.launch()"
   ]
  },
  {
   "cell_type": "markdown",
   "metadata": {},
   "source": [
    "### 3.7.6 Creating a requirements file for FoodVision Big (requirements.txt)"
   ]
  },
  {
   "cell_type": "markdown",
   "metadata": {},
   "source": [
    "Now all we need is a requirements.txt file to tell our Hugging Face Space what dependencies our FoodVision Big app requires."
   ]
  },
  {
   "cell_type": "code",
   "execution_count": 108,
   "metadata": {},
   "outputs": [
    {
     "name": "stdout",
     "output_type": "stream",
     "text": [
      "Writing demos/foodvision_big_100_percent/requirements.txt\n"
     ]
    }
   ],
   "source": [
    "%%writefile demos/foodvision_big_100_percent/requirements.txt\n",
    "torch==1.12.0\n",
    "torchvision==0.13.0\n",
    "gradio==3.1.4"
   ]
  },
  {
   "cell_type": "markdown",
   "metadata": {},
   "source": [
    "### 3.7.7 Downloading our FoodVision Big app files"
   ]
  },
  {
   "cell_type": "markdown",
   "metadata": {},
   "source": [
    "We've got all the files we need to deploy our FoodVision Big app on Hugging Face, let's now zip them together and download them."
   ]
  },
  {
   "cell_type": "code",
   "execution_count": 110,
   "metadata": {},
   "outputs": [
    {
     "name": "stdout",
     "output_type": "stream",
     "text": [
      "  adding: app.py (deflated 55%)\n",
      "  adding: class_names.txt (deflated 48%)\n",
      "  adding: effnetb2_food101_model_pretrained_best.pth (deflated 8%)\n",
      "  adding: examples/ (stored 0%)\n",
      "  adding: examples/11419.jpg (deflated 23%)\n",
      "  adding: examples/1026681.jpg (deflated 0%)\n",
      "  adding: examples/1271183.jpg (deflated 1%)\n",
      "  adding: examples/1101252.jpg (deflated 0%)\n",
      "  adding: examples/1203701.jpg (deflated 0%)\n",
      "  adding: model.py (deflated 56%)\n",
      "  adding: requirements.txt (deflated 4%)\n"
     ]
    }
   ],
   "source": [
    "# Zip foodvision_big folder but exclude certain files\n",
    "!cd demos/foodvision_big_100_percent && zip -r ../foodvision_big_100_percent.zip * -x \"*.pyc\" \"*.ipynb\" \"*__pycache__*\" \"*ipynb_checkpoints*\""
   ]
  },
  {
   "cell_type": "code",
   "execution_count": 111,
   "metadata": {},
   "outputs": [
    {
     "data": {
      "text/html": [
       "\n",
       "        <iframe\n",
       "            width=\"900\"\n",
       "            height=\"750\"\n",
       "            src=\"https://hf.space/embed/vic-art/foodvision_big/+\"\n",
       "            frameborder=\"0\"\n",
       "            allowfullscreen\n",
       "            \n",
       "        ></iframe>\n",
       "        "
      ],
      "text/plain": [
       "<IPython.lib.display.IFrame at 0x7f7860f77c40>"
      ]
     },
     "execution_count": 111,
     "metadata": {},
     "output_type": "execute_result"
    }
   ],
   "source": [
    "# IPython is a library to help work with Python iteractively \n",
    "from IPython.display import IFrame\n",
    "\n",
    "# Embed FoodVision Big Gradio demo as an iFrame\n",
    "IFrame(src=\"https://hf.space/embed/vic-art/foodvision_big/+\", width=900, height=750)"
   ]
  }
 ],
 "metadata": {
  "accelerator": "GPU",
  "colab": {
   "collapsed_sections": [
    "YVPZg5DZQLKT",
    "rHSmpSs5cjwy",
    "pvje5a-2vowb",
    "jRuzqrl2TdXC",
    "4N2cfqMubcgA",
    "FJkFI9AY_aQ-"
   ],
   "provenance": []
  },
  "gpuClass": "standard",
  "kernelspec": {
   "display_name": "Python 3 (ipykernel)",
   "language": "python",
   "name": "python3"
  },
  "language_info": {
   "codemirror_mode": {
    "name": "ipython",
    "version": 3
   },
   "file_extension": ".py",
   "mimetype": "text/x-python",
   "name": "python",
   "nbconvert_exporter": "python",
   "pygments_lexer": "ipython3",
   "version": "3.9.2"
  },
  "widgets": {
   "application/vnd.jupyter.widget-state+json": {
    "009e0e9c67f64f29ad75f11ed05b8b6e": {
     "model_module": "@jupyter-widgets/controls",
     "model_module_version": "1.5.0",
     "model_name": "DescriptionStyleModel",
     "state": {
      "_model_module": "@jupyter-widgets/controls",
      "_model_module_version": "1.5.0",
      "_model_name": "DescriptionStyleModel",
      "_view_count": null,
      "_view_module": "@jupyter-widgets/base",
      "_view_module_version": "1.2.0",
      "_view_name": "StyleView",
      "description_width": ""
     }
    },
    "027551f97fed4f1f810d0ff09f1136bb": {
     "model_module": "@jupyter-widgets/controls",
     "model_module_version": "1.5.0",
     "model_name": "FloatProgressModel",
     "state": {
      "_dom_classes": [],
      "_model_module": "@jupyter-widgets/controls",
      "_model_module_version": "1.5.0",
      "_model_name": "FloatProgressModel",
      "_view_count": null,
      "_view_module": "@jupyter-widgets/controls",
      "_view_module_version": "1.5.0",
      "_view_name": "ProgressView",
      "bar_style": "danger",
      "description": "",
      "description_tooltip": null,
      "layout": "IPY_MODEL_ad0fb6eb0bf9478c8f7d79ef489d67df",
      "max": 150,
      "min": 0,
      "orientation": "horizontal",
      "style": "IPY_MODEL_6ebb3aa15e4d4500addc182ca353d14a",
      "value": 113
     }
    },
    "02e15caaf1504d2f8f62fc7c9ecd08c3": {
     "model_module": "@jupyter-widgets/controls",
     "model_module_version": "1.5.0",
     "model_name": "HTMLModel",
     "state": {
      "_dom_classes": [],
      "_model_module": "@jupyter-widgets/controls",
      "_model_module_version": "1.5.0",
      "_model_name": "HTMLModel",
      "_view_count": null,
      "_view_module": "@jupyter-widgets/controls",
      "_view_module_version": "1.5.0",
      "_view_name": "HTMLView",
      "description": "",
      "description_tooltip": null,
      "layout": "IPY_MODEL_36cf4e031f954a6282f43c7bb7e4961b",
      "placeholder": "​",
      "style": "IPY_MODEL_e82f418b645b4033a7b44e85d7cb6125",
      "value": "100%"
     }
    },
    "0343a3f55dfc41db83e2681cdbf5b552": {
     "model_module": "@jupyter-widgets/base",
     "model_module_version": "1.2.0",
     "model_name": "LayoutModel",
     "state": {
      "_model_module": "@jupyter-widgets/base",
      "_model_module_version": "1.2.0",
      "_model_name": "LayoutModel",
      "_view_count": null,
      "_view_module": "@jupyter-widgets/base",
      "_view_module_version": "1.2.0",
      "_view_name": "LayoutView",
      "align_content": null,
      "align_items": null,
      "align_self": null,
      "border": null,
      "bottom": null,
      "display": null,
      "flex": null,
      "flex_flow": null,
      "grid_area": null,
      "grid_auto_columns": null,
      "grid_auto_flow": null,
      "grid_auto_rows": null,
      "grid_column": null,
      "grid_gap": null,
      "grid_row": null,
      "grid_template_areas": null,
      "grid_template_columns": null,
      "grid_template_rows": null,
      "height": null,
      "justify_content": null,
      "justify_items": null,
      "left": null,
      "margin": null,
      "max_height": null,
      "max_width": null,
      "min_height": null,
      "min_width": null,
      "object_fit": null,
      "object_position": null,
      "order": null,
      "overflow": null,
      "overflow_x": null,
      "overflow_y": null,
      "padding": null,
      "right": null,
      "top": null,
      "visibility": null,
      "width": null
     }
    },
    "04f77ea6e2974ac38c8b7d28f8a31c45": {
     "model_module": "@jupyter-widgets/controls",
     "model_module_version": "1.5.0",
     "model_name": "ProgressStyleModel",
     "state": {
      "_model_module": "@jupyter-widgets/controls",
      "_model_module_version": "1.5.0",
      "_model_name": "ProgressStyleModel",
      "_view_count": null,
      "_view_module": "@jupyter-widgets/base",
      "_view_module_version": "1.2.0",
      "_view_name": "StyleView",
      "bar_color": null,
      "description_width": ""
     }
    },
    "059bc47acb0a4c78be9189afdd623ce9": {
     "model_module": "@jupyter-widgets/controls",
     "model_module_version": "1.5.0",
     "model_name": "DescriptionStyleModel",
     "state": {
      "_model_module": "@jupyter-widgets/controls",
      "_model_module_version": "1.5.0",
      "_model_name": "DescriptionStyleModel",
      "_view_count": null,
      "_view_module": "@jupyter-widgets/base",
      "_view_module_version": "1.2.0",
      "_view_name": "StyleView",
      "description_width": ""
     }
    },
    "0b18c55c9b3742f5b22dff65a7830f81": {
     "model_module": "@jupyter-widgets/controls",
     "model_module_version": "1.5.0",
     "model_name": "HTMLModel",
     "state": {
      "_dom_classes": [],
      "_model_module": "@jupyter-widgets/controls",
      "_model_module_version": "1.5.0",
      "_model_name": "HTMLModel",
      "_view_count": null,
      "_view_module": "@jupyter-widgets/controls",
      "_view_module_version": "1.5.0",
      "_view_name": "HTMLView",
      "description": "",
      "description_tooltip": null,
      "layout": "IPY_MODEL_90b6712e032a43d2903e039ea52cf086",
      "placeholder": "​",
      "style": "IPY_MODEL_4ef24f9b84cb45048a1c82cc2066b823",
      "value": "100%"
     }
    },
    "0e35007704274c5db163256bf0252103": {
     "model_module": "@jupyter-widgets/base",
     "model_module_version": "1.2.0",
     "model_name": "LayoutModel",
     "state": {
      "_model_module": "@jupyter-widgets/base",
      "_model_module_version": "1.2.0",
      "_model_name": "LayoutModel",
      "_view_count": null,
      "_view_module": "@jupyter-widgets/base",
      "_view_module_version": "1.2.0",
      "_view_name": "LayoutView",
      "align_content": null,
      "align_items": null,
      "align_self": null,
      "border": null,
      "bottom": null,
      "display": null,
      "flex": null,
      "flex_flow": null,
      "grid_area": null,
      "grid_auto_columns": null,
      "grid_auto_flow": null,
      "grid_auto_rows": null,
      "grid_column": null,
      "grid_gap": null,
      "grid_row": null,
      "grid_template_areas": null,
      "grid_template_columns": null,
      "grid_template_rows": null,
      "height": null,
      "justify_content": null,
      "justify_items": null,
      "left": null,
      "margin": null,
      "max_height": null,
      "max_width": null,
      "min_height": null,
      "min_width": null,
      "object_fit": null,
      "object_position": null,
      "order": null,
      "overflow": null,
      "overflow_x": null,
      "overflow_y": null,
      "padding": null,
      "right": null,
      "top": null,
      "visibility": null,
      "width": null
     }
    },
    "0e68d0574669471bab426633ffb13fce": {
     "model_module": "@jupyter-widgets/controls",
     "model_module_version": "1.5.0",
     "model_name": "ProgressStyleModel",
     "state": {
      "_model_module": "@jupyter-widgets/controls",
      "_model_module_version": "1.5.0",
      "_model_name": "ProgressStyleModel",
      "_view_count": null,
      "_view_module": "@jupyter-widgets/base",
      "_view_module_version": "1.2.0",
      "_view_name": "StyleView",
      "bar_color": null,
      "description_width": ""
     }
    },
    "0fe89c75c9da4b87b3489b5d7b5bb20a": {
     "model_module": "@jupyter-widgets/controls",
     "model_module_version": "1.5.0",
     "model_name": "HTMLModel",
     "state": {
      "_dom_classes": [],
      "_model_module": "@jupyter-widgets/controls",
      "_model_module_version": "1.5.0",
      "_model_name": "HTMLModel",
      "_view_count": null,
      "_view_module": "@jupyter-widgets/controls",
      "_view_module_version": "1.5.0",
      "_view_name": "HTMLView",
      "description": "",
      "description_tooltip": null,
      "layout": "IPY_MODEL_fcd56549345d45afbebd34eb25362001",
      "placeholder": "​",
      "style": "IPY_MODEL_fcb1682244624e9a9964835138eb73c2",
      "value": "  0%"
     }
    },
    "115e48307afe4200a632ce4f1f3c41f1": {
     "model_module": "@jupyter-widgets/base",
     "model_module_version": "1.2.0",
     "model_name": "LayoutModel",
     "state": {
      "_model_module": "@jupyter-widgets/base",
      "_model_module_version": "1.2.0",
      "_model_name": "LayoutModel",
      "_view_count": null,
      "_view_module": "@jupyter-widgets/base",
      "_view_module_version": "1.2.0",
      "_view_name": "LayoutView",
      "align_content": null,
      "align_items": null,
      "align_self": null,
      "border": null,
      "bottom": null,
      "display": null,
      "flex": null,
      "flex_flow": null,
      "grid_area": null,
      "grid_auto_columns": null,
      "grid_auto_flow": null,
      "grid_auto_rows": null,
      "grid_column": null,
      "grid_gap": null,
      "grid_row": null,
      "grid_template_areas": null,
      "grid_template_columns": null,
      "grid_template_rows": null,
      "height": null,
      "justify_content": null,
      "justify_items": null,
      "left": null,
      "margin": null,
      "max_height": null,
      "max_width": null,
      "min_height": null,
      "min_width": null,
      "object_fit": null,
      "object_position": null,
      "order": null,
      "overflow": null,
      "overflow_x": null,
      "overflow_y": null,
      "padding": null,
      "right": null,
      "top": null,
      "visibility": null,
      "width": null
     }
    },
    "1e222814a26c4bf396a71d80d96b3dd3": {
     "model_module": "@jupyter-widgets/controls",
     "model_module_version": "1.5.0",
     "model_name": "DescriptionStyleModel",
     "state": {
      "_model_module": "@jupyter-widgets/controls",
      "_model_module_version": "1.5.0",
      "_model_name": "DescriptionStyleModel",
      "_view_count": null,
      "_view_module": "@jupyter-widgets/base",
      "_view_module_version": "1.2.0",
      "_view_name": "StyleView",
      "description_width": ""
     }
    },
    "22b216d760b14746b390391bc8938825": {
     "model_module": "@jupyter-widgets/base",
     "model_module_version": "1.2.0",
     "model_name": "LayoutModel",
     "state": {
      "_model_module": "@jupyter-widgets/base",
      "_model_module_version": "1.2.0",
      "_model_name": "LayoutModel",
      "_view_count": null,
      "_view_module": "@jupyter-widgets/base",
      "_view_module_version": "1.2.0",
      "_view_name": "LayoutView",
      "align_content": null,
      "align_items": null,
      "align_self": null,
      "border": null,
      "bottom": null,
      "display": null,
      "flex": null,
      "flex_flow": null,
      "grid_area": null,
      "grid_auto_columns": null,
      "grid_auto_flow": null,
      "grid_auto_rows": null,
      "grid_column": null,
      "grid_gap": null,
      "grid_row": null,
      "grid_template_areas": null,
      "grid_template_columns": null,
      "grid_template_rows": null,
      "height": null,
      "justify_content": null,
      "justify_items": null,
      "left": null,
      "margin": null,
      "max_height": null,
      "max_width": null,
      "min_height": null,
      "min_width": null,
      "object_fit": null,
      "object_position": null,
      "order": null,
      "overflow": null,
      "overflow_x": null,
      "overflow_y": null,
      "padding": null,
      "right": null,
      "top": null,
      "visibility": null,
      "width": null
     }
    },
    "2ee9bebc249d42acb44bceaa6c6b2772": {
     "model_module": "@jupyter-widgets/base",
     "model_module_version": "1.2.0",
     "model_name": "LayoutModel",
     "state": {
      "_model_module": "@jupyter-widgets/base",
      "_model_module_version": "1.2.0",
      "_model_name": "LayoutModel",
      "_view_count": null,
      "_view_module": "@jupyter-widgets/base",
      "_view_module_version": "1.2.0",
      "_view_name": "LayoutView",
      "align_content": null,
      "align_items": null,
      "align_self": null,
      "border": null,
      "bottom": null,
      "display": null,
      "flex": null,
      "flex_flow": null,
      "grid_area": null,
      "grid_auto_columns": null,
      "grid_auto_flow": null,
      "grid_auto_rows": null,
      "grid_column": null,
      "grid_gap": null,
      "grid_row": null,
      "grid_template_areas": null,
      "grid_template_columns": null,
      "grid_template_rows": null,
      "height": null,
      "justify_content": null,
      "justify_items": null,
      "left": null,
      "margin": null,
      "max_height": null,
      "max_width": null,
      "min_height": null,
      "min_width": null,
      "object_fit": null,
      "object_position": null,
      "order": null,
      "overflow": null,
      "overflow_x": null,
      "overflow_y": null,
      "padding": null,
      "right": null,
      "top": null,
      "visibility": null,
      "width": null
     }
    },
    "2f418dd1fe2f4dffb911a44ec44ea2ed": {
     "model_module": "@jupyter-widgets/controls",
     "model_module_version": "1.5.0",
     "model_name": "DescriptionStyleModel",
     "state": {
      "_model_module": "@jupyter-widgets/controls",
      "_model_module_version": "1.5.0",
      "_model_name": "DescriptionStyleModel",
      "_view_count": null,
      "_view_module": "@jupyter-widgets/base",
      "_view_module_version": "1.2.0",
      "_view_name": "StyleView",
      "description_width": ""
     }
    },
    "310b4d1d4b5741b192d17fdf03634df1": {
     "model_module": "@jupyter-widgets/base",
     "model_module_version": "1.2.0",
     "model_name": "LayoutModel",
     "state": {
      "_model_module": "@jupyter-widgets/base",
      "_model_module_version": "1.2.0",
      "_model_name": "LayoutModel",
      "_view_count": null,
      "_view_module": "@jupyter-widgets/base",
      "_view_module_version": "1.2.0",
      "_view_name": "LayoutView",
      "align_content": null,
      "align_items": null,
      "align_self": null,
      "border": null,
      "bottom": null,
      "display": null,
      "flex": null,
      "flex_flow": null,
      "grid_area": null,
      "grid_auto_columns": null,
      "grid_auto_flow": null,
      "grid_auto_rows": null,
      "grid_column": null,
      "grid_gap": null,
      "grid_row": null,
      "grid_template_areas": null,
      "grid_template_columns": null,
      "grid_template_rows": null,
      "height": null,
      "justify_content": null,
      "justify_items": null,
      "left": null,
      "margin": null,
      "max_height": null,
      "max_width": null,
      "min_height": null,
      "min_width": null,
      "object_fit": null,
      "object_position": null,
      "order": null,
      "overflow": null,
      "overflow_x": null,
      "overflow_y": null,
      "padding": null,
      "right": null,
      "top": null,
      "visibility": null,
      "width": null
     }
    },
    "320cc88f80084a1683bbe9b9fb6a0015": {
     "model_module": "@jupyter-widgets/base",
     "model_module_version": "1.2.0",
     "model_name": "LayoutModel",
     "state": {
      "_model_module": "@jupyter-widgets/base",
      "_model_module_version": "1.2.0",
      "_model_name": "LayoutModel",
      "_view_count": null,
      "_view_module": "@jupyter-widgets/base",
      "_view_module_version": "1.2.0",
      "_view_name": "LayoutView",
      "align_content": null,
      "align_items": null,
      "align_self": null,
      "border": null,
      "bottom": null,
      "display": null,
      "flex": null,
      "flex_flow": null,
      "grid_area": null,
      "grid_auto_columns": null,
      "grid_auto_flow": null,
      "grid_auto_rows": null,
      "grid_column": null,
      "grid_gap": null,
      "grid_row": null,
      "grid_template_areas": null,
      "grid_template_columns": null,
      "grid_template_rows": null,
      "height": null,
      "justify_content": null,
      "justify_items": null,
      "left": null,
      "margin": null,
      "max_height": null,
      "max_width": null,
      "min_height": null,
      "min_width": null,
      "object_fit": null,
      "object_position": null,
      "order": null,
      "overflow": null,
      "overflow_x": null,
      "overflow_y": null,
      "padding": null,
      "right": null,
      "top": null,
      "visibility": null,
      "width": null
     }
    },
    "36cf4e031f954a6282f43c7bb7e4961b": {
     "model_module": "@jupyter-widgets/base",
     "model_module_version": "1.2.0",
     "model_name": "LayoutModel",
     "state": {
      "_model_module": "@jupyter-widgets/base",
      "_model_module_version": "1.2.0",
      "_model_name": "LayoutModel",
      "_view_count": null,
      "_view_module": "@jupyter-widgets/base",
      "_view_module_version": "1.2.0",
      "_view_name": "LayoutView",
      "align_content": null,
      "align_items": null,
      "align_self": null,
      "border": null,
      "bottom": null,
      "display": null,
      "flex": null,
      "flex_flow": null,
      "grid_area": null,
      "grid_auto_columns": null,
      "grid_auto_flow": null,
      "grid_auto_rows": null,
      "grid_column": null,
      "grid_gap": null,
      "grid_row": null,
      "grid_template_areas": null,
      "grid_template_columns": null,
      "grid_template_rows": null,
      "height": null,
      "justify_content": null,
      "justify_items": null,
      "left": null,
      "margin": null,
      "max_height": null,
      "max_width": null,
      "min_height": null,
      "min_width": null,
      "object_fit": null,
      "object_position": null,
      "order": null,
      "overflow": null,
      "overflow_x": null,
      "overflow_y": null,
      "padding": null,
      "right": null,
      "top": null,
      "visibility": null,
      "width": null
     }
    },
    "373d45a8fee549afacc37b1598cf9285": {
     "model_module": "@jupyter-widgets/controls",
     "model_module_version": "1.5.0",
     "model_name": "HTMLModel",
     "state": {
      "_dom_classes": [],
      "_model_module": "@jupyter-widgets/controls",
      "_model_module_version": "1.5.0",
      "_model_name": "HTMLModel",
      "_view_count": null,
      "_view_module": "@jupyter-widgets/controls",
      "_view_module_version": "1.5.0",
      "_view_name": "HTMLView",
      "description": "",
      "description_tooltip": null,
      "layout": "IPY_MODEL_75cc221e80a14a92b3a4e4c9cf775d41",
      "placeholder": "​",
      "style": "IPY_MODEL_009e0e9c67f64f29ad75f11ed05b8b6e",
      "value": " 10/10 [01:22&lt;00:00,  8.20s/it]"
     }
    },
    "37f606df604249ce89a32fb6c6a26e6d": {
     "model_module": "@jupyter-widgets/controls",
     "model_module_version": "1.5.0",
     "model_name": "FloatProgressModel",
     "state": {
      "_dom_classes": [],
      "_model_module": "@jupyter-widgets/controls",
      "_model_module_version": "1.5.0",
      "_model_name": "FloatProgressModel",
      "_view_count": null,
      "_view_module": "@jupyter-widgets/controls",
      "_view_module_version": "1.5.0",
      "_view_name": "ProgressView",
      "bar_style": "danger",
      "description": "",
      "description_tooltip": null,
      "layout": "IPY_MODEL_bb4817fd87924ca18f0c674474ab15a1",
      "max": 5,
      "min": 0,
      "orientation": "horizontal",
      "style": "IPY_MODEL_04f77ea6e2974ac38c8b7d28f8a31c45",
      "value": 0
     }
    },
    "39924c0c7c844843a9f45fefa63b34b6": {
     "model_module": "@jupyter-widgets/base",
     "model_module_version": "1.2.0",
     "model_name": "LayoutModel",
     "state": {
      "_model_module": "@jupyter-widgets/base",
      "_model_module_version": "1.2.0",
      "_model_name": "LayoutModel",
      "_view_count": null,
      "_view_module": "@jupyter-widgets/base",
      "_view_module_version": "1.2.0",
      "_view_name": "LayoutView",
      "align_content": null,
      "align_items": null,
      "align_self": null,
      "border": null,
      "bottom": null,
      "display": null,
      "flex": null,
      "flex_flow": null,
      "grid_area": null,
      "grid_auto_columns": null,
      "grid_auto_flow": null,
      "grid_auto_rows": null,
      "grid_column": null,
      "grid_gap": null,
      "grid_row": null,
      "grid_template_areas": null,
      "grid_template_columns": null,
      "grid_template_rows": null,
      "height": null,
      "justify_content": null,
      "justify_items": null,
      "left": null,
      "margin": null,
      "max_height": null,
      "max_width": null,
      "min_height": null,
      "min_width": null,
      "object_fit": null,
      "object_position": null,
      "order": null,
      "overflow": null,
      "overflow_x": null,
      "overflow_y": null,
      "padding": null,
      "right": null,
      "top": null,
      "visibility": null,
      "width": null
     }
    },
    "3cc9a8f10b6541b6ba246926ccbde757": {
     "model_module": "@jupyter-widgets/base",
     "model_module_version": "1.2.0",
     "model_name": "LayoutModel",
     "state": {
      "_model_module": "@jupyter-widgets/base",
      "_model_module_version": "1.2.0",
      "_model_name": "LayoutModel",
      "_view_count": null,
      "_view_module": "@jupyter-widgets/base",
      "_view_module_version": "1.2.0",
      "_view_name": "LayoutView",
      "align_content": null,
      "align_items": null,
      "align_self": null,
      "border": null,
      "bottom": null,
      "display": null,
      "flex": null,
      "flex_flow": null,
      "grid_area": null,
      "grid_auto_columns": null,
      "grid_auto_flow": null,
      "grid_auto_rows": null,
      "grid_column": null,
      "grid_gap": null,
      "grid_row": null,
      "grid_template_areas": null,
      "grid_template_columns": null,
      "grid_template_rows": null,
      "height": null,
      "justify_content": null,
      "justify_items": null,
      "left": null,
      "margin": null,
      "max_height": null,
      "max_width": null,
      "min_height": null,
      "min_width": null,
      "object_fit": null,
      "object_position": null,
      "order": null,
      "overflow": null,
      "overflow_x": null,
      "overflow_y": null,
      "padding": null,
      "right": null,
      "top": null,
      "visibility": null,
      "width": null
     }
    },
    "3d4e18fa1efd48d2831f1832ef2d758d": {
     "model_module": "@jupyter-widgets/controls",
     "model_module_version": "1.5.0",
     "model_name": "HBoxModel",
     "state": {
      "_dom_classes": [],
      "_model_module": "@jupyter-widgets/controls",
      "_model_module_version": "1.5.0",
      "_model_name": "HBoxModel",
      "_view_count": null,
      "_view_module": "@jupyter-widgets/controls",
      "_view_module_version": "1.5.0",
      "_view_name": "HBoxView",
      "box_style": "",
      "children": [
       "IPY_MODEL_aceeb65f1a0045f28a49b87d6ba5b832",
       "IPY_MODEL_8371911a2bae4715b5eda25345f399f0",
       "IPY_MODEL_d4eabe8496874c8ab9661428ebd97fbc"
      ],
      "layout": "IPY_MODEL_22b216d760b14746b390391bc8938825"
     }
    },
    "3daa02d841a24969a0a7ae0dcd140b6b": {
     "model_module": "@jupyter-widgets/controls",
     "model_module_version": "1.5.0",
     "model_name": "DescriptionStyleModel",
     "state": {
      "_model_module": "@jupyter-widgets/controls",
      "_model_module_version": "1.5.0",
      "_model_name": "DescriptionStyleModel",
      "_view_count": null,
      "_view_module": "@jupyter-widgets/base",
      "_view_module_version": "1.2.0",
      "_view_name": "StyleView",
      "description_width": ""
     }
    },
    "48148624538844e9b90efb55f0488294": {
     "model_module": "@jupyter-widgets/controls",
     "model_module_version": "1.5.0",
     "model_name": "FloatProgressModel",
     "state": {
      "_dom_classes": [],
      "_model_module": "@jupyter-widgets/controls",
      "_model_module_version": "1.5.0",
      "_model_name": "FloatProgressModel",
      "_view_count": null,
      "_view_module": "@jupyter-widgets/controls",
      "_view_module_version": "1.5.0",
      "_view_name": "ProgressView",
      "bar_style": "success",
      "description": "",
      "description_tooltip": null,
      "layout": "IPY_MODEL_39924c0c7c844843a9f45fefa63b34b6",
      "max": 10,
      "min": 0,
      "orientation": "horizontal",
      "style": "IPY_MODEL_bcc5244e1af4484b952079662c2ca822",
      "value": 10
     }
    },
    "4823fcbf87d44ab6bc78a596adee3e6f": {
     "model_module": "@jupyter-widgets/base",
     "model_module_version": "1.2.0",
     "model_name": "LayoutModel",
     "state": {
      "_model_module": "@jupyter-widgets/base",
      "_model_module_version": "1.2.0",
      "_model_name": "LayoutModel",
      "_view_count": null,
      "_view_module": "@jupyter-widgets/base",
      "_view_module_version": "1.2.0",
      "_view_name": "LayoutView",
      "align_content": null,
      "align_items": null,
      "align_self": null,
      "border": null,
      "bottom": null,
      "display": null,
      "flex": null,
      "flex_flow": null,
      "grid_area": null,
      "grid_auto_columns": null,
      "grid_auto_flow": null,
      "grid_auto_rows": null,
      "grid_column": null,
      "grid_gap": null,
      "grid_row": null,
      "grid_template_areas": null,
      "grid_template_columns": null,
      "grid_template_rows": null,
      "height": null,
      "justify_content": null,
      "justify_items": null,
      "left": null,
      "margin": null,
      "max_height": null,
      "max_width": null,
      "min_height": null,
      "min_width": null,
      "object_fit": null,
      "object_position": null,
      "order": null,
      "overflow": null,
      "overflow_x": null,
      "overflow_y": null,
      "padding": null,
      "right": null,
      "top": null,
      "visibility": null,
      "width": null
     }
    },
    "4ef24f9b84cb45048a1c82cc2066b823": {
     "model_module": "@jupyter-widgets/controls",
     "model_module_version": "1.5.0",
     "model_name": "DescriptionStyleModel",
     "state": {
      "_model_module": "@jupyter-widgets/controls",
      "_model_module_version": "1.5.0",
      "_model_name": "DescriptionStyleModel",
      "_view_count": null,
      "_view_module": "@jupyter-widgets/base",
      "_view_module_version": "1.2.0",
      "_view_name": "StyleView",
      "description_width": ""
     }
    },
    "580b888ad007410ea8b6c57f730a845b": {
     "model_module": "@jupyter-widgets/base",
     "model_module_version": "1.2.0",
     "model_name": "LayoutModel",
     "state": {
      "_model_module": "@jupyter-widgets/base",
      "_model_module_version": "1.2.0",
      "_model_name": "LayoutModel",
      "_view_count": null,
      "_view_module": "@jupyter-widgets/base",
      "_view_module_version": "1.2.0",
      "_view_name": "LayoutView",
      "align_content": null,
      "align_items": null,
      "align_self": null,
      "border": null,
      "bottom": null,
      "display": null,
      "flex": null,
      "flex_flow": null,
      "grid_area": null,
      "grid_auto_columns": null,
      "grid_auto_flow": null,
      "grid_auto_rows": null,
      "grid_column": null,
      "grid_gap": null,
      "grid_row": null,
      "grid_template_areas": null,
      "grid_template_columns": null,
      "grid_template_rows": null,
      "height": null,
      "justify_content": null,
      "justify_items": null,
      "left": null,
      "margin": null,
      "max_height": null,
      "max_width": null,
      "min_height": null,
      "min_width": null,
      "object_fit": null,
      "object_position": null,
      "order": null,
      "overflow": null,
      "overflow_x": null,
      "overflow_y": null,
      "padding": null,
      "right": null,
      "top": null,
      "visibility": null,
      "width": null
     }
    },
    "59390cb8d3ac465c96e0ea3c87b8524a": {
     "model_module": "@jupyter-widgets/base",
     "model_module_version": "1.2.0",
     "model_name": "LayoutModel",
     "state": {
      "_model_module": "@jupyter-widgets/base",
      "_model_module_version": "1.2.0",
      "_model_name": "LayoutModel",
      "_view_count": null,
      "_view_module": "@jupyter-widgets/base",
      "_view_module_version": "1.2.0",
      "_view_name": "LayoutView",
      "align_content": null,
      "align_items": null,
      "align_self": null,
      "border": null,
      "bottom": null,
      "display": null,
      "flex": null,
      "flex_flow": null,
      "grid_area": null,
      "grid_auto_columns": null,
      "grid_auto_flow": null,
      "grid_auto_rows": null,
      "grid_column": null,
      "grid_gap": null,
      "grid_row": null,
      "grid_template_areas": null,
      "grid_template_columns": null,
      "grid_template_rows": null,
      "height": null,
      "justify_content": null,
      "justify_items": null,
      "left": null,
      "margin": null,
      "max_height": null,
      "max_width": null,
      "min_height": null,
      "min_width": null,
      "object_fit": null,
      "object_position": null,
      "order": null,
      "overflow": null,
      "overflow_x": null,
      "overflow_y": null,
      "padding": null,
      "right": null,
      "top": null,
      "visibility": null,
      "width": null
     }
    },
    "5b7101cfc22141db90ea8f057377500b": {
     "model_module": "@jupyter-widgets/controls",
     "model_module_version": "1.5.0",
     "model_name": "HTMLModel",
     "state": {
      "_dom_classes": [],
      "_model_module": "@jupyter-widgets/controls",
      "_model_module_version": "1.5.0",
      "_model_name": "HTMLModel",
      "_view_count": null,
      "_view_module": "@jupyter-widgets/controls",
      "_view_module_version": "1.5.0",
      "_view_name": "HTMLView",
      "description": "",
      "description_tooltip": null,
      "layout": "IPY_MODEL_781ad10d8e5e45ffa73ba06e99b00e19",
      "placeholder": "​",
      "style": "IPY_MODEL_1e222814a26c4bf396a71d80d96b3dd3",
      "value": "100%"
     }
    },
    "5b72c0772e60463c83d7513ddfac9c5b": {
     "model_module": "@jupyter-widgets/base",
     "model_module_version": "1.2.0",
     "model_name": "LayoutModel",
     "state": {
      "_model_module": "@jupyter-widgets/base",
      "_model_module_version": "1.2.0",
      "_model_name": "LayoutModel",
      "_view_count": null,
      "_view_module": "@jupyter-widgets/base",
      "_view_module_version": "1.2.0",
      "_view_name": "LayoutView",
      "align_content": null,
      "align_items": null,
      "align_self": null,
      "border": null,
      "bottom": null,
      "display": null,
      "flex": null,
      "flex_flow": null,
      "grid_area": null,
      "grid_auto_columns": null,
      "grid_auto_flow": null,
      "grid_auto_rows": null,
      "grid_column": null,
      "grid_gap": null,
      "grid_row": null,
      "grid_template_areas": null,
      "grid_template_columns": null,
      "grid_template_rows": null,
      "height": null,
      "justify_content": null,
      "justify_items": null,
      "left": null,
      "margin": null,
      "max_height": null,
      "max_width": null,
      "min_height": null,
      "min_width": null,
      "object_fit": null,
      "object_position": null,
      "order": null,
      "overflow": null,
      "overflow_x": null,
      "overflow_y": null,
      "padding": null,
      "right": null,
      "top": null,
      "visibility": null,
      "width": null
     }
    },
    "5ff5cd880d41430694b0fb126c808003": {
     "model_module": "@jupyter-widgets/controls",
     "model_module_version": "1.5.0",
     "model_name": "FloatProgressModel",
     "state": {
      "_dom_classes": [],
      "_model_module": "@jupyter-widgets/controls",
      "_model_module_version": "1.5.0",
      "_model_name": "FloatProgressModel",
      "_view_count": null,
      "_view_module": "@jupyter-widgets/controls",
      "_view_module_version": "1.5.0",
      "_view_name": "ProgressView",
      "bar_style": "success",
      "description": "",
      "description_tooltip": null,
      "layout": "IPY_MODEL_e6b6a11e802042c5b3477f68c42afdcc",
      "max": 10,
      "min": 0,
      "orientation": "horizontal",
      "style": "IPY_MODEL_f7e0abed66f547b381367d1088609afa",
      "value": 10
     }
    },
    "63affd25bdf0483f9a00b15c6c9edcc2": {
     "model_module": "@jupyter-widgets/controls",
     "model_module_version": "1.5.0",
     "model_name": "HTMLModel",
     "state": {
      "_dom_classes": [],
      "_model_module": "@jupyter-widgets/controls",
      "_model_module_version": "1.5.0",
      "_model_name": "HTMLModel",
      "_view_count": null,
      "_view_module": "@jupyter-widgets/controls",
      "_view_module_version": "1.5.0",
      "_view_name": "HTMLView",
      "description": "",
      "description_tooltip": null,
      "layout": "IPY_MODEL_0e35007704274c5db163256bf0252103",
      "placeholder": "​",
      "style": "IPY_MODEL_94b438c6804f47b98a37ad0e7e6b408e",
      "value": " 113/150 [00:14&lt;00:06,  6.14it/s]"
     }
    },
    "6823eedfc6204225a951ef61d3e89aab": {
     "model_module": "@jupyter-widgets/base",
     "model_module_version": "1.2.0",
     "model_name": "LayoutModel",
     "state": {
      "_model_module": "@jupyter-widgets/base",
      "_model_module_version": "1.2.0",
      "_model_name": "LayoutModel",
      "_view_count": null,
      "_view_module": "@jupyter-widgets/base",
      "_view_module_version": "1.2.0",
      "_view_name": "LayoutView",
      "align_content": null,
      "align_items": null,
      "align_self": null,
      "border": null,
      "bottom": null,
      "display": null,
      "flex": null,
      "flex_flow": null,
      "grid_area": null,
      "grid_auto_columns": null,
      "grid_auto_flow": null,
      "grid_auto_rows": null,
      "grid_column": null,
      "grid_gap": null,
      "grid_row": null,
      "grid_template_areas": null,
      "grid_template_columns": null,
      "grid_template_rows": null,
      "height": null,
      "justify_content": null,
      "justify_items": null,
      "left": null,
      "margin": null,
      "max_height": null,
      "max_width": null,
      "min_height": null,
      "min_width": null,
      "object_fit": null,
      "object_position": null,
      "order": null,
      "overflow": null,
      "overflow_x": null,
      "overflow_y": null,
      "padding": null,
      "right": null,
      "top": null,
      "visibility": null,
      "width": null
     }
    },
    "6aac1283ebf2458fb92eb2e4eb228952": {
     "model_module": "@jupyter-widgets/controls",
     "model_module_version": "1.5.0",
     "model_name": "HTMLModel",
     "state": {
      "_dom_classes": [],
      "_model_module": "@jupyter-widgets/controls",
      "_model_module_version": "1.5.0",
      "_model_name": "HTMLModel",
      "_view_count": null,
      "_view_module": "@jupyter-widgets/controls",
      "_view_module_version": "1.5.0",
      "_view_name": "HTMLView",
      "description": "",
      "description_tooltip": null,
      "layout": "IPY_MODEL_a61e2f8a5e03401ca2e3182cd6d305db",
      "placeholder": "​",
      "style": "IPY_MODEL_3daa02d841a24969a0a7ae0dcd140b6b",
      "value": "100%"
     }
    },
    "6cadfbefd9eb4739a0543c1c06395c92": {
     "model_module": "@jupyter-widgets/controls",
     "model_module_version": "1.5.0",
     "model_name": "HBoxModel",
     "state": {
      "_dom_classes": [],
      "_model_module": "@jupyter-widgets/controls",
      "_model_module_version": "1.5.0",
      "_model_name": "HBoxModel",
      "_view_count": null,
      "_view_module": "@jupyter-widgets/controls",
      "_view_module_version": "1.5.0",
      "_view_name": "HBoxView",
      "box_style": "",
      "children": [
       "IPY_MODEL_02e15caaf1504d2f8f62fc7c9ecd08c3",
       "IPY_MODEL_742cffeef4ba4df3b2191fb994c790f3",
       "IPY_MODEL_df19f9c2bcfd422485c7899745d86e3c"
      ],
      "layout": "IPY_MODEL_59390cb8d3ac465c96e0ea3c87b8524a"
     }
    },
    "6ebb3aa15e4d4500addc182ca353d14a": {
     "model_module": "@jupyter-widgets/controls",
     "model_module_version": "1.5.0",
     "model_name": "ProgressStyleModel",
     "state": {
      "_model_module": "@jupyter-widgets/controls",
      "_model_module_version": "1.5.0",
      "_model_name": "ProgressStyleModel",
      "_view_count": null,
      "_view_module": "@jupyter-widgets/base",
      "_view_module_version": "1.2.0",
      "_view_name": "StyleView",
      "bar_color": null,
      "description_width": ""
     }
    },
    "6f5e79a8ef48412f97ef05aac2c945e2": {
     "model_module": "@jupyter-widgets/controls",
     "model_module_version": "1.5.0",
     "model_name": "HTMLModel",
     "state": {
      "_dom_classes": [],
      "_model_module": "@jupyter-widgets/controls",
      "_model_module_version": "1.5.0",
      "_model_name": "HTMLModel",
      "_view_count": null,
      "_view_module": "@jupyter-widgets/controls",
      "_view_module_version": "1.5.0",
      "_view_name": "HTMLView",
      "description": "",
      "description_tooltip": null,
      "layout": "IPY_MODEL_eaf74c812c8e446592f1ab2bbb2a7f1a",
      "placeholder": "​",
      "style": "IPY_MODEL_fe9c8d6e062a449c915a313ada9dbd09",
      "value": " 75%"
     }
    },
    "717d6ce8019a4ac497900eab86b19f35": {
     "model_module": "@jupyter-widgets/controls",
     "model_module_version": "1.5.0",
     "model_name": "DescriptionStyleModel",
     "state": {
      "_model_module": "@jupyter-widgets/controls",
      "_model_module_version": "1.5.0",
      "_model_name": "DescriptionStyleModel",
      "_view_count": null,
      "_view_module": "@jupyter-widgets/base",
      "_view_module_version": "1.2.0",
      "_view_name": "StyleView",
      "description_width": ""
     }
    },
    "742cffeef4ba4df3b2191fb994c790f3": {
     "model_module": "@jupyter-widgets/controls",
     "model_module_version": "1.5.0",
     "model_name": "FloatProgressModel",
     "state": {
      "_dom_classes": [],
      "_model_module": "@jupyter-widgets/controls",
      "_model_module_version": "1.5.0",
      "_model_name": "FloatProgressModel",
      "_view_count": null,
      "_view_module": "@jupyter-widgets/controls",
      "_view_module_version": "1.5.0",
      "_view_name": "ProgressView",
      "bar_style": "success",
      "description": "",
      "description_tooltip": null,
      "layout": "IPY_MODEL_f3855ad3a05647eca952fd6c1fa65890",
      "max": 36882185,
      "min": 0,
      "orientation": "horizontal",
      "style": "IPY_MODEL_0e68d0574669471bab426633ffb13fce",
      "value": 36882185
     }
    },
    "757bcba8790444fa8f379f13ab55d78b": {
     "model_module": "@jupyter-widgets/base",
     "model_module_version": "1.2.0",
     "model_name": "LayoutModel",
     "state": {
      "_model_module": "@jupyter-widgets/base",
      "_model_module_version": "1.2.0",
      "_model_name": "LayoutModel",
      "_view_count": null,
      "_view_module": "@jupyter-widgets/base",
      "_view_module_version": "1.2.0",
      "_view_name": "LayoutView",
      "align_content": null,
      "align_items": null,
      "align_self": null,
      "border": null,
      "bottom": null,
      "display": null,
      "flex": null,
      "flex_flow": null,
      "grid_area": null,
      "grid_auto_columns": null,
      "grid_auto_flow": null,
      "grid_auto_rows": null,
      "grid_column": null,
      "grid_gap": null,
      "grid_row": null,
      "grid_template_areas": null,
      "grid_template_columns": null,
      "grid_template_rows": null,
      "height": null,
      "justify_content": null,
      "justify_items": null,
      "left": null,
      "margin": null,
      "max_height": null,
      "max_width": null,
      "min_height": null,
      "min_width": null,
      "object_fit": null,
      "object_position": null,
      "order": null,
      "overflow": null,
      "overflow_x": null,
      "overflow_y": null,
      "padding": null,
      "right": null,
      "top": null,
      "visibility": null,
      "width": null
     }
    },
    "75cc221e80a14a92b3a4e4c9cf775d41": {
     "model_module": "@jupyter-widgets/base",
     "model_module_version": "1.2.0",
     "model_name": "LayoutModel",
     "state": {
      "_model_module": "@jupyter-widgets/base",
      "_model_module_version": "1.2.0",
      "_model_name": "LayoutModel",
      "_view_count": null,
      "_view_module": "@jupyter-widgets/base",
      "_view_module_version": "1.2.0",
      "_view_name": "LayoutView",
      "align_content": null,
      "align_items": null,
      "align_self": null,
      "border": null,
      "bottom": null,
      "display": null,
      "flex": null,
      "flex_flow": null,
      "grid_area": null,
      "grid_auto_columns": null,
      "grid_auto_flow": null,
      "grid_auto_rows": null,
      "grid_column": null,
      "grid_gap": null,
      "grid_row": null,
      "grid_template_areas": null,
      "grid_template_columns": null,
      "grid_template_rows": null,
      "height": null,
      "justify_content": null,
      "justify_items": null,
      "left": null,
      "margin": null,
      "max_height": null,
      "max_width": null,
      "min_height": null,
      "min_width": null,
      "object_fit": null,
      "object_position": null,
      "order": null,
      "overflow": null,
      "overflow_x": null,
      "overflow_y": null,
      "padding": null,
      "right": null,
      "top": null,
      "visibility": null,
      "width": null
     }
    },
    "781ad10d8e5e45ffa73ba06e99b00e19": {
     "model_module": "@jupyter-widgets/base",
     "model_module_version": "1.2.0",
     "model_name": "LayoutModel",
     "state": {
      "_model_module": "@jupyter-widgets/base",
      "_model_module_version": "1.2.0",
      "_model_name": "LayoutModel",
      "_view_count": null,
      "_view_module": "@jupyter-widgets/base",
      "_view_module_version": "1.2.0",
      "_view_name": "LayoutView",
      "align_content": null,
      "align_items": null,
      "align_self": null,
      "border": null,
      "bottom": null,
      "display": null,
      "flex": null,
      "flex_flow": null,
      "grid_area": null,
      "grid_auto_columns": null,
      "grid_auto_flow": null,
      "grid_auto_rows": null,
      "grid_column": null,
      "grid_gap": null,
      "grid_row": null,
      "grid_template_areas": null,
      "grid_template_columns": null,
      "grid_template_rows": null,
      "height": null,
      "justify_content": null,
      "justify_items": null,
      "left": null,
      "margin": null,
      "max_height": null,
      "max_width": null,
      "min_height": null,
      "min_width": null,
      "object_fit": null,
      "object_position": null,
      "order": null,
      "overflow": null,
      "overflow_x": null,
      "overflow_y": null,
      "padding": null,
      "right": null,
      "top": null,
      "visibility": null,
      "width": null
     }
    },
    "7960b4ffe68348d1b6923bcf52d8495c": {
     "model_module": "@jupyter-widgets/controls",
     "model_module_version": "1.5.0",
     "model_name": "HBoxModel",
     "state": {
      "_dom_classes": [],
      "_model_module": "@jupyter-widgets/controls",
      "_model_module_version": "1.5.0",
      "_model_name": "HBoxModel",
      "_view_count": null,
      "_view_module": "@jupyter-widgets/controls",
      "_view_module_version": "1.5.0",
      "_view_name": "HBoxView",
      "box_style": "",
      "children": [
       "IPY_MODEL_0fe89c75c9da4b87b3489b5d7b5bb20a",
       "IPY_MODEL_37f606df604249ce89a32fb6c6a26e6d",
       "IPY_MODEL_85f1e3534d0d4a179679ce9161f0e1ea"
      ],
      "layout": "IPY_MODEL_d3bc642abe204b21a6d8a34f261a4abb"
     }
    },
    "7b27c373852d4a2dab79e530d9898075": {
     "model_module": "@jupyter-widgets/controls",
     "model_module_version": "1.5.0",
     "model_name": "HBoxModel",
     "state": {
      "_dom_classes": [],
      "_model_module": "@jupyter-widgets/controls",
      "_model_module_version": "1.5.0",
      "_model_name": "HBoxModel",
      "_view_count": null,
      "_view_module": "@jupyter-widgets/controls",
      "_view_module_version": "1.5.0",
      "_view_name": "HBoxView",
      "box_style": "",
      "children": [
       "IPY_MODEL_6f5e79a8ef48412f97ef05aac2c945e2",
       "IPY_MODEL_027551f97fed4f1f810d0ff09f1136bb",
       "IPY_MODEL_63affd25bdf0483f9a00b15c6c9edcc2"
      ],
      "layout": "IPY_MODEL_115e48307afe4200a632ce4f1f3c41f1"
     }
    },
    "8203109d03044ac9b6fe8c0d3552c6de": {
     "model_module": "@jupyter-widgets/base",
     "model_module_version": "1.2.0",
     "model_name": "LayoutModel",
     "state": {
      "_model_module": "@jupyter-widgets/base",
      "_model_module_version": "1.2.0",
      "_model_name": "LayoutModel",
      "_view_count": null,
      "_view_module": "@jupyter-widgets/base",
      "_view_module_version": "1.2.0",
      "_view_name": "LayoutView",
      "align_content": null,
      "align_items": null,
      "align_self": null,
      "border": null,
      "bottom": null,
      "display": null,
      "flex": null,
      "flex_flow": null,
      "grid_area": null,
      "grid_auto_columns": null,
      "grid_auto_flow": null,
      "grid_auto_rows": null,
      "grid_column": null,
      "grid_gap": null,
      "grid_row": null,
      "grid_template_areas": null,
      "grid_template_columns": null,
      "grid_template_rows": null,
      "height": null,
      "justify_content": null,
      "justify_items": null,
      "left": null,
      "margin": null,
      "max_height": null,
      "max_width": null,
      "min_height": null,
      "min_width": null,
      "object_fit": null,
      "object_position": null,
      "order": null,
      "overflow": null,
      "overflow_x": null,
      "overflow_y": null,
      "padding": null,
      "right": null,
      "top": null,
      "visibility": null,
      "width": null
     }
    },
    "8299be99957142fb9e5a9817d2ecfc5c": {
     "model_module": "@jupyter-widgets/controls",
     "model_module_version": "1.5.0",
     "model_name": "ProgressStyleModel",
     "state": {
      "_model_module": "@jupyter-widgets/controls",
      "_model_module_version": "1.5.0",
      "_model_name": "ProgressStyleModel",
      "_view_count": null,
      "_view_module": "@jupyter-widgets/base",
      "_view_module_version": "1.2.0",
      "_view_name": "StyleView",
      "bar_color": null,
      "description_width": ""
     }
    },
    "8371911a2bae4715b5eda25345f399f0": {
     "model_module": "@jupyter-widgets/controls",
     "model_module_version": "1.5.0",
     "model_name": "FloatProgressModel",
     "state": {
      "_dom_classes": [],
      "_model_module": "@jupyter-widgets/controls",
      "_model_module_version": "1.5.0",
      "_model_name": "FloatProgressModel",
      "_view_count": null,
      "_view_module": "@jupyter-widgets/controls",
      "_view_module_version": "1.5.0",
      "_view_name": "ProgressView",
      "bar_style": "success",
      "description": "",
      "description_tooltip": null,
      "layout": "IPY_MODEL_310b4d1d4b5741b192d17fdf03634df1",
      "max": 36882185,
      "min": 0,
      "orientation": "horizontal",
      "style": "IPY_MODEL_b196db56002e4a698513ed8fef89d672",
      "value": 36882185
     }
    },
    "85f1e3534d0d4a179679ce9161f0e1ea": {
     "model_module": "@jupyter-widgets/controls",
     "model_module_version": "1.5.0",
     "model_name": "HTMLModel",
     "state": {
      "_dom_classes": [],
      "_model_module": "@jupyter-widgets/controls",
      "_model_module_version": "1.5.0",
      "_model_name": "HTMLModel",
      "_view_count": null,
      "_view_module": "@jupyter-widgets/controls",
      "_view_module_version": "1.5.0",
      "_view_name": "HTMLView",
      "description": "",
      "description_tooltip": null,
      "layout": "IPY_MODEL_dfe7e1f5ea2640729cd80b1157d7fb54",
      "placeholder": "​",
      "style": "IPY_MODEL_cb64e2610fc5469b9ce5d232e33a642b",
      "value": " 0/5 [09:05&lt;?, ?it/s]"
     }
    },
    "871bb294306b47389f02857ee956366a": {
     "model_module": "@jupyter-widgets/controls",
     "model_module_version": "1.5.0",
     "model_name": "DescriptionStyleModel",
     "state": {
      "_model_module": "@jupyter-widgets/controls",
      "_model_module_version": "1.5.0",
      "_model_name": "DescriptionStyleModel",
      "_view_count": null,
      "_view_module": "@jupyter-widgets/base",
      "_view_module_version": "1.2.0",
      "_view_name": "StyleView",
      "description_width": ""
     }
    },
    "900b6d4b7804409d9a5b70562315406e": {
     "model_module": "@jupyter-widgets/controls",
     "model_module_version": "1.5.0",
     "model_name": "HTMLModel",
     "state": {
      "_dom_classes": [],
      "_model_module": "@jupyter-widgets/controls",
      "_model_module_version": "1.5.0",
      "_model_name": "HTMLModel",
      "_view_count": null,
      "_view_module": "@jupyter-widgets/controls",
      "_view_module_version": "1.5.0",
      "_view_name": "HTMLView",
      "description": "",
      "description_tooltip": null,
      "layout": "IPY_MODEL_757bcba8790444fa8f379f13ab55d78b",
      "placeholder": "​",
      "style": "IPY_MODEL_de432624502c4ddfba58dd69ade9a1f5",
      "value": "100%"
     }
    },
    "90b6712e032a43d2903e039ea52cf086": {
     "model_module": "@jupyter-widgets/base",
     "model_module_version": "1.2.0",
     "model_name": "LayoutModel",
     "state": {
      "_model_module": "@jupyter-widgets/base",
      "_model_module_version": "1.2.0",
      "_model_name": "LayoutModel",
      "_view_count": null,
      "_view_module": "@jupyter-widgets/base",
      "_view_module_version": "1.2.0",
      "_view_name": "LayoutView",
      "align_content": null,
      "align_items": null,
      "align_self": null,
      "border": null,
      "bottom": null,
      "display": null,
      "flex": null,
      "flex_flow": null,
      "grid_area": null,
      "grid_auto_columns": null,
      "grid_auto_flow": null,
      "grid_auto_rows": null,
      "grid_column": null,
      "grid_gap": null,
      "grid_row": null,
      "grid_template_areas": null,
      "grid_template_columns": null,
      "grid_template_rows": null,
      "height": null,
      "justify_content": null,
      "justify_items": null,
      "left": null,
      "margin": null,
      "max_height": null,
      "max_width": null,
      "min_height": null,
      "min_width": null,
      "object_fit": null,
      "object_position": null,
      "order": null,
      "overflow": null,
      "overflow_x": null,
      "overflow_y": null,
      "padding": null,
      "right": null,
      "top": null,
      "visibility": null,
      "width": null
     }
    },
    "94b438c6804f47b98a37ad0e7e6b408e": {
     "model_module": "@jupyter-widgets/controls",
     "model_module_version": "1.5.0",
     "model_name": "DescriptionStyleModel",
     "state": {
      "_model_module": "@jupyter-widgets/controls",
      "_model_module_version": "1.5.0",
      "_model_name": "DescriptionStyleModel",
      "_view_count": null,
      "_view_module": "@jupyter-widgets/base",
      "_view_module_version": "1.2.0",
      "_view_name": "StyleView",
      "description_width": ""
     }
    },
    "97b7ef3a4f1846009ef8cfcbd0b86f7f": {
     "model_module": "@jupyter-widgets/controls",
     "model_module_version": "1.5.0",
     "model_name": "ProgressStyleModel",
     "state": {
      "_model_module": "@jupyter-widgets/controls",
      "_model_module_version": "1.5.0",
      "_model_name": "ProgressStyleModel",
      "_view_count": null,
      "_view_module": "@jupyter-widgets/base",
      "_view_module_version": "1.2.0",
      "_view_name": "StyleView",
      "bar_color": null,
      "description_width": ""
     }
    },
    "9bf1c8d5fe864dec8c99c9602f218da9": {
     "model_module": "@jupyter-widgets/base",
     "model_module_version": "1.2.0",
     "model_name": "LayoutModel",
     "state": {
      "_model_module": "@jupyter-widgets/base",
      "_model_module_version": "1.2.0",
      "_model_name": "LayoutModel",
      "_view_count": null,
      "_view_module": "@jupyter-widgets/base",
      "_view_module_version": "1.2.0",
      "_view_name": "LayoutView",
      "align_content": null,
      "align_items": null,
      "align_self": null,
      "border": null,
      "bottom": null,
      "display": null,
      "flex": null,
      "flex_flow": null,
      "grid_area": null,
      "grid_auto_columns": null,
      "grid_auto_flow": null,
      "grid_auto_rows": null,
      "grid_column": null,
      "grid_gap": null,
      "grid_row": null,
      "grid_template_areas": null,
      "grid_template_columns": null,
      "grid_template_rows": null,
      "height": null,
      "justify_content": null,
      "justify_items": null,
      "left": null,
      "margin": null,
      "max_height": null,
      "max_width": null,
      "min_height": null,
      "min_width": null,
      "object_fit": null,
      "object_position": null,
      "order": null,
      "overflow": null,
      "overflow_x": null,
      "overflow_y": null,
      "padding": null,
      "right": null,
      "top": null,
      "visibility": null,
      "width": null
     }
    },
    "a61e2f8a5e03401ca2e3182cd6d305db": {
     "model_module": "@jupyter-widgets/base",
     "model_module_version": "1.2.0",
     "model_name": "LayoutModel",
     "state": {
      "_model_module": "@jupyter-widgets/base",
      "_model_module_version": "1.2.0",
      "_model_name": "LayoutModel",
      "_view_count": null,
      "_view_module": "@jupyter-widgets/base",
      "_view_module_version": "1.2.0",
      "_view_name": "LayoutView",
      "align_content": null,
      "align_items": null,
      "align_self": null,
      "border": null,
      "bottom": null,
      "display": null,
      "flex": null,
      "flex_flow": null,
      "grid_area": null,
      "grid_auto_columns": null,
      "grid_auto_flow": null,
      "grid_auto_rows": null,
      "grid_column": null,
      "grid_gap": null,
      "grid_row": null,
      "grid_template_areas": null,
      "grid_template_columns": null,
      "grid_template_rows": null,
      "height": null,
      "justify_content": null,
      "justify_items": null,
      "left": null,
      "margin": null,
      "max_height": null,
      "max_width": null,
      "min_height": null,
      "min_width": null,
      "object_fit": null,
      "object_position": null,
      "order": null,
      "overflow": null,
      "overflow_x": null,
      "overflow_y": null,
      "padding": null,
      "right": null,
      "top": null,
      "visibility": null,
      "width": null
     }
    },
    "a797060654814a1fb44b0c0b7acf7542": {
     "model_module": "@jupyter-widgets/controls",
     "model_module_version": "1.5.0",
     "model_name": "DescriptionStyleModel",
     "state": {
      "_model_module": "@jupyter-widgets/controls",
      "_model_module_version": "1.5.0",
      "_model_name": "DescriptionStyleModel",
      "_view_count": null,
      "_view_module": "@jupyter-widgets/base",
      "_view_module_version": "1.2.0",
      "_view_name": "StyleView",
      "description_width": ""
     }
    },
    "aa388bf3316f4de78381d11e2a70f820": {
     "model_module": "@jupyter-widgets/controls",
     "model_module_version": "1.5.0",
     "model_name": "FloatProgressModel",
     "state": {
      "_dom_classes": [],
      "_model_module": "@jupyter-widgets/controls",
      "_model_module_version": "1.5.0",
      "_model_name": "FloatProgressModel",
      "_view_count": null,
      "_view_module": "@jupyter-widgets/controls",
      "_view_module_version": "1.5.0",
      "_view_name": "ProgressView",
      "bar_style": "success",
      "description": "",
      "description_tooltip": null,
      "layout": "IPY_MODEL_320cc88f80084a1683bbe9b9fb6a0015",
      "max": 150,
      "min": 0,
      "orientation": "horizontal",
      "style": "IPY_MODEL_8299be99957142fb9e5a9817d2ecfc5c",
      "value": 150
     }
    },
    "aceeb65f1a0045f28a49b87d6ba5b832": {
     "model_module": "@jupyter-widgets/controls",
     "model_module_version": "1.5.0",
     "model_name": "HTMLModel",
     "state": {
      "_dom_classes": [],
      "_model_module": "@jupyter-widgets/controls",
      "_model_module_version": "1.5.0",
      "_model_name": "HTMLModel",
      "_view_count": null,
      "_view_module": "@jupyter-widgets/controls",
      "_view_module_version": "1.5.0",
      "_view_name": "HTMLView",
      "description": "",
      "description_tooltip": null,
      "layout": "IPY_MODEL_2ee9bebc249d42acb44bceaa6c6b2772",
      "placeholder": "​",
      "style": "IPY_MODEL_717d6ce8019a4ac497900eab86b19f35",
      "value": "100%"
     }
    },
    "ad0fb6eb0bf9478c8f7d79ef489d67df": {
     "model_module": "@jupyter-widgets/base",
     "model_module_version": "1.2.0",
     "model_name": "LayoutModel",
     "state": {
      "_model_module": "@jupyter-widgets/base",
      "_model_module_version": "1.2.0",
      "_model_name": "LayoutModel",
      "_view_count": null,
      "_view_module": "@jupyter-widgets/base",
      "_view_module_version": "1.2.0",
      "_view_name": "LayoutView",
      "align_content": null,
      "align_items": null,
      "align_self": null,
      "border": null,
      "bottom": null,
      "display": null,
      "flex": null,
      "flex_flow": null,
      "grid_area": null,
      "grid_auto_columns": null,
      "grid_auto_flow": null,
      "grid_auto_rows": null,
      "grid_column": null,
      "grid_gap": null,
      "grid_row": null,
      "grid_template_areas": null,
      "grid_template_columns": null,
      "grid_template_rows": null,
      "height": null,
      "justify_content": null,
      "justify_items": null,
      "left": null,
      "margin": null,
      "max_height": null,
      "max_width": null,
      "min_height": null,
      "min_width": null,
      "object_fit": null,
      "object_position": null,
      "order": null,
      "overflow": null,
      "overflow_x": null,
      "overflow_y": null,
      "padding": null,
      "right": null,
      "top": null,
      "visibility": null,
      "width": null
     }
    },
    "b196db56002e4a698513ed8fef89d672": {
     "model_module": "@jupyter-widgets/controls",
     "model_module_version": "1.5.0",
     "model_name": "ProgressStyleModel",
     "state": {
      "_model_module": "@jupyter-widgets/controls",
      "_model_module_version": "1.5.0",
      "_model_name": "ProgressStyleModel",
      "_view_count": null,
      "_view_module": "@jupyter-widgets/base",
      "_view_module_version": "1.2.0",
      "_view_name": "StyleView",
      "bar_color": null,
      "description_width": ""
     }
    },
    "b7c97b823ddc418b9544d3642241b901": {
     "model_module": "@jupyter-widgets/controls",
     "model_module_version": "1.5.0",
     "model_name": "DescriptionStyleModel",
     "state": {
      "_model_module": "@jupyter-widgets/controls",
      "_model_module_version": "1.5.0",
      "_model_name": "DescriptionStyleModel",
      "_view_count": null,
      "_view_module": "@jupyter-widgets/base",
      "_view_module_version": "1.2.0",
      "_view_name": "StyleView",
      "description_width": ""
     }
    },
    "b8829d50b2a3471b960c263e6dac9d90": {
     "model_module": "@jupyter-widgets/controls",
     "model_module_version": "1.5.0",
     "model_name": "HTMLModel",
     "state": {
      "_dom_classes": [],
      "_model_module": "@jupyter-widgets/controls",
      "_model_module_version": "1.5.0",
      "_model_name": "HTMLModel",
      "_view_count": null,
      "_view_module": "@jupyter-widgets/controls",
      "_view_module_version": "1.5.0",
      "_view_name": "HTMLView",
      "description": "",
      "description_tooltip": null,
      "layout": "IPY_MODEL_f55e09af8de24e239f844ee3eaeec83c",
      "placeholder": "​",
      "style": "IPY_MODEL_871bb294306b47389f02857ee956366a",
      "value": " 150/150 [01:26&lt;00:00,  1.76it/s]"
     }
    },
    "bb3eaef667b347cfb845de1cd40fdf7a": {
     "model_module": "@jupyter-widgets/controls",
     "model_module_version": "1.5.0",
     "model_name": "HBoxModel",
     "state": {
      "_dom_classes": [],
      "_model_module": "@jupyter-widgets/controls",
      "_model_module_version": "1.5.0",
      "_model_name": "HBoxModel",
      "_view_count": null,
      "_view_module": "@jupyter-widgets/controls",
      "_view_module_version": "1.5.0",
      "_view_name": "HBoxView",
      "box_style": "",
      "children": [
       "IPY_MODEL_0b18c55c9b3742f5b22dff65a7830f81",
       "IPY_MODEL_c65e30358eb347f39a104bafeda4e95a",
       "IPY_MODEL_ebf2d0fd42ec46b79021cbf22c7134eb"
      ],
      "layout": "IPY_MODEL_580b888ad007410ea8b6c57f730a845b"
     }
    },
    "bb4817fd87924ca18f0c674474ab15a1": {
     "model_module": "@jupyter-widgets/base",
     "model_module_version": "1.2.0",
     "model_name": "LayoutModel",
     "state": {
      "_model_module": "@jupyter-widgets/base",
      "_model_module_version": "1.2.0",
      "_model_name": "LayoutModel",
      "_view_count": null,
      "_view_module": "@jupyter-widgets/base",
      "_view_module_version": "1.2.0",
      "_view_name": "LayoutView",
      "align_content": null,
      "align_items": null,
      "align_self": null,
      "border": null,
      "bottom": null,
      "display": null,
      "flex": null,
      "flex_flow": null,
      "grid_area": null,
      "grid_auto_columns": null,
      "grid_auto_flow": null,
      "grid_auto_rows": null,
      "grid_column": null,
      "grid_gap": null,
      "grid_row": null,
      "grid_template_areas": null,
      "grid_template_columns": null,
      "grid_template_rows": null,
      "height": null,
      "justify_content": null,
      "justify_items": null,
      "left": null,
      "margin": null,
      "max_height": null,
      "max_width": null,
      "min_height": null,
      "min_width": null,
      "object_fit": null,
      "object_position": null,
      "order": null,
      "overflow": null,
      "overflow_x": null,
      "overflow_y": null,
      "padding": null,
      "right": null,
      "top": null,
      "visibility": null,
      "width": null
     }
    },
    "bcc5244e1af4484b952079662c2ca822": {
     "model_module": "@jupyter-widgets/controls",
     "model_module_version": "1.5.0",
     "model_name": "ProgressStyleModel",
     "state": {
      "_model_module": "@jupyter-widgets/controls",
      "_model_module_version": "1.5.0",
      "_model_name": "ProgressStyleModel",
      "_view_count": null,
      "_view_module": "@jupyter-widgets/base",
      "_view_module_version": "1.2.0",
      "_view_name": "StyleView",
      "bar_color": null,
      "description_width": ""
     }
    },
    "bd406ca05ee64e6784ea601fe2c23eeb": {
     "model_module": "@jupyter-widgets/controls",
     "model_module_version": "1.5.0",
     "model_name": "HBoxModel",
     "state": {
      "_dom_classes": [],
      "_model_module": "@jupyter-widgets/controls",
      "_model_module_version": "1.5.0",
      "_model_name": "HBoxModel",
      "_view_count": null,
      "_view_module": "@jupyter-widgets/controls",
      "_view_module_version": "1.5.0",
      "_view_name": "HBoxView",
      "box_style": "",
      "children": [
       "IPY_MODEL_6aac1283ebf2458fb92eb2e4eb228952",
       "IPY_MODEL_48148624538844e9b90efb55f0488294",
       "IPY_MODEL_373d45a8fee549afacc37b1598cf9285"
      ],
      "layout": "IPY_MODEL_8203109d03044ac9b6fe8c0d3552c6de"
     }
    },
    "bfe472f415c6420fba3f1b437d79bedd": {
     "model_module": "@jupyter-widgets/base",
     "model_module_version": "1.2.0",
     "model_name": "LayoutModel",
     "state": {
      "_model_module": "@jupyter-widgets/base",
      "_model_module_version": "1.2.0",
      "_model_name": "LayoutModel",
      "_view_count": null,
      "_view_module": "@jupyter-widgets/base",
      "_view_module_version": "1.2.0",
      "_view_name": "LayoutView",
      "align_content": null,
      "align_items": null,
      "align_self": null,
      "border": null,
      "bottom": null,
      "display": null,
      "flex": null,
      "flex_flow": null,
      "grid_area": null,
      "grid_auto_columns": null,
      "grid_auto_flow": null,
      "grid_auto_rows": null,
      "grid_column": null,
      "grid_gap": null,
      "grid_row": null,
      "grid_template_areas": null,
      "grid_template_columns": null,
      "grid_template_rows": null,
      "height": null,
      "justify_content": null,
      "justify_items": null,
      "left": null,
      "margin": null,
      "max_height": null,
      "max_width": null,
      "min_height": null,
      "min_width": null,
      "object_fit": null,
      "object_position": null,
      "order": null,
      "overflow": null,
      "overflow_x": null,
      "overflow_y": null,
      "padding": null,
      "right": null,
      "top": null,
      "visibility": null,
      "width": null
     }
    },
    "c65e30358eb347f39a104bafeda4e95a": {
     "model_module": "@jupyter-widgets/controls",
     "model_module_version": "1.5.0",
     "model_name": "FloatProgressModel",
     "state": {
      "_dom_classes": [],
      "_model_module": "@jupyter-widgets/controls",
      "_model_module_version": "1.5.0",
      "_model_name": "FloatProgressModel",
      "_view_count": null,
      "_view_module": "@jupyter-widgets/controls",
      "_view_module_version": "1.5.0",
      "_view_name": "ProgressView",
      "bar_style": "success",
      "description": "",
      "description_tooltip": null,
      "layout": "IPY_MODEL_5b72c0772e60463c83d7513ddfac9c5b",
      "max": 4996278331,
      "min": 0,
      "orientation": "horizontal",
      "style": "IPY_MODEL_97b7ef3a4f1846009ef8cfcbd0b86f7f",
      "value": 4996278331
     }
    },
    "c6f900a2173f4726b1f4f8acb57f81b0": {
     "model_module": "@jupyter-widgets/controls",
     "model_module_version": "1.5.0",
     "model_name": "HBoxModel",
     "state": {
      "_dom_classes": [],
      "_model_module": "@jupyter-widgets/controls",
      "_model_module_version": "1.5.0",
      "_model_name": "HBoxModel",
      "_view_count": null,
      "_view_module": "@jupyter-widgets/controls",
      "_view_module_version": "1.5.0",
      "_view_name": "HBoxView",
      "box_style": "",
      "children": [
       "IPY_MODEL_900b6d4b7804409d9a5b70562315406e",
       "IPY_MODEL_aa388bf3316f4de78381d11e2a70f820",
       "IPY_MODEL_b8829d50b2a3471b960c263e6dac9d90"
      ],
      "layout": "IPY_MODEL_9bf1c8d5fe864dec8c99c9602f218da9"
     }
    },
    "cb64e2610fc5469b9ce5d232e33a642b": {
     "model_module": "@jupyter-widgets/controls",
     "model_module_version": "1.5.0",
     "model_name": "DescriptionStyleModel",
     "state": {
      "_model_module": "@jupyter-widgets/controls",
      "_model_module_version": "1.5.0",
      "_model_name": "DescriptionStyleModel",
      "_view_count": null,
      "_view_module": "@jupyter-widgets/base",
      "_view_module_version": "1.2.0",
      "_view_name": "StyleView",
      "description_width": ""
     }
    },
    "d3bc642abe204b21a6d8a34f261a4abb": {
     "model_module": "@jupyter-widgets/base",
     "model_module_version": "1.2.0",
     "model_name": "LayoutModel",
     "state": {
      "_model_module": "@jupyter-widgets/base",
      "_model_module_version": "1.2.0",
      "_model_name": "LayoutModel",
      "_view_count": null,
      "_view_module": "@jupyter-widgets/base",
      "_view_module_version": "1.2.0",
      "_view_name": "LayoutView",
      "align_content": null,
      "align_items": null,
      "align_self": null,
      "border": null,
      "bottom": null,
      "display": null,
      "flex": null,
      "flex_flow": null,
      "grid_area": null,
      "grid_auto_columns": null,
      "grid_auto_flow": null,
      "grid_auto_rows": null,
      "grid_column": null,
      "grid_gap": null,
      "grid_row": null,
      "grid_template_areas": null,
      "grid_template_columns": null,
      "grid_template_rows": null,
      "height": null,
      "justify_content": null,
      "justify_items": null,
      "left": null,
      "margin": null,
      "max_height": null,
      "max_width": null,
      "min_height": null,
      "min_width": null,
      "object_fit": null,
      "object_position": null,
      "order": null,
      "overflow": null,
      "overflow_x": null,
      "overflow_y": null,
      "padding": null,
      "right": null,
      "top": null,
      "visibility": null,
      "width": null
     }
    },
    "d4eabe8496874c8ab9661428ebd97fbc": {
     "model_module": "@jupyter-widgets/controls",
     "model_module_version": "1.5.0",
     "model_name": "HTMLModel",
     "state": {
      "_dom_classes": [],
      "_model_module": "@jupyter-widgets/controls",
      "_model_module_version": "1.5.0",
      "_model_name": "HTMLModel",
      "_view_count": null,
      "_view_module": "@jupyter-widgets/controls",
      "_view_module_version": "1.5.0",
      "_view_name": "HTMLView",
      "description": "",
      "description_tooltip": null,
      "layout": "IPY_MODEL_bfe472f415c6420fba3f1b437d79bedd",
      "placeholder": "​",
      "style": "IPY_MODEL_059bc47acb0a4c78be9189afdd623ce9",
      "value": " 35.2M/35.2M [00:00&lt;00:00, 156MB/s]"
     }
    },
    "de432624502c4ddfba58dd69ade9a1f5": {
     "model_module": "@jupyter-widgets/controls",
     "model_module_version": "1.5.0",
     "model_name": "DescriptionStyleModel",
     "state": {
      "_model_module": "@jupyter-widgets/controls",
      "_model_module_version": "1.5.0",
      "_model_name": "DescriptionStyleModel",
      "_view_count": null,
      "_view_module": "@jupyter-widgets/base",
      "_view_module_version": "1.2.0",
      "_view_name": "StyleView",
      "description_width": ""
     }
    },
    "df19f9c2bcfd422485c7899745d86e3c": {
     "model_module": "@jupyter-widgets/controls",
     "model_module_version": "1.5.0",
     "model_name": "HTMLModel",
     "state": {
      "_dom_classes": [],
      "_model_module": "@jupyter-widgets/controls",
      "_model_module_version": "1.5.0",
      "_model_name": "HTMLModel",
      "_view_count": null,
      "_view_module": "@jupyter-widgets/controls",
      "_view_module_version": "1.5.0",
      "_view_name": "HTMLView",
      "description": "",
      "description_tooltip": null,
      "layout": "IPY_MODEL_4823fcbf87d44ab6bc78a596adee3e6f",
      "placeholder": "​",
      "style": "IPY_MODEL_2f418dd1fe2f4dffb911a44ec44ea2ed",
      "value": " 35.2M/35.2M [00:00&lt;00:00, 79.7MB/s]"
     }
    },
    "dfe7e1f5ea2640729cd80b1157d7fb54": {
     "model_module": "@jupyter-widgets/base",
     "model_module_version": "1.2.0",
     "model_name": "LayoutModel",
     "state": {
      "_model_module": "@jupyter-widgets/base",
      "_model_module_version": "1.2.0",
      "_model_name": "LayoutModel",
      "_view_count": null,
      "_view_module": "@jupyter-widgets/base",
      "_view_module_version": "1.2.0",
      "_view_name": "LayoutView",
      "align_content": null,
      "align_items": null,
      "align_self": null,
      "border": null,
      "bottom": null,
      "display": null,
      "flex": null,
      "flex_flow": null,
      "grid_area": null,
      "grid_auto_columns": null,
      "grid_auto_flow": null,
      "grid_auto_rows": null,
      "grid_column": null,
      "grid_gap": null,
      "grid_row": null,
      "grid_template_areas": null,
      "grid_template_columns": null,
      "grid_template_rows": null,
      "height": null,
      "justify_content": null,
      "justify_items": null,
      "left": null,
      "margin": null,
      "max_height": null,
      "max_width": null,
      "min_height": null,
      "min_width": null,
      "object_fit": null,
      "object_position": null,
      "order": null,
      "overflow": null,
      "overflow_x": null,
      "overflow_y": null,
      "padding": null,
      "right": null,
      "top": null,
      "visibility": null,
      "width": null
     }
    },
    "e0f510bf045948b0b18b6f7ad1796216": {
     "model_module": "@jupyter-widgets/controls",
     "model_module_version": "1.5.0",
     "model_name": "HTMLModel",
     "state": {
      "_dom_classes": [],
      "_model_module": "@jupyter-widgets/controls",
      "_model_module_version": "1.5.0",
      "_model_name": "HTMLModel",
      "_view_count": null,
      "_view_module": "@jupyter-widgets/controls",
      "_view_module_version": "1.5.0",
      "_view_name": "HTMLView",
      "description": "",
      "description_tooltip": null,
      "layout": "IPY_MODEL_3cc9a8f10b6541b6ba246926ccbde757",
      "placeholder": "​",
      "style": "IPY_MODEL_a797060654814a1fb44b0c0b7acf7542",
      "value": " 10/10 [01:08&lt;00:00,  6.87s/it]"
     }
    },
    "e6b6a11e802042c5b3477f68c42afdcc": {
     "model_module": "@jupyter-widgets/base",
     "model_module_version": "1.2.0",
     "model_name": "LayoutModel",
     "state": {
      "_model_module": "@jupyter-widgets/base",
      "_model_module_version": "1.2.0",
      "_model_name": "LayoutModel",
      "_view_count": null,
      "_view_module": "@jupyter-widgets/base",
      "_view_module_version": "1.2.0",
      "_view_name": "LayoutView",
      "align_content": null,
      "align_items": null,
      "align_self": null,
      "border": null,
      "bottom": null,
      "display": null,
      "flex": null,
      "flex_flow": null,
      "grid_area": null,
      "grid_auto_columns": null,
      "grid_auto_flow": null,
      "grid_auto_rows": null,
      "grid_column": null,
      "grid_gap": null,
      "grid_row": null,
      "grid_template_areas": null,
      "grid_template_columns": null,
      "grid_template_rows": null,
      "height": null,
      "justify_content": null,
      "justify_items": null,
      "left": null,
      "margin": null,
      "max_height": null,
      "max_width": null,
      "min_height": null,
      "min_width": null,
      "object_fit": null,
      "object_position": null,
      "order": null,
      "overflow": null,
      "overflow_x": null,
      "overflow_y": null,
      "padding": null,
      "right": null,
      "top": null,
      "visibility": null,
      "width": null
     }
    },
    "e82f418b645b4033a7b44e85d7cb6125": {
     "model_module": "@jupyter-widgets/controls",
     "model_module_version": "1.5.0",
     "model_name": "DescriptionStyleModel",
     "state": {
      "_model_module": "@jupyter-widgets/controls",
      "_model_module_version": "1.5.0",
      "_model_name": "DescriptionStyleModel",
      "_view_count": null,
      "_view_module": "@jupyter-widgets/base",
      "_view_module_version": "1.2.0",
      "_view_name": "StyleView",
      "description_width": ""
     }
    },
    "eac2dc7bfb5d4023a3f8d1993f3b8754": {
     "model_module": "@jupyter-widgets/controls",
     "model_module_version": "1.5.0",
     "model_name": "HBoxModel",
     "state": {
      "_dom_classes": [],
      "_model_module": "@jupyter-widgets/controls",
      "_model_module_version": "1.5.0",
      "_model_name": "HBoxModel",
      "_view_count": null,
      "_view_module": "@jupyter-widgets/controls",
      "_view_module_version": "1.5.0",
      "_view_name": "HBoxView",
      "box_style": "",
      "children": [
       "IPY_MODEL_5b7101cfc22141db90ea8f057377500b",
       "IPY_MODEL_5ff5cd880d41430694b0fb126c808003",
       "IPY_MODEL_e0f510bf045948b0b18b6f7ad1796216"
      ],
      "layout": "IPY_MODEL_6823eedfc6204225a951ef61d3e89aab"
     }
    },
    "eaf74c812c8e446592f1ab2bbb2a7f1a": {
     "model_module": "@jupyter-widgets/base",
     "model_module_version": "1.2.0",
     "model_name": "LayoutModel",
     "state": {
      "_model_module": "@jupyter-widgets/base",
      "_model_module_version": "1.2.0",
      "_model_name": "LayoutModel",
      "_view_count": null,
      "_view_module": "@jupyter-widgets/base",
      "_view_module_version": "1.2.0",
      "_view_name": "LayoutView",
      "align_content": null,
      "align_items": null,
      "align_self": null,
      "border": null,
      "bottom": null,
      "display": null,
      "flex": null,
      "flex_flow": null,
      "grid_area": null,
      "grid_auto_columns": null,
      "grid_auto_flow": null,
      "grid_auto_rows": null,
      "grid_column": null,
      "grid_gap": null,
      "grid_row": null,
      "grid_template_areas": null,
      "grid_template_columns": null,
      "grid_template_rows": null,
      "height": null,
      "justify_content": null,
      "justify_items": null,
      "left": null,
      "margin": null,
      "max_height": null,
      "max_width": null,
      "min_height": null,
      "min_width": null,
      "object_fit": null,
      "object_position": null,
      "order": null,
      "overflow": null,
      "overflow_x": null,
      "overflow_y": null,
      "padding": null,
      "right": null,
      "top": null,
      "visibility": null,
      "width": null
     }
    },
    "ebf2d0fd42ec46b79021cbf22c7134eb": {
     "model_module": "@jupyter-widgets/controls",
     "model_module_version": "1.5.0",
     "model_name": "HTMLModel",
     "state": {
      "_dom_classes": [],
      "_model_module": "@jupyter-widgets/controls",
      "_model_module_version": "1.5.0",
      "_model_name": "HTMLModel",
      "_view_count": null,
      "_view_module": "@jupyter-widgets/controls",
      "_view_module_version": "1.5.0",
      "_view_name": "HTMLView",
      "description": "",
      "description_tooltip": null,
      "layout": "IPY_MODEL_0343a3f55dfc41db83e2681cdbf5b552",
      "placeholder": "​",
      "style": "IPY_MODEL_b7c97b823ddc418b9544d3642241b901",
      "value": " 4996278331/4996278331 [02:43&lt;00:00, 30051572.34it/s]"
     }
    },
    "f3855ad3a05647eca952fd6c1fa65890": {
     "model_module": "@jupyter-widgets/base",
     "model_module_version": "1.2.0",
     "model_name": "LayoutModel",
     "state": {
      "_model_module": "@jupyter-widgets/base",
      "_model_module_version": "1.2.0",
      "_model_name": "LayoutModel",
      "_view_count": null,
      "_view_module": "@jupyter-widgets/base",
      "_view_module_version": "1.2.0",
      "_view_name": "LayoutView",
      "align_content": null,
      "align_items": null,
      "align_self": null,
      "border": null,
      "bottom": null,
      "display": null,
      "flex": null,
      "flex_flow": null,
      "grid_area": null,
      "grid_auto_columns": null,
      "grid_auto_flow": null,
      "grid_auto_rows": null,
      "grid_column": null,
      "grid_gap": null,
      "grid_row": null,
      "grid_template_areas": null,
      "grid_template_columns": null,
      "grid_template_rows": null,
      "height": null,
      "justify_content": null,
      "justify_items": null,
      "left": null,
      "margin": null,
      "max_height": null,
      "max_width": null,
      "min_height": null,
      "min_width": null,
      "object_fit": null,
      "object_position": null,
      "order": null,
      "overflow": null,
      "overflow_x": null,
      "overflow_y": null,
      "padding": null,
      "right": null,
      "top": null,
      "visibility": null,
      "width": null
     }
    },
    "f55e09af8de24e239f844ee3eaeec83c": {
     "model_module": "@jupyter-widgets/base",
     "model_module_version": "1.2.0",
     "model_name": "LayoutModel",
     "state": {
      "_model_module": "@jupyter-widgets/base",
      "_model_module_version": "1.2.0",
      "_model_name": "LayoutModel",
      "_view_count": null,
      "_view_module": "@jupyter-widgets/base",
      "_view_module_version": "1.2.0",
      "_view_name": "LayoutView",
      "align_content": null,
      "align_items": null,
      "align_self": null,
      "border": null,
      "bottom": null,
      "display": null,
      "flex": null,
      "flex_flow": null,
      "grid_area": null,
      "grid_auto_columns": null,
      "grid_auto_flow": null,
      "grid_auto_rows": null,
      "grid_column": null,
      "grid_gap": null,
      "grid_row": null,
      "grid_template_areas": null,
      "grid_template_columns": null,
      "grid_template_rows": null,
      "height": null,
      "justify_content": null,
      "justify_items": null,
      "left": null,
      "margin": null,
      "max_height": null,
      "max_width": null,
      "min_height": null,
      "min_width": null,
      "object_fit": null,
      "object_position": null,
      "order": null,
      "overflow": null,
      "overflow_x": null,
      "overflow_y": null,
      "padding": null,
      "right": null,
      "top": null,
      "visibility": null,
      "width": null
     }
    },
    "f7e0abed66f547b381367d1088609afa": {
     "model_module": "@jupyter-widgets/controls",
     "model_module_version": "1.5.0",
     "model_name": "ProgressStyleModel",
     "state": {
      "_model_module": "@jupyter-widgets/controls",
      "_model_module_version": "1.5.0",
      "_model_name": "ProgressStyleModel",
      "_view_count": null,
      "_view_module": "@jupyter-widgets/base",
      "_view_module_version": "1.2.0",
      "_view_name": "StyleView",
      "bar_color": null,
      "description_width": ""
     }
    },
    "fcb1682244624e9a9964835138eb73c2": {
     "model_module": "@jupyter-widgets/controls",
     "model_module_version": "1.5.0",
     "model_name": "DescriptionStyleModel",
     "state": {
      "_model_module": "@jupyter-widgets/controls",
      "_model_module_version": "1.5.0",
      "_model_name": "DescriptionStyleModel",
      "_view_count": null,
      "_view_module": "@jupyter-widgets/base",
      "_view_module_version": "1.2.0",
      "_view_name": "StyleView",
      "description_width": ""
     }
    },
    "fcd56549345d45afbebd34eb25362001": {
     "model_module": "@jupyter-widgets/base",
     "model_module_version": "1.2.0",
     "model_name": "LayoutModel",
     "state": {
      "_model_module": "@jupyter-widgets/base",
      "_model_module_version": "1.2.0",
      "_model_name": "LayoutModel",
      "_view_count": null,
      "_view_module": "@jupyter-widgets/base",
      "_view_module_version": "1.2.0",
      "_view_name": "LayoutView",
      "align_content": null,
      "align_items": null,
      "align_self": null,
      "border": null,
      "bottom": null,
      "display": null,
      "flex": null,
      "flex_flow": null,
      "grid_area": null,
      "grid_auto_columns": null,
      "grid_auto_flow": null,
      "grid_auto_rows": null,
      "grid_column": null,
      "grid_gap": null,
      "grid_row": null,
      "grid_template_areas": null,
      "grid_template_columns": null,
      "grid_template_rows": null,
      "height": null,
      "justify_content": null,
      "justify_items": null,
      "left": null,
      "margin": null,
      "max_height": null,
      "max_width": null,
      "min_height": null,
      "min_width": null,
      "object_fit": null,
      "object_position": null,
      "order": null,
      "overflow": null,
      "overflow_x": null,
      "overflow_y": null,
      "padding": null,
      "right": null,
      "top": null,
      "visibility": null,
      "width": null
     }
    },
    "fe9c8d6e062a449c915a313ada9dbd09": {
     "model_module": "@jupyter-widgets/controls",
     "model_module_version": "1.5.0",
     "model_name": "DescriptionStyleModel",
     "state": {
      "_model_module": "@jupyter-widgets/controls",
      "_model_module_version": "1.5.0",
      "_model_name": "DescriptionStyleModel",
      "_view_count": null,
      "_view_module": "@jupyter-widgets/base",
      "_view_module_version": "1.2.0",
      "_view_name": "StyleView",
      "description_width": ""
     }
    }
   }
  }
 },
 "nbformat": 4,
 "nbformat_minor": 4
}
